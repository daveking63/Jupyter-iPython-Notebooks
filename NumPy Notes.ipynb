{
 "cells": [
  {
   "cell_type": "markdown",
   "metadata": {},
   "source": [
    "Monday, July 30, 2018\n",
    "8:28 AM\n",
    "\n",
    "<h2>NumPy</h2>\n",
    "<p>\n",
    "In programming, an <i>array</i> is a \"collection of the same type data items that can be selected by indices computed at run-time.\"  In Python, arrays are not a fundamental data type like <i>lists</i> or <i>tuples</i>. While lists and tuples are often used for simple array manipulations (e.g. using an index to select an item at a particular position, my_list[3]), they lack support for standard array functionality like array multiplication or transposition. For manipulations of the latter sort, as well as for more advanced functionality, other modules or libraries are typically used.\n",
    "<p>\n",
    "One of the most widely used of these \"array modules\" is the <a href= \"http://numpy.org\">NumPy</a> module or library.  It is part of a larger \"ecosystem of open-source software for mathematics, science, and engineering\" called <a href= \"http://scipy.org\">SciPy</a> (pronounced “Sigh Pie”). It also includes the SciPy library, Matplotlib, IPython (now part of Jupyter), Sympy, and Pandas.\n",
    "<p>\n",
    "For those interested in data science (which is the underlying focus of this notebook, NumPy has at least 3 key elements:\n",
    "<ul>\n",
    "    <li> a powerful N-dimensional array object</li>\n",
    "    <li> a large collection of methods and functions for creating, managing and manipulating arrays</li>\n",
    "    <li> an extensive collection of mathematical and statistical operations on arrays</li>\n",
    "</ul>\n",
    "<p>\n",
    "What follows is a series of notes pertaining to the NumPy array object and associated functional capabilities. These notes are a compilation from a variety of documents and tutorials available at various web sites including the official documentation, reference, and tutorials for NumPy.\n",
    "    \n",
    "For \"official details\" on the objects, methods and functions in this note, as well as related topics, see\n",
    "<ul>\n",
    "    <li>https://docs.scipy.org/doc/numpy/</li>\n",
    "    <li>https://docs.scipy.org/doc/numpy/contents.html</li>\n",
    "</ul>\n",
    "\n",
    "<h3><a class=\"anchor\" id=\"toc\">Table of Contents</a></h3>\n",
    "\n",
    "1. [Creating Arrays](#Creating Arrays)<br>\n",
    "   [Manual Creation](#Manual)<br>\n",
    "   [Using Reshape](#Using Reshape)<br>\n",
    "   [Using Lists or Tuples](#Using Lists or Tuples)<br>\n",
    "   [Using Special Array Generators](#Using Special)<br>\n",
    "   [Array Attributes](#Array Attributes)<br>\n",
    "2. [Selecting and Setting Elements](#Selecting and Setting)<br>\n",
    "   [Selecting from 1 Dimensional](#Selecting 1d)<br>\n",
    "   [Selecting from 2 Dimensional Array](#Selecting 2d)<br>\n",
    "   [Selecting from 3 Dimensional Array](#Selecting 3d)<br>\n",
    "   [Selecting by Values](#Selecting by Values)<br>\n",
    "   [Setting Values for a Selection](#Setting Values)<br>\n",
    "3. [Manipulating and Converting Arrays](#Manip and Convert)<br>\n",
    "   [Manipulation: Methods for Restructuring an Existing Array](#Manip)<br>\n",
    "   [Manipulation: Methods for Adding or Removing Elements or SubArrays](#Add or Remove)<br>\n",
    "4. [Key Mathematical Operations](#Math and Stats)<br>\n",
    "   [Math and Stats on Individual Array](#Ops on Individual)<br>\n",
    "   [Rounding](#Rounding)<br>\n",
    "   [Math and Stats on Pairs of Arrays](#Ops on Pairs)<br>\n",
    "   [Math and Stats on Specified Axis of an Individual Array](#Ops on Axis)<br>\n"
   ]
  },
  {
   "cell_type": "code",
   "execution_count": 1,
   "metadata": {},
   "outputs": [],
   "source": [
    "from IPython.core.interactiveshell import InteractiveShell\n",
    "InteractiveShell.ast_node_interactivity = \"all\""
   ]
  },
  {
   "cell_type": "markdown",
   "metadata": {},
   "source": [
    "<a class=\"anchor\" id=\"Creating Arrays\"></a>\n",
    "<h3>Creating an Numpy Array</h3>\n",
    "* [Return to TOC](#toc)\n",
    "\n",
    "\"NumPy’s main object is the <i>homogeneous</i> multidimensional array. It is a table of <i>elements</i> (usually numbers), all of the same type, indexed by a tuple of positive integers. In NumPy dimensions are called <i>axes</i>.\"\n",
    "\n",
    "Some of the more frequent <i>data types</i> include:\n",
    "<ul>\n",
    "<li><i>Integers</i>: int\\_, int8 (byte), int16, int32, int64. The default is either int32 or int64.</li>\n",
    "<li><i>Unsigned Integers</i>: uint8, uint16, uint32, uint64</li>\n",
    "<li><i>Float:</i> float\\_, float16, float32, float64. The default is float32.</li>\n",
    "<li><i>Complex</i>: complex\\_, complex64, complex128</li>\n",
    "<li><i>String</i>: <Un ( fixed-width byte strings, e.g. <U4 ~ 4 max 4 characters in string)</li>\n",
    "<li><i>Boolean</i>: bool_</li>\n",
    "</ul>\n",
    "\n",
    "In order to use NumPy you first have to <b>import</b> it. Once imported, it can be used to create an array by: \n",
    "\n",
    "<ul>\n",
    "    <li>using the numpy.array method or function and entering each of the elements manually</li>\n",
    "    <li>transforming an existing list or tuple into an array</li>\n",
    "    <li>employing a number of special generators methods or functions</li>\n",
    "</ul>"
   ]
  },
  {
   "cell_type": "code",
   "execution_count": 2,
   "metadata": {},
   "outputs": [],
   "source": [
    "import numpy as np "
   ]
  },
  {
   "cell_type": "markdown",
   "metadata": {},
   "source": [
    "<a class=\"anchor\" id=\"Manual\"></a>\n",
    "<h4>Manual Creation: Using the <i>array</i> method</h4>\n",
    "* [Return to TOC](#toc)\n",
    "\n",
    "The most straightforward way to create an array is to use the \"array\" method and type in the contents manually. The syntax is: np.array([<cell contents>]). Here, the cell contents varies depending on the structure of the array being created. The following examples illustrate the creation of a 1, 2, and 3 dimensional numeric array as well as a string array."
   ]
  },
  {
   "cell_type": "code",
   "execution_count": 3,
   "metadata": {},
   "outputs": [
    {
     "name": "stdout",
     "output_type": "stream",
     "text": [
      "Create 1d array: my_arr = np.array([1,2,3,4,5,6]) - with 6 elements\n"
     ]
    },
    {
     "data": {
      "text/plain": [
       "array([1, 2, 3, 4, 5, 6])"
      ]
     },
     "execution_count": 3,
     "metadata": {},
     "output_type": "execute_result"
    },
    {
     "name": "stdout",
     "output_type": "stream",
     "text": [
      "Create 2d array: my_2d_arr = np.array([(1, 2, 3), (4, 5, 6)]) - with 2 rows and 3 cols\n"
     ]
    },
    {
     "data": {
      "text/plain": [
       "array([[1, 2, 3],\n",
       "       [4, 5, 6]])"
      ]
     },
     "execution_count": 3,
     "metadata": {},
     "output_type": "execute_result"
    },
    {
     "name": "stdout",
     "output_type": "stream",
     "text": [
      "Create 3d array: my_3d_arr = np.array([((1, 2, 3),(4, 5, 6)),((7, 8, 9),(10, 11, 12))]) - with (2*2*3) elements\n"
     ]
    },
    {
     "data": {
      "text/plain": [
       "array([[[ 1,  2,  3],\n",
       "        [ 4,  5,  6]],\n",
       "\n",
       "       [[ 7,  8,  9],\n",
       "        [10, 11, 12]]])"
      ]
     },
     "execution_count": 3,
     "metadata": {},
     "output_type": "execute_result"
    },
    {
     "name": "stdout",
     "output_type": "stream",
     "text": [
      "Create string array: my_string_array = np.array(['abc','def','ghi']) - with 3 elements\n"
     ]
    },
    {
     "data": {
      "text/plain": [
       "array(['abc', 'def', 'ghi'], dtype='<U3')"
      ]
     },
     "execution_count": 3,
     "metadata": {},
     "output_type": "execute_result"
    }
   ],
   "source": [
    "# Manual Creation\n",
    "\n",
    "print('Create 1d array: my_arr = np.array([1,2,3,4,5,6]) - with 6 elements')\n",
    "my_arr = np.array([1,2,3,4,5,6])\n",
    "my_arr\n",
    "\n",
    "print('Create 2d array: my_2d_arr = np.array([(1, 2, 3), (4, 5, 6)]) - with 2 rows and 3 cols')\n",
    "my_2d_arr = np.array([(1, 2, 3), (4, 5, 6)])\n",
    "my_2d_arr\n",
    "\n",
    "print('Create 3d array: my_3d_arr = np.array([((1, 2, 3),(4, 5, 6)),((7, 8, 9),(10, 11, 12))]) - with (2*2*3) elements')\n",
    "my_3d_arr = np.array([((1, 2, 3),(4, 5, 6)),((7, 8, 9),(10, 11, 12))])\n",
    "my_3d_arr\n",
    "\n",
    "print(\"Create string array: my_string_array = np.array(['abc','def','ghi']) - with 3 elements\")\n",
    "my_string_array = np.array(['abc','def','ghi'])\n",
    "my_string_array"
   ]
  },
  {
   "cell_type": "markdown",
   "metadata": {},
   "source": [
    "<a class=\"anchor\" id=\"Using Lists or Tuples\"></a>\n",
    "<h4>Using Lists or Tuples</h4>\n",
    "* [Return to TOC](#toc)"
   ]
  },
  {
   "cell_type": "code",
   "execution_count": 4,
   "metadata": {},
   "outputs": [
    {
     "name": "stdout",
     "output_type": "stream",
     "text": [
      "Converting a list - my_list = [1,2,3,4,5,6] \n",
      "into an array - my_list_arr = np.array(my_list)\n"
     ]
    },
    {
     "data": {
      "text/plain": [
       "array([1, 2, 3, 4, 5, 6])"
      ]
     },
     "execution_count": 4,
     "metadata": {},
     "output_type": "execute_result"
    },
    {
     "name": "stdout",
     "output_type": "stream",
     "text": [
      "Converting a tuple - my_tuple = (1,2,3,4,5,6)\n",
      "into an array - my_tuple_arr = np.array(my_tuple)\n"
     ]
    },
    {
     "data": {
      "text/plain": [
       "array([1, 2, 3, 4, 5, 6])"
      ]
     },
     "execution_count": 4,
     "metadata": {},
     "output_type": "execute_result"
    }
   ],
   "source": [
    "print('Converting a list - my_list = [1,2,3,4,5,6] ')\n",
    "my_list = [1,2,3,4,5,6]\n",
    "\n",
    "print('into an array - my_list_arr = np.array(my_list)')\n",
    "my_list_arr = np.array(my_list)\n",
    "my_list_arr\n",
    "\n",
    "print('Converting a tuple - my_tuple = (1,2,3,4,5,6)')\n",
    "my_tuple = (1,2,3,4,5,6)\n",
    "\n",
    "print('into an array - my_tuple_arr = np.array(my_tuple)')\n",
    "my_tuple_arr = np.array(my_tuple)\n",
    "my_tuple_arr"
   ]
  },
  {
   "cell_type": "markdown",
   "metadata": {},
   "source": [
    "<a class=\"anchor\" id=\"Using Special\"></a>\n",
    "<h4>Using Special Array Generators:</h4>\n",
    "\n",
    "Including arange, zeros, ones, empty, fill, and random numbers.\n",
    "* [Return to TOC](#toc)"
   ]
  },
  {
   "cell_type": "code",
   "execution_count": 5,
   "metadata": {},
   "outputs": [
    {
     "name": "stdout",
     "output_type": "stream",
     "text": [
      "Create array of integers:  my_range_arr1 = np.arange(1, 7, 1) - start at 1, end at 6 = 7-1, steps of 1\n"
     ]
    },
    {
     "data": {
      "text/plain": [
       "array([1, 2, 3, 4, 5, 6])"
      ]
     },
     "execution_count": 5,
     "metadata": {},
     "output_type": "execute_result"
    },
    {
     "name": "stdout",
     "output_type": "stream",
     "text": [
      "Create array of integers: my_range_arr2 = np.arange(6) - start at 0, end at 5 = 6-1\n"
     ]
    },
    {
     "data": {
      "text/plain": [
       "array([0, 1, 2, 3, 4, 5])"
      ]
     },
     "execution_count": 5,
     "metadata": {},
     "output_type": "execute_result"
    },
    {
     "name": "stdout",
     "output_type": "stream",
     "text": [
      "Create array of floats: my_range_arr3 = np.arange(0,7,.5) - start at 0.0, end at 6.5 = 7.0-0.5, steps of .5\n"
     ]
    },
    {
     "data": {
      "text/plain": [
       "array([0. , 0.5, 1. , 1.5, 2. , 2.5, 3. , 3.5, 4. , 4.5, 5. , 5.5, 6. ,\n",
       "       6.5])"
      ]
     },
     "execution_count": 5,
     "metadata": {},
     "output_type": "execute_result"
    }
   ],
   "source": [
    "# Create a range of values - np.arange(*start,stop,*step) - * implies it is optional\n",
    "\n",
    "print('Create array of integers:  my_range_arr1 = np.arange(1, 7, 1) - start at 1, end at 6 = 7-1, steps of 1')\n",
    "my_range_arr1 = np.arange(1, 7, 1)\n",
    "my_range_arr1\n",
    "\n",
    "print('Create array of integers: my_range_arr2 = np.arange(6) - start at 0, end at 5 = 6-1')\n",
    "my_range_arr2 = np.arange(6)\n",
    "my_range_arr2\n",
    "\n",
    "print('Create array of floats: my_range_arr3 = np.arange(0,7,.5) - start at 0.0, end at 6.5 = 7.0-0.5, steps of .5')\n",
    "my_range_arr3 = np.arange(0,7,.5)\n",
    "my_range_arr3"
   ]
  },
  {
   "cell_type": "code",
   "execution_count": 6,
   "metadata": {},
   "outputs": [
    {
     "name": "stdout",
     "output_type": "stream",
     "text": [
      "Create array zeros:  my_zero_arr = np.zeros((6)) - with 6 floats\n"
     ]
    },
    {
     "data": {
      "text/plain": [
       "array([0., 0., 0., 0., 0., 0.])"
      ]
     },
     "execution_count": 6,
     "metadata": {},
     "output_type": "execute_result"
    },
    {
     "name": "stdout",
     "output_type": "stream",
     "text": [
      "Create array of zeros: my_zero_arr2 = np.zeros((6), dtype=np.int16 ) - with 6 \"int16\"s\n"
     ]
    },
    {
     "data": {
      "text/plain": [
       "array([0, 0, 0, 0, 0, 0], dtype=int16)"
      ]
     },
     "execution_count": 6,
     "metadata": {},
     "output_type": "execute_result"
    },
    {
     "name": "stdout",
     "output_type": "stream",
     "text": [
      " Create array of ones: my_ones_arr = np.ones((6)) - with 6 floats\n"
     ]
    },
    {
     "data": {
      "text/plain": [
       "array([1., 1., 1., 1., 1., 1.])"
      ]
     },
     "execution_count": 6,
     "metadata": {},
     "output_type": "execute_result"
    },
    {
     "name": "stdout",
     "output_type": "stream",
     "text": [
      "Create empty array:  my_empty_arr = np.empty((6)) - with space for 6 elements, the values are meaningless\n"
     ]
    },
    {
     "data": {
      "text/plain": [
       "array([1., 1., 1., 1., 1., 1.])"
      ]
     },
     "execution_count": 6,
     "metadata": {},
     "output_type": "execute_result"
    },
    {
     "name": "stdout",
     "output_type": "stream",
     "text": [
      "Create array filled with specified value: my_full_arr = np.full(6,10) - 6 elements with integer value of 10\n"
     ]
    },
    {
     "data": {
      "text/plain": [
       "array([10, 10, 10, 10, 10, 10])"
      ]
     },
     "execution_count": 6,
     "metadata": {},
     "output_type": "execute_result"
    }
   ],
   "source": [
    "# Methods to initialize the elements of an array to a constant value\n",
    "\n",
    "print('Create array zeros:  my_zero_arr = np.zeros((6)) - with 6 floats')\n",
    "my_zero_arr = np.zeros((6))\n",
    "my_zero_arr\n",
    "\n",
    "print('Create array of zeros: my_zero_arr2 = np.zeros((6), dtype=np.int16 ) - with 6 \"int16\"s')\n",
    "my_zero_arr2 = np.zeros((6), dtype=np.int16 )\n",
    "my_zero_arr2\n",
    "\n",
    "print(' Create array of ones: my_ones_arr = np.ones((6)) - with 6 floats')\n",
    "my_ones_arr = np.ones((6))\n",
    "my_ones_arr\n",
    "\n",
    "print('Create empty array:  my_empty_arr = np.empty((6)) - with space for 6 elements, the values are meaningless')\n",
    "my_empty_arr = np.empty((6))\n",
    "my_empty_arr\n",
    "\n",
    "print('Create array filled with specified value: my_full_arr = np.full(6,10) - 6 elements with integer value of 10')\n",
    "my_full_arr = np.full(6,10)\n",
    "my_full_arr"
   ]
  },
  {
   "cell_type": "code",
   "execution_count": 7,
   "metadata": {
    "scrolled": true
   },
   "outputs": [
    {
     "name": "stdout",
     "output_type": "stream",
     "text": [
      " Create 1d array of random floats: my_rand_arr = np.random.random_sample(6) - 6 between 0.0 and 1.0\n"
     ]
    },
    {
     "data": {
      "text/plain": [
       "array([0.08274712, 0.98445778, 0.77342933, 0.6393075 , 0.52651517,\n",
       "       0.42488631])"
      ]
     },
     "execution_count": 7,
     "metadata": {},
     "output_type": "execute_result"
    },
    {
     "name": "stdout",
     "output_type": "stream",
     "text": [
      "Create 1d array of random floats: my_rand_arr2 = (6-1) * np.random.random_sample(6) + 1 - 6 in interval 1 to 6\n"
     ]
    },
    {
     "data": {
      "text/plain": [
       "array([3.46826914, 3.69781857, 3.84392569, 3.70871927, 4.43214228,\n",
       "       2.57490267])"
      ]
     },
     "execution_count": 7,
     "metadata": {},
     "output_type": "execute_result"
    },
    {
     "name": "stdout",
     "output_type": "stream",
     "text": [
      "Create 1d array random integers: my_randints_arr = np.random.randint(1, 6, size=6) - 6 between 1 and 5\n"
     ]
    },
    {
     "data": {
      "text/plain": [
       "array([3, 2, 3, 3, 4, 5])"
      ]
     },
     "execution_count": 7,
     "metadata": {},
     "output_type": "execute_result"
    },
    {
     "name": "stdout",
     "output_type": "stream",
     "text": [
      "Create 2d array of random integers: my_2d_rand_arr = np.random.randint(9, size=(3, 3)) - 9 between 1 and 8\n"
     ]
    },
    {
     "data": {
      "text/plain": [
       "array([[0, 1, 7],\n",
       "       [8, 4, 5],\n",
       "       [8, 1, 1]])"
      ]
     },
     "execution_count": 7,
     "metadata": {},
     "output_type": "execute_result"
    }
   ],
   "source": [
    "# Create an array filled with random numbers from uniform distribution\n",
    "\n",
    "print(' Create 1d array of random floats: my_rand_arr = np.random.random_sample(6) - 6 between 0.0 and 1.0')\n",
    "my_rand_arr = np.random.random_sample(6)\n",
    "my_rand_arr\n",
    "\n",
    "print('Create 1d array of random floats: my_rand_arr2 = (6-1) * np.random.random_sample(6) + 1 - 6 in interval 1 to 6')\n",
    "my_rand_arr2 = (6-1) * np.random.random_sample(6) + 1 # 6 random floats from interval (b - a) * random_sample() + a\n",
    "my_rand_arr2\n",
    "\n",
    "print('Create 1d array random integers: my_randints_arr = np.random.randint(1, 6, size=6) - 6 between 1 and 5')\n",
    "my_randints_arr = np.random.randint(1, 6, size=6) # - array of 6 random integers between 1 and 6 from uniform distribution\n",
    "my_randints_arr\n",
    "\n",
    "print('Create 2d array of random integers: my_2d_rand_arr = np.random.randint(9, size=(3, 3)) - 9 between 1 and 8')\n",
    "my_2d_rand_arr = np.random.randint(9, size=(3, 3))\n",
    "my_2d_rand_arr"
   ]
  },
  {
   "cell_type": "markdown",
   "metadata": {},
   "source": [
    "<a class=\"anchor\" id=\"Array Attributes\"></a>\n",
    "<h4>Array Attributes</h4>\n",
    "* [Return to TOC](#toc)\n",
    "\n",
    "Array attributes \"reflect information that is intrinsic to the array itself.\" Among the key attributes are:\n",
    "\n",
    "<ul>\n",
    "<li>ndim: Number of array dimensions.</li>\n",
    "<li>shape: Tuple of array dimensions.</li>\n",
    "<li>size: Total number of elements across all dimensions in the array.</li>\n",
    "<li>itemsize: Length of one array element in bytes.</li>\n",
    "<li>nbytes: Total bytes consumed by the elements of the array.</li>\n",
    "</ul>"
   ]
  },
  {
   "cell_type": "code",
   "execution_count": 8,
   "metadata": {},
   "outputs": [
    {
     "name": "stdout",
     "output_type": "stream",
     "text": [
      "Attributes for the arrays: my_arr, my_2d_arr, my_3d_arr \n",
      "\n",
      "Number of dimensions: my_arr.ndim, my_2d_arr.ndim, my_3d_arr.ndim\n"
     ]
    },
    {
     "data": {
      "text/plain": [
       "(1, 2, 3)"
      ]
     },
     "execution_count": 8,
     "metadata": {},
     "output_type": "execute_result"
    },
    {
     "name": "stdout",
     "output_type": "stream",
     "text": [
      "Number of elements in each dimension: my_arr.shape, my_2d_arr.shape, my_3d_arr.shape \n"
     ]
    },
    {
     "data": {
      "text/plain": [
       "((6,), (2, 3), (2, 2, 3))"
      ]
     },
     "execution_count": 8,
     "metadata": {},
     "output_type": "execute_result"
    },
    {
     "name": "stdout",
     "output_type": "stream",
     "text": [
      "Total number of elements across all dimensions: my_arr.size, my_2d_arr.size, my_3d_arr.size\n"
     ]
    },
    {
     "data": {
      "text/plain": [
       "(6, 6, 12)"
      ]
     },
     "execution_count": 8,
     "metadata": {},
     "output_type": "execute_result"
    },
    {
     "name": "stdout",
     "output_type": "stream",
     "text": [
      "Length of one array element in bytes: my_arr.itemsize, my_2d_arr.itemsize, my_3d_arr.itemsize\n"
     ]
    },
    {
     "data": {
      "text/plain": [
       "(4, 4, 4)"
      ]
     },
     "execution_count": 8,
     "metadata": {},
     "output_type": "execute_result"
    },
    {
     "name": "stdout",
     "output_type": "stream",
     "text": [
      "Total bytes in array: my_arr.nbytes, my_2d_arr.nbytes, my_3d_arr.nbytes\n"
     ]
    },
    {
     "data": {
      "text/plain": [
       "(24, 24, 48)"
      ]
     },
     "execution_count": 8,
     "metadata": {},
     "output_type": "execute_result"
    }
   ],
   "source": [
    "# Display attributes for 1d, 2d, and 3d arrays (created in earlier steps)\n",
    "\n",
    "print('Attributes for the arrays: my_arr, my_2d_arr, my_3d_arr','\\n')\n",
    "\n",
    "print('Number of dimensions: my_arr.ndim, my_2d_arr.ndim, my_3d_arr.ndim')\n",
    "my_arr.ndim, my_2d_arr.ndim, my_3d_arr.ndim\n",
    "\n",
    "print('Number of elements in each dimension: my_arr.shape, my_2d_arr.shape, my_3d_arr.shape ')\n",
    "my_arr.shape, my_2d_arr.shape, my_3d_arr.shape \n",
    "\n",
    "print('Total number of elements across all dimensions: my_arr.size, my_2d_arr.size, my_3d_arr.size')\n",
    "my_arr.size, my_2d_arr.size, my_3d_arr.size\n",
    "\n",
    "print('Length of one array element in bytes: my_arr.itemsize, my_2d_arr.itemsize, my_3d_arr.itemsize')\n",
    "my_arr.itemsize, my_2d_arr.itemsize, my_3d_arr.itemsize\n",
    "\n",
    "print('Total bytes in array: my_arr.nbytes, my_2d_arr.nbytes, my_3d_arr.nbytes')\n",
    "my_arr.nbytes, my_2d_arr.nbytes, my_3d_arr.nbytes\n"
   ]
  },
  {
   "cell_type": "markdown",
   "metadata": {},
   "source": [
    "<a class=\"anchor\" id=\"Selecting and Setting\"></a>\n",
    "<h3>Selecting and Setting the Elements of an Array</h3>\n",
    "* [Return to TOC](#toc)\n",
    "\n",
    "Like the elements of a list and tuple, indexing can be used to select the elements of an array.  For one dimensional arrays, the selection works exactly the same as a list/tuple, by specifying the index or indices of the desired elements. It is important to remember that indexing starts with 0 rather than 1. For arrays with 2 or more dimensions, additional indices must be specified for each dimension."
   ]
  },
  {
   "cell_type": "markdown",
   "metadata": {},
   "source": [
    "<a class=\"anchor\" id=\"Selecting 1d\"></a>\n",
    "<h4>Selection for a one dimensional array</h4>\n",
    "* [Return to TOC](#toc)"
   ]
  },
  {
   "cell_type": "code",
   "execution_count": 9,
   "metadata": {},
   "outputs": [
    {
     "name": "stdout",
     "output_type": "stream",
     "text": [
      "Create array: my_arr2 = np.array([10, 20, 30, 40, 50, 60])\n"
     ]
    },
    {
     "data": {
      "text/plain": [
       "array([10, 20, 30, 40, 50, 60])"
      ]
     },
     "execution_count": 9,
     "metadata": {},
     "output_type": "execute_result"
    },
    {
     "name": "stdout",
     "output_type": "stream",
     "text": [
      "Select first element: my_arr2[0] - 0th position\n"
     ]
    },
    {
     "data": {
      "text/plain": [
       "10"
      ]
     },
     "execution_count": 9,
     "metadata": {},
     "output_type": "execute_result"
    },
    {
     "name": "stdout",
     "output_type": "stream",
     "text": [
      "Select 5th element: my_arr2[5]\n"
     ]
    },
    {
     "data": {
      "text/plain": [
       "60"
      ]
     },
     "execution_count": 9,
     "metadata": {},
     "output_type": "execute_result"
    },
    {
     "name": "stdout",
     "output_type": "stream",
     "text": [
      "Select range of elements: my_arr2[1:5:2] - starting at 1, ending at 5, in steps of 2\n"
     ]
    },
    {
     "data": {
      "text/plain": [
       "array([20, 40])"
      ]
     },
     "execution_count": 9,
     "metadata": {},
     "output_type": "execute_result"
    }
   ],
   "source": [
    "# first creating an array\n",
    "\n",
    "print('Create array: my_arr2 = np.array([10, 20, 30, 40, 50, 60])')\n",
    "my_arr2 = np.array([10, 20, 30, 40, 50, 60])\n",
    "my_arr2\n",
    "\n",
    "print('Select first element: my_arr2[0] - 0th position')\n",
    "my_arr2[0]\n",
    "\n",
    "print('Select 5th element: my_arr2[5]')\n",
    "my_arr2[5]\n",
    "\n",
    "print('Select range of elements: my_arr2[1:5:2] - starting at 1, ending at 5, in steps of 2')\n",
    "my_arr2[1:5:2]"
   ]
  },
  {
   "cell_type": "markdown",
   "metadata": {},
   "source": [
    "<a class=\"anchor\" id=\"Selecting 2d\"></a>\n",
    "<h4>Selection for a two dimensional array</h4>\n",
    "* [Return to TOC](#toc)"
   ]
  },
  {
   "cell_type": "code",
   "execution_count": 10,
   "metadata": {},
   "outputs": [
    {
     "name": "stdout",
     "output_type": "stream",
     "text": [
      "Selections for 2d array: my_2d_arr2\n"
     ]
    },
    {
     "data": {
      "text/plain": [
       "array([[1, 2, 3],\n",
       "       [4, 5, 6],\n",
       "       [7, 8, 9]])"
      ]
     },
     "execution_count": 10,
     "metadata": {},
     "output_type": "execute_result"
    },
    {
     "name": "stdout",
     "output_type": "stream",
     "text": [
      "Selection: my_2d_arr2[0][2] - select element in row 0 & col 2\n"
     ]
    },
    {
     "data": {
      "text/plain": [
       "3"
      ]
     },
     "execution_count": 10,
     "metadata": {},
     "output_type": "execute_result"
    },
    {
     "name": "stdout",
     "output_type": "stream",
     "text": [
      "Selection: my_2d_arr2[0,2] - select element in row 0 & col 2 - same as above\n"
     ]
    },
    {
     "data": {
      "text/plain": [
       "3"
      ]
     },
     "execution_count": 10,
     "metadata": {},
     "output_type": "execute_result"
    },
    {
     "name": "stdout",
     "output_type": "stream",
     "text": [
      "Selection: my_2d_arr2[:2] - select rows up to but not including row 2\n"
     ]
    },
    {
     "data": {
      "text/plain": [
       "array([[1, 2, 3],\n",
       "       [4, 5, 6]])"
      ]
     },
     "execution_count": 10,
     "metadata": {},
     "output_type": "execute_result"
    },
    {
     "name": "stdout",
     "output_type": "stream",
     "text": [
      "Selection: my_2d_arr2[:2,:1] - select rows up to but not including 2 and col 0\n"
     ]
    },
    {
     "data": {
      "text/plain": [
       "array([[1],\n",
       "       [4]])"
      ]
     },
     "execution_count": 10,
     "metadata": {},
     "output_type": "execute_result"
    },
    {
     "name": "stdout",
     "output_type": "stream",
     "text": [
      "Selection: my_2d_arr2[:2, 1:] - select rows up to but not including 2 and cols from 1 on\n"
     ]
    },
    {
     "data": {
      "text/plain": [
       "array([[2, 3],\n",
       "       [5, 6]])"
      ]
     },
     "execution_count": 10,
     "metadata": {},
     "output_type": "execute_result"
    }
   ],
   "source": [
    "print('Selections for 2d array: my_2d_arr2')\n",
    "my_2d_arr2 = np.array([[1,2,3],[4,5,6],[7,8,9]])\n",
    "my_2d_arr2\n",
    "\n",
    "print('Selection: my_2d_arr2[0][2] - select element in row 0 & col 2')\n",
    "my_2d_arr2[0][2]\n",
    "\n",
    "print('Selection: my_2d_arr2[0,2] - select element in row 0 & col 2 - same as above')\n",
    "my_2d_arr2[0,2]\n",
    "\n",
    "print('Selection: my_2d_arr2[:2] - select rows up to but not including row 2')\n",
    "my_2d_arr2[:2]\n",
    "\n",
    "print('Selection: my_2d_arr2[:2,:1] - select rows up to but not including 2 and col 0')\n",
    "my_2d_arr2[:2,:1]\n",
    "\n",
    "print('Selection: my_2d_arr2[:2, 1:] - select rows up to but not including 2 and cols from 1 on')\n",
    "my_2d_arr2[:2, 1:]"
   ]
  },
  {
   "cell_type": "markdown",
   "metadata": {},
   "source": [
    "<a class=\"anchor\" id=\"Selecting 3d\"></a>\n",
    "<h4>Selection for a three dimensional array</h4>\n",
    "* [Return to TOC](#toc)"
   ]
  },
  {
   "cell_type": "code",
   "execution_count": 11,
   "metadata": {},
   "outputs": [
    {
     "name": "stdout",
     "output_type": "stream",
     "text": [
      "Selections for 3d (2,2,3) array: my_3d_arr2\n"
     ]
    },
    {
     "data": {
      "text/plain": [
       "array([[[ 1,  2,  3],\n",
       "        [ 4,  5,  6]],\n",
       "\n",
       "       [[ 7,  8,  9],\n",
       "        [10, 11, 12]]])"
      ]
     },
     "execution_count": 11,
     "metadata": {},
     "output_type": "execute_result"
    },
    {
     "name": "stdout",
     "output_type": "stream",
     "text": [
      "Selection:  my_3d_arr[0][1][2] - element whose indices are 0, 1, & 2 for the 1st, 2nd and 3rd dims\n"
     ]
    },
    {
     "data": {
      "text/plain": [
       "6"
      ]
     },
     "execution_count": 11,
     "metadata": {},
     "output_type": "execute_result"
    },
    {
     "name": "stdout",
     "output_type": "stream",
     "text": [
      "Selection: my_3d_arr[0, 1, 2] - element whose indices are 0, 1, & 2 for the 1st, 2nd and 3rd dims\n"
     ]
    },
    {
     "data": {
      "text/plain": [
       "6"
      ]
     },
     "execution_count": 11,
     "metadata": {},
     "output_type": "execute_result"
    },
    {
     "name": "stdout",
     "output_type": "stream",
     "text": [
      "Selection: my_3d_arr[:1,0:,:2] - element whose indices are <1 in 1st dim, 0 and above in 2nd dim, <2 in 3rd dim\n"
     ]
    },
    {
     "data": {
      "text/plain": [
       "array([[[1, 2],\n",
       "        [4, 5]]])"
      ]
     },
     "execution_count": 11,
     "metadata": {},
     "output_type": "execute_result"
    }
   ],
   "source": [
    "print('Selections for 3d (2,2,3) array: my_3d_arr2')\n",
    "my_3d_arr\n",
    "\n",
    "# Selecting elements in 3d array\n",
    "print('Selection:  my_3d_arr[0][1][2] - element whose indices are 0, 1, & 2 for the 1st, 2nd and 3rd dims')\n",
    "my_3d_arr[0][1][2] # selecting 0th element in 1st dim, 1st element in 2nd dim, and 2nd1 element in 3rd dim \n",
    "\n",
    "print('Selection: my_3d_arr[0, 1, 2] - element whose indices are 0, 1, & 2 for the 1st, 2nd and 3rd dims')\n",
    "my_3d_arr[0, 1, 2]\n",
    "\n",
    "print('Selection: my_3d_arr[:1,0:,:2] - element whose indices are <1 in 1st dim, 0 and above in 2nd dim, <2 in 3rd dim')\n",
    "my_3d_arr[:1,0:,:2]"
   ]
  },
  {
   "cell_type": "markdown",
   "metadata": {},
   "source": [
    "<a class=\"anchor\" id=\"Selecting by Values\"></a>\n",
    "<h4>Selecting Elements based on their Values</h4>\n",
    "* [Return to TOC](#toc)\n",
    "\n",
    "In these cases the selection of an element is generally made on the basis of a boolean or logical comparison (e.g. x == value, x != value, x > value, etc.).  While there is a finite number of logical operators, the \"x\" in the comparisons can be virtually anything. "
   ]
  },
  {
   "cell_type": "code",
   "execution_count": 12,
   "metadata": {},
   "outputs": [
    {
     "name": "stdout",
     "output_type": "stream",
     "text": [
      "From 1d array:\n"
     ]
    },
    {
     "data": {
      "text/plain": [
       "array([1, 2, 3, 4, 5, 6])"
      ]
     },
     "execution_count": 12,
     "metadata": {},
     "output_type": "execute_result"
    },
    {
     "name": "stdout",
     "output_type": "stream",
     "text": [
      "Select values less than 4: my_arr[my_arr < 4]\n"
     ]
    },
    {
     "data": {
      "text/plain": [
       "array([1, 2, 3])"
      ]
     },
     "execution_count": 12,
     "metadata": {},
     "output_type": "execute_result"
    },
    {
     "name": "stdout",
     "output_type": "stream",
     "text": [
      "From 2d array:\n"
     ]
    },
    {
     "data": {
      "text/plain": [
       "array([[1, 2, 3],\n",
       "       [4, 5, 6]])"
      ]
     },
     "execution_count": 12,
     "metadata": {},
     "output_type": "execute_result"
    },
    {
     "name": "stdout",
     "output_type": "stream",
     "text": [
      "Select values greater than or equal to 3: my_2d_arr[my_2d_arr >= 3]\n"
     ]
    },
    {
     "data": {
      "text/plain": [
       "array([3, 4, 5, 6])"
      ]
     },
     "execution_count": 12,
     "metadata": {},
     "output_type": "execute_result"
    },
    {
     "name": "stdout",
     "output_type": "stream",
     "text": [
      "From 3d array:\n"
     ]
    },
    {
     "data": {
      "text/plain": [
       "array([[[ 1,  2,  3],\n",
       "        [ 4,  5,  6]],\n",
       "\n",
       "       [[ 7,  8,  9],\n",
       "        [10, 11, 12]]])"
      ]
     },
     "execution_count": 12,
     "metadata": {},
     "output_type": "execute_result"
    },
    {
     "name": "stdout",
     "output_type": "stream",
     "text": [
      "Select values != 6: my_3d_arr[my_3d_arr != 6] - i.e. not equal to 6\n"
     ]
    },
    {
     "data": {
      "text/plain": [
       "array([ 1,  2,  3,  4,  5,  7,  8,  9, 10, 11, 12])"
      ]
     },
     "execution_count": 12,
     "metadata": {},
     "output_type": "execute_result"
    }
   ],
   "source": [
    "# Selections based on numerical value\n",
    "\n",
    "print('From 1d array:')\n",
    "my_arr\n",
    "print('Select values less than 4: my_arr[my_arr < 4]')\n",
    "my_arr[my_arr < 4]\n",
    "\n",
    "print(\"From 2d array:\")\n",
    "my_2d_arr\n",
    "print('Select values greater than or equal to 3: my_2d_arr[my_2d_arr >= 3]')\n",
    "my_2d_arr[my_2d_arr >= 3]\n",
    "\n",
    "print(\"From 3d array:\")\n",
    "my_3d_arr\n",
    "print('Select values != 6: my_3d_arr[my_3d_arr != 6] - i.e. not equal to 6')\n",
    "my_3d_arr[my_3d_arr != 6]"
   ]
  },
  {
   "cell_type": "code",
   "execution_count": 13,
   "metadata": {},
   "outputs": [
    {
     "name": "stdout",
     "output_type": "stream",
     "text": [
      "Starting numerical 1d my_arr\n"
     ]
    },
    {
     "data": {
      "text/plain": [
       "array([1, 2, 3, 4, 5, 6])"
      ]
     },
     "execution_count": 13,
     "metadata": {},
     "output_type": "execute_result"
    },
    {
     "name": "stdout",
     "output_type": "stream",
     "text": [
      "Starting 1d my_locs_arr:\n"
     ]
    },
    {
     "data": {
      "text/plain": [
       "array(['East', 'East', 'West', 'West', 'East', 'West'], dtype='<U4')"
      ]
     },
     "execution_count": 13,
     "metadata": {},
     "output_type": "execute_result"
    },
    {
     "name": "stdout",
     "output_type": "stream",
     "text": [
      "Numerical values in my_arr whose indices are same as those of \"East\" in my_locs_arr\n"
     ]
    },
    {
     "data": {
      "text/plain": [
       "array([1, 2, 5])"
      ]
     },
     "execution_count": 13,
     "metadata": {},
     "output_type": "execute_result"
    },
    {
     "name": "stdout",
     "output_type": "stream",
     "text": [
      "Boolean array: my_bool_arr - True if East and False otherwise\n"
     ]
    },
    {
     "data": {
      "text/plain": [
       "array([ True,  True, False, False,  True, False])"
      ]
     },
     "execution_count": 13,
     "metadata": {},
     "output_type": "execute_result"
    },
    {
     "name": "stdout",
     "output_type": "stream",
     "text": [
      "Numerical values in my_arr whose indices are the same as those of \"True\" in my_bool_arr\n"
     ]
    },
    {
     "data": {
      "text/plain": [
       "array([1, 2, 5])"
      ]
     },
     "execution_count": 13,
     "metadata": {},
     "output_type": "execute_result"
    }
   ],
   "source": [
    "# Selections based on the values in another array\n",
    "\n",
    "print('Starting numerical 1d my_arr')\n",
    "my_arr\n",
    "\n",
    "print('Starting 1d my_locs_arr:')\n",
    "my_locs_arr = np.array(['East','East','West','West','East','West'])\n",
    "my_locs_arr\n",
    "\n",
    "print('Numerical values in my_arr whose indices are same as those of \"East\" in my_locs_arr')\n",
    "my_arr[my_locs_arr == 'East']\n",
    "\n",
    "# Underlying the above comparisons and selections is actually a boolean array\n",
    "\n",
    "print('Boolean array: my_bool_arr - True if East and False otherwise')\n",
    "my_bool_arr = (my_locs_arr == 'East')\n",
    "my_bool_arr\n",
    "\n",
    "print('Numerical values in my_arr whose indices are the same as those of \"True\" in my_bool_arr')\n",
    "my_arr[my_bool_arr]"
   ]
  },
  {
   "cell_type": "markdown",
   "metadata": {},
   "source": [
    "<a class=\"anchor\" id=\"Setting Values\"></a>\n",
    "<h4>Setting the values of Selected Cells</h4>\n",
    "* [Return to TOC](#toc)\n",
    "\n",
    "The process is straightforward -- the desired selection is on the left-hand side of the \"equation\" and the desired value on the right-hand side.  In many cases, it's a good idea to make a <i>deep copy</i> of the original and use the copy. To make a deep copy, you use the <i>copy</i> method rather than simply setting the copy equal to the original (i.e. this -- my_copy_arr = my_arr.copy();not this -- my_copy = my_arr.  The reason why is that changes made to a deep copy don't impact the original of which it is a copy.  On the other hand, f you simply set the copy to the original, then that copy is simply an new label for the original object.  Any changes made to one (copy or original), changes the other. \\[Note:  In a notebook this can impact arrays that were define earlier in the notebook\\]."
   ]
  },
  {
   "cell_type": "code",
   "execution_count": 14,
   "metadata": {},
   "outputs": [
    {
     "name": "stdout",
     "output_type": "stream",
     "text": [
      "Copy original 1d my_arr: my_copy_arr = my_arr.copy()\n"
     ]
    },
    {
     "data": {
      "text/plain": [
       "array([1, 2, 3, 4, 5, 6])"
      ]
     },
     "execution_count": 14,
     "metadata": {},
     "output_type": "execute_result"
    },
    {
     "name": "stdout",
     "output_type": "stream",
     "text": [
      "Logical comparison: my_copy_arr is my_arr - \"Is\" it the same as original array (True), or a copy (False)?\n"
     ]
    },
    {
     "data": {
      "text/plain": [
       "False"
      ]
     },
     "execution_count": 14,
     "metadata": {},
     "output_type": "execute_result"
    },
    {
     "name": "stdout",
     "output_type": "stream",
     "text": [
      "Setting selection \":2\" to 0 - values whose indices are below 2 set to 0 \n"
     ]
    },
    {
     "data": {
      "text/plain": [
       "array([0, 0, 3, 4, 5, 6])"
      ]
     },
     "execution_count": 14,
     "metadata": {},
     "output_type": "execute_result"
    },
    {
     "name": "stdout",
     "output_type": "stream",
     "text": [
      "Setting selection: my_copy_arr[4:] = 1 - values whose indices are 4 and above are set to 1\n"
     ]
    },
    {
     "data": {
      "text/plain": [
       "array([0, 0, 3, 4, 1, 1])"
      ]
     },
     "execution_count": 14,
     "metadata": {},
     "output_type": "execute_result"
    },
    {
     "name": "stdout",
     "output_type": "stream",
     "text": [
      "Setting selection:  my_copy_arr[my_copy_arr > 1] = 2 - all elements whose values are > 1 set to 2\n"
     ]
    },
    {
     "data": {
      "text/plain": [
       "array([0, 0, 2, 2, 1, 1])"
      ]
     },
     "execution_count": 14,
     "metadata": {},
     "output_type": "execute_result"
    }
   ],
   "source": [
    "# Make a copy so original array is not overwritten\n",
    "\n",
    "print('Copy original 1d my_arr: my_copy_arr = my_arr.copy()')\n",
    "my_copy_arr = my_arr.copy()\n",
    "my_copy_arr\n",
    "\n",
    "print('Logical comparison: my_copy_arr is my_arr - \"Is\" it the same as original array (True), or a copy (False)?')\n",
    "my_copy_arr is my_arr\n",
    "\n",
    "# Setting the value(s)\n",
    "\n",
    "print('Setting selection \":2\" to 0 - values whose indices are below 2 set to 0 ')\n",
    "my_copy_arr[:2] = 0\n",
    "my_copy_arr\n",
    "\n",
    "print('Setting selection: my_copy_arr[4:] = 1 - values whose indices are 4 and above are set to 1')\n",
    "my_copy_arr[4:] = 1\n",
    "my_copy_arr\n",
    "\n",
    "print('Setting selection:  my_copy_arr[my_copy_arr > 1] = 2 - all elements whose values are > 1 set to 2')\n",
    "my_copy_arr[my_copy_arr > 1] = 2\n",
    "my_copy_arr"
   ]
  },
  {
   "cell_type": "markdown",
   "metadata": {},
   "source": [
    "<a class=\"anchor\" id=\"Manip and Convert\"></a>\n",
    "<h3>Manipulating and Converting Arrays</h3>\n",
    "* [Return to TOC](#toc)\n",
    "\n",
    "Numpy provides a number of functions and methods for manipulating converting the elements of an array from one type to another, and for writing the results to a file.\n",
    "\n",
    "https://docs.scipy.org/doc/numpy/user/quickstart.html#shape-manipulation"
   ]
  },
  {
   "cell_type": "markdown",
   "metadata": {},
   "source": [
    "<a class=\"anchor\" id=\"Manip\"></a>\n",
    "<h4>Manipulation: Methods for Restructuring Existing Arrays</h4>\n",
    "* [Return to TOC](#toc)\n",
    "\n",
    "<ul>\n",
    "    <li>reshape: same data with a new shape</li>\n",
    "    <li>split: divide into sub-arrays along specified axis (also hsplit, vsplit and dsplit)</li>\n",
    "    <li>transpose: transpose axes of an array - basically flips rows to cols</li>\n",
    "    <li>swapaxes: interchange axis1 with axis2 - for 2 dimensional this works like transpose</li>\n",
    "    <li>sort: sort (by axis) an array, in-place - also can produce surprising results!</li>\n",
    "</ul>\n"
   ]
  },
  {
   "cell_type": "code",
   "execution_count": 15,
   "metadata": {
    "scrolled": false
   },
   "outputs": [
    {
     "name": "stdout",
     "output_type": "stream",
     "text": [
      "Manipulating 1d array: my_arr2\n"
     ]
    },
    {
     "data": {
      "text/plain": [
       "array([1, 2, 2, 4, 6, 5])"
      ]
     },
     "execution_count": 15,
     "metadata": {},
     "output_type": "execute_result"
    },
    {
     "name": "stdout",
     "output_type": "stream",
     "text": [
      "Reshape: my_2d_arr2 = np.reshape(my_arr,(2,6)) - reshaping 1d into 2d array with 2 rows and 6 cols\n"
     ]
    },
    {
     "data": {
      "text/plain": [
       "array([[1, 2, 2],\n",
       "       [4, 6, 5]])"
      ]
     },
     "execution_count": 15,
     "metadata": {},
     "output_type": "execute_result"
    },
    {
     "name": "stdout",
     "output_type": "stream",
     "text": [
      "Transpose: np.transpose(my_2d_arr2) - transpose (2,6) 2d array into (6,2) 2d array\n"
     ]
    },
    {
     "data": {
      "text/plain": [
       "array([[1, 4],\n",
       "       [2, 6],\n",
       "       [2, 5]])"
      ]
     },
     "execution_count": 15,
     "metadata": {},
     "output_type": "execute_result"
    },
    {
     "name": "stdout",
     "output_type": "stream",
     "text": [
      "Swapaxes: np.swapaxes(my_2d_arr2,0,1) - interchange axis 0 with axis 1 - in a 2d array same as transpose\n"
     ]
    },
    {
     "data": {
      "text/plain": [
       "array([[1, 4],\n",
       "       [2, 6],\n",
       "       [2, 5]])"
      ]
     },
     "execution_count": 15,
     "metadata": {},
     "output_type": "execute_result"
    },
    {
     "name": "stdout",
     "output_type": "stream",
     "text": [
      "Sort: np.sort(my_2d_arr2,1): sort by axis 0 in-place\n"
     ]
    },
    {
     "data": {
      "text/plain": [
       "array([[1, 2, 2],\n",
       "       [4, 5, 6]])"
      ]
     },
     "execution_count": 15,
     "metadata": {},
     "output_type": "execute_result"
    }
   ],
   "source": [
    "# Manipulating Existing Structure\n",
    "\n",
    "print('Manipulating 1d array: my_arr2')\n",
    "my_arr2 = np.array([1,2,2,4,6,5])\n",
    "my_arr2\n",
    "\n",
    "print('Reshape: my_2d_arr2 = np.reshape(my_arr,(2,6)) - reshaping 1d into 2d array with 2 rows and 6 cols') \n",
    "my_2d_arr2 = np.reshape(my_arr2, (2,3))\n",
    "my_2d_arr2\n",
    "\n",
    "print('Transpose: np.transpose(my_2d_arr2) - transpose (2,6) 2d array into (6,2) 2d array')\n",
    "np.transpose(my_2d_arr2)\n",
    "\n",
    "print('Swapaxes: np.swapaxes(my_2d_arr2,0,1) - interchange axis 0 with axis 1 - in a 2d array same as transpose')\n",
    "np.swapaxes(my_2d_arr2,0,1)\n",
    "\n",
    "print('Sort: np.sort(my_2d_arr2,1): sort by axis 0 in-place')\n",
    "np.sort(my_2d_arr2,1)"
   ]
  },
  {
   "cell_type": "markdown",
   "metadata": {},
   "source": [
    "<a class=\"anchor\" id=\"Add or Remove\"></a>\n",
    "<h4>Manipulation: Methods Adding or removing Elements or Sub-Arrays</h4>\n",
    "* [Return to TOC](#toc)\n",
    "\n",
    "<ul>\n",
    "    <li>insert: insert values along the given axis before the given indices</li>\n",
    "    <li>append: append values to the end of an array</li>\n",
    "    <li>delete: delete elements from specified position for specified axis</li>\n",
    "    <li>split: split an array into N equal sub-arrays along specified axis</li>\n",
    "    <li>unique: find unique values and sort into 1d array\n",
    "</ul>"
   ]
  },
  {
   "cell_type": "code",
   "execution_count": 16,
   "metadata": {},
   "outputs": [
    {
     "name": "stdout",
     "output_type": "stream",
     "text": [
      "All operations performed on 2d array - my_2d_arr\n"
     ]
    },
    {
     "data": {
      "text/plain": [
       "array([[1, 2, 3],\n",
       "       [4, 5, 6]])"
      ]
     },
     "execution_count": 16,
     "metadata": {},
     "output_type": "execute_result"
    },
    {
     "name": "stdout",
     "output_type": "stream",
     "text": [
      "Insert: np.insert(my_2d_arr,1,5,axis=0) - on axis 0 insert the value 5 after row 1\n"
     ]
    },
    {
     "data": {
      "text/plain": [
       "array([[1, 2, 2],\n",
       "       [5, 5, 5],\n",
       "       [4, 6, 5]])"
      ]
     },
     "execution_count": 16,
     "metadata": {},
     "output_type": "execute_result"
    },
    {
     "name": "stdout",
     "output_type": "stream",
     "text": [
      "Append: np.append(my_2d_arr2,[[3],[9]],axis=1) - on axis 1 append specified values to the end of an array\n"
     ]
    },
    {
     "data": {
      "text/plain": [
       "array([[1, 2, 2, 3],\n",
       "       [4, 6, 5, 9]])"
      ]
     },
     "execution_count": 16,
     "metadata": {},
     "output_type": "execute_result"
    },
    {
     "name": "stdout",
     "output_type": "stream",
     "text": [
      "Delete: np.delete(my_2d_arr2,1,axis=0) - on axis 0 delete elements in index/row 1\n"
     ]
    },
    {
     "data": {
      "text/plain": [
       "array([[1, 2, 2]])"
      ]
     },
     "execution_count": 16,
     "metadata": {},
     "output_type": "execute_result"
    },
    {
     "name": "stdout",
     "output_type": "stream",
     "text": [
      "Split: np.split(my_2d_arr2,3,axis=1) - split axis 1 into 3 equal sub-arrays\n"
     ]
    },
    {
     "data": {
      "text/plain": [
       "[array([[1],\n",
       "        [4]]), array([[2],\n",
       "        [6]]), array([[2],\n",
       "        [5]])]"
      ]
     },
     "execution_count": 16,
     "metadata": {},
     "output_type": "execute_result"
    },
    {
     "name": "stdout",
     "output_type": "stream",
     "text": [
      "Unique: np.unique(my_2d_arr,0) - finds the unique values in an array and sorts them into 1d array\n"
     ]
    },
    {
     "data": {
      "text/plain": [
       "array([1, 2, 4, 5, 6])"
      ]
     },
     "execution_count": 16,
     "metadata": {},
     "output_type": "execute_result"
    }
   ],
   "source": [
    "#Adding or Removing Elements or Sub-Array\n",
    "\n",
    "print('All operations performed on 2d array - my_2d_arr')\n",
    "my_2d_arr\n",
    "\n",
    "print('Insert: np.insert(my_2d_arr,1,5,axis=0) - on axis 0 insert the value 5 after row 1')\n",
    "np.insert(my_2d_arr2,1,5,axis=0)\n",
    "\n",
    "print('Append: np.append(my_2d_arr2,[[3],[9]],axis=1) - on axis 1 append specified values to the end of an array')\n",
    "np.append(my_2d_arr2,[[3],[9]],axis=1)\n",
    "\n",
    "print('Delete: np.delete(my_2d_arr2,1,axis=0) - on axis 0 delete elements in index/row 1')\n",
    "np.delete(my_2d_arr2,1,axis=0)\n",
    "\n",
    "print('Split: np.split(my_2d_arr2,3,axis=1) - split axis 1 into 3 equal sub-arrays')\n",
    "np.split(my_2d_arr2,3,axis=1)      \n",
    "\n",
    "print('Unique: np.unique(my_2d_arr,0) - finds the unique values in an array and sorts them into 1d array')\n",
    "np.unique(my_2d_arr2,0)"
   ]
  },
  {
   "cell_type": "markdown",
   "metadata": {},
   "source": [
    "<a class=\"anchor\" id=\"Math and Stats\"></a>\n",
    "<h3>Key Mathematical and Statistical Operations on Arrays</h3>\n",
    "* [Return to TOC](#toc)\n",
    "\n",
    "There is a long laundry list of mathematical functions or methods and a handful of statistical functions-- that can be applied to NumPy arrays. These are detailed in:\n",
    "\n",
    "<ul>\n",
    "<li>Mathematical: https://docs.scipy.org/doc/numpy-1.12.0/reference/routines.math.html</li>\n",
    "<li>Statistical: https://docs.scipy.org/doc/numpy-1.12.0/reference/routines.statistics.html</li>\n",
    "</ul>\n",
    "\n",
    "While the official documentation covers a large number of individual mathematical and statistical categories,  I'm only concerned with a select number which have been combined into three general headings math and stat operations on:\n",
    "\n",
    "<ul>\n",
    "<li>Individual Arrays</li>\n",
    "<li>Specified Axis of an Individual Array\n",
    "<li>Pairs of Arrays</li>\n",
    "</ul>\n",
    "\n",
    "For all of these operations, the general assumptions are that: \n",
    "\n",
    "<ol>\n",
    "    <li>That there are no missing values</li>\n",
    "    <li>For operations operating on pairs of values, the shapes are the same</li>\n",
    "</ol>\n",
    "\n",
    "There are formal methods for handling situations where these assumptions are violated.  However, as they say, these methods are beyond the scope of this discussion.  So, in these notes, we are going to assume that the assumptions hold. For those who are interested in handling cases where they don't, see\n",
    "\n",
    "<ul>\n",
    "    <li>Missing values -- https://docs.scipy.org/doc/numpy-1.10.0/neps/missing-data.html#definition-of-missing-data.</li>\n",
    "    <li>Different shapes -- https://docs.scipy.org/doc/numpy-1.14.0/reference/ufuncs.html#ufuncs).</li>\n",
    "</ul>"
   ]
  },
  {
   "cell_type": "markdown",
   "metadata": {},
   "source": [
    "<a class=\"anchor\" id=\"Ops on Individual\"></a>\n",
    "<h4>Math and Stat Operations on Individual Arrays</h4>\n",
    "* [Return to TOC](#toc)\n",
    "\n",
    "The following are some of the primary arithmetic functions involving calculations on the elements of a standalone array:\n",
    "\n",
    "<ul>\n",
    "<li>reciprocal</li>\n",
    "<li>sqrt</li>\n",
    "<li>cbrt (cube root)</li>\n",
    "<li>square</li>\n",
    "<li>absolute (value)</li>\n",
    "<li>positive (convert to positive number)</li>\n",
    "<li>negative (convert to negative number)</li>\n",
    "<li>exp (e\\*\\*x where e = 2.71828)</li>\n",
    "<li>exp2 (2\\*\\*x)</li>\n",
    "<li>log (base e)</li>\n",
    "<li>log2 (base 2)</li>\n",
    "<li>log10 (base 10)</li>\n",
    "</ul>\n",
    "    \n",
    "Each of these takes the form -- <i>np.o_name(a1)</i> -- where the arithmetic function designated by the <i>o_name</i> is applied to each element in the array (a1).  A few examples indicate how they all work."
   ]
  },
  {
   "cell_type": "code",
   "execution_count": 17,
   "metadata": {
    "scrolled": true
   },
   "outputs": [
    {
     "name": "stdout",
     "output_type": "stream",
     "text": [
      "Manipulations performed on: my_arr4 = np.array([[2.0, -4.0],[-16.0, 8.0]])\n"
     ]
    },
    {
     "data": {
      "text/plain": [
       "array([[  2.,  -4.],\n",
       "       [-16.,   8.]])"
      ]
     },
     "execution_count": 17,
     "metadata": {},
     "output_type": "execute_result"
    },
    {
     "name": "stdout",
     "output_type": "stream",
     "text": [
      "reciprocal: np.reciprocal(my_arr4)\n"
     ]
    },
    {
     "data": {
      "text/plain": [
       "array([[ 0.5   , -0.25  ],\n",
       "       [-0.0625,  0.125 ]])"
      ]
     },
     "execution_count": 17,
     "metadata": {},
     "output_type": "execute_result"
    },
    {
     "name": "stdout",
     "output_type": "stream",
     "text": [
      "square: np.square(my_arr4)\n"
     ]
    },
    {
     "data": {
      "text/plain": [
       "array([[  4.,  16.],\n",
       "       [256.,  64.]])"
      ]
     },
     "execution_count": 17,
     "metadata": {},
     "output_type": "execute_result"
    },
    {
     "name": "stdout",
     "output_type": "stream",
     "text": [
      "absolute value: np.absolute(my_arr4)\n"
     ]
    },
    {
     "data": {
      "text/plain": [
       "array([[ 2.,  4.],\n",
       "       [16.,  8.]])"
      ]
     },
     "execution_count": 17,
     "metadata": {},
     "output_type": "execute_result"
    },
    {
     "name": "stdout",
     "output_type": "stream",
     "text": [
      "exponential (e raised to the power of each cell value): my_exp = np.exp(my_arr4)\n"
     ]
    },
    {
     "data": {
      "text/plain": [
       "array([[   7.4,    0. ],\n",
       "       [   0. , 2981. ]])"
      ]
     },
     "execution_count": 17,
     "metadata": {},
     "output_type": "execute_result"
    },
    {
     "name": "stdout",
     "output_type": "stream",
     "text": [
      "log (base e): my_log = np.log(my_arr4) - log(0) produces error which is replaced with \"nan\"\n"
     ]
    },
    {
     "name": "stderr",
     "output_type": "stream",
     "text": [
      "C:\\anaconda3\\lib\\site-packages\\ipykernel_launcher.py:21: RuntimeWarning: invalid value encountered in log\n"
     ]
    },
    {
     "data": {
      "text/plain": [
       "array([[0.7, nan],\n",
       "       [nan, 2.1]])"
      ]
     },
     "execution_count": 17,
     "metadata": {},
     "output_type": "execute_result"
    }
   ],
   "source": [
    "# Element-wise arithmetic operations on a single array\n",
    "\n",
    "print('Manipulations performed on: my_arr4 = np.array([[2.0, -4.0],[-16.0, 8.0]])')\n",
    "my_arr4 = np.array([[2.0, -4.0],[-16.0, 8.0]])\n",
    "my_arr4\n",
    "\n",
    "print('reciprocal: np.reciprocal(my_arr4)')\n",
    "np.reciprocal(my_arr4)\n",
    "\n",
    "print('square: np.square(my_arr4)')\n",
    "np.square(my_arr4)\n",
    "      \n",
    "print('absolute value: np.absolute(my_arr4)')\n",
    "np.absolute(my_arr4)\n",
    "\n",
    "print('exponential (e raised to the power of each cell value): my_exp = np.exp(my_arr4)')\n",
    "my_exp = np.exp(my_arr4)\n",
    "np.round(my_exp,1)\n",
    "\n",
    "print('log (base e): my_log = np.log(my_arr4) - log(0) produces error which is replaced with \"nan\"')\n",
    "my_log = np.log(my_arr4)\n",
    "np.round(my_log,1)"
   ]
  },
  {
   "cell_type": "markdown",
   "metadata": {},
   "source": [
    "<a class=\"anchor\" id=\"Rounding\"></a>\n",
    "<h5>Rounding Operations</h5>\n",
    "* [Return to TOC](#toc)\n",
    "\n",
    "Technically, rounding fits among the arithmetic operations operating on a single array. However, they are a bit of a special case so I've put them in an individual sub-section.\n",
    "\n",
    "\"Rounding a numerical value means replacing it by another value that is approximately equal but has a shorter, simpler, or more explicit representation.\" For example, a researcher has calculated the 2,000,000,000,000,000th digit of the mathematical constant pi (3.14159265358979...), but we rarely use more than a few of those digits in practice. So, we round to something shorter like 3.14.  If we want something a little longer, say 4 digits, do we round to 3.141 or 3.142 since the 5th digit is a 5.  There are no \"hard and fast\" rules. So, the answer depends on the rules we decide to use, i.e. round up, down, towards zero, away from zero, etc.  That's why mathematical modules and libraries, like NumPy, provide a number of rounding functions to serve different purposes.  Included in the rounding functions provided by NumPy are:\n",
    "\n",
    "<ul>\n",
    "    <li>around or round: to the given number of decimals</li>\n",
    "    <li>rint: to the nearest integer</li>\n",
    "    <li>fix: to nearest integer towards zero</li>\n",
    "    <li>floor: to the floor of the input (largest integer i, such that i <= x)</li>\n",
    "    <li>ceil: to the ceiling of the input (smallest integer i, such that i >= x)</li>\n",
    "    <li>trunc: to the truncated value of the input (nearest integer i which is closer to zero than x is)</li>\n",
    "</ul>"
   ]
  },
  {
   "cell_type": "code",
   "execution_count": 18,
   "metadata": {},
   "outputs": [
    {
     "name": "stdout",
     "output_type": "stream",
     "text": [
      "Rounding operations on 1d array: my_a3 = np.array([1.653, -2.891, 3.527, 4.264, -5.637])\n"
     ]
    },
    {
     "data": {
      "text/plain": [
       "array([ 1.653, -2.891,  3.527,  4.264, -5.637])"
      ]
     },
     "execution_count": 18,
     "metadata": {},
     "output_type": "execute_result"
    },
    {
     "name": "stdout",
     "output_type": "stream",
     "text": [
      "round: np.round(my_a3) -round to 0 decimals\n"
     ]
    },
    {
     "data": {
      "text/plain": [
       "array([ 2., -3.,  4.,  4., -6.])"
      ]
     },
     "execution_count": 18,
     "metadata": {},
     "output_type": "execute_result"
    },
    {
     "name": "stdout",
     "output_type": "stream",
     "text": [
      "round: np.round(my_a3,2) - round to 2 decimals\n"
     ]
    },
    {
     "data": {
      "text/plain": [
       "array([ 1.65, -2.89,  3.53,  4.26, -5.64])"
      ]
     },
     "execution_count": 18,
     "metadata": {},
     "output_type": "execute_result"
    },
    {
     "name": "stdout",
     "output_type": "stream",
     "text": [
      "rint: np.rint(my_a3) -round to nearest integer\n"
     ]
    },
    {
     "data": {
      "text/plain": [
       "array([ 2., -3.,  4.,  4., -6.])"
      ]
     },
     "execution_count": 18,
     "metadata": {},
     "output_type": "execute_result"
    },
    {
     "name": "stdout",
     "output_type": "stream",
     "text": [
      "fix: np.fix(my_a3) -round to integer towards 0\n"
     ]
    },
    {
     "data": {
      "text/plain": [
       "array([ 1., -2.,  3.,  4., -5.])"
      ]
     },
     "execution_count": 18,
     "metadata": {},
     "output_type": "execute_result"
    },
    {
     "name": "stdout",
     "output_type": "stream",
     "text": [
      "floor: np.floor(my_a3) -round to floor of input\n"
     ]
    },
    {
     "data": {
      "text/plain": [
       "array([ 1., -3.,  3.,  4., -6.])"
      ]
     },
     "execution_count": 18,
     "metadata": {},
     "output_type": "execute_result"
    },
    {
     "name": "stdout",
     "output_type": "stream",
     "text": [
      "ceil: np.ceil(my_a3) - round to ceil of input\n"
     ]
    },
    {
     "data": {
      "text/plain": [
       "array([ 2., -2.,  4.,  5., -5.])"
      ]
     },
     "execution_count": 18,
     "metadata": {},
     "output_type": "execute_result"
    },
    {
     "name": "stdout",
     "output_type": "stream",
     "text": [
      "trunc: np.trunc(my_a3) -truncated value\n"
     ]
    },
    {
     "data": {
      "text/plain": [
       "array([ 1., -2.,  3.,  4., -5.])"
      ]
     },
     "execution_count": 18,
     "metadata": {},
     "output_type": "execute_result"
    }
   ],
   "source": [
    "print('Rounding operations on 1d array: my_a3 = np.array([1.653, -2.891, 3.527, 4.264, -5.637])')\n",
    "my_a3 = np.array([1.653, -2.891, 3.527, 4.264, -5.637])\n",
    "my_a3\n",
    "\n",
    "print('round: np.round(my_a3) -round to 0 decimals')\n",
    "np.round(my_a3)\n",
    "\n",
    "print('round: np.round(my_a3,2) - round to 2 decimals')\n",
    "np.round(my_a3,2)\n",
    "\n",
    "print('rint: np.rint(my_a3) -round to nearest integer')\n",
    "np.rint(my_a3)\n",
    "\n",
    "print('fix: np.fix(my_a3) -round to integer towards 0')\n",
    "np.fix(my_a3)\n",
    "\n",
    "print('floor: np.floor(my_a3) -round to floor of input')\n",
    "np.floor(my_a3)\n",
    "\n",
    "print('ceil: np.ceil(my_a3) - round to ceil of input')\n",
    "np.ceil(my_a3)\n",
    "\n",
    "print('trunc: np.trunc(my_a3) -truncated value')\n",
    "np.trunc(my_a3)"
   ]
  },
  {
   "cell_type": "markdown",
   "metadata": {},
   "source": [
    "<a class=\"anchor\" id=\"Ops on Pairs\"></a>\n",
    "<h4>Math and Stat Operations on Pairs of Arrays</h4>\n",
    "*[Return to TOC](#toc)\n",
    "\n",
    "The following are some of the primary arithmetic functions involving calculations on the elements of pairs of arrays:\n",
    "<ul>\n",
    "<li>add</li>\n",
    "<li>subtract</li>\n",
    "<li>multiply</i>\n",
    "<li>dot (dot product of two arrays)</li>\n",
    "<li>power</li>\n",
    "<li>divide</li>\n",
    "<li>mod (remainder of division)</li>\n",
    "<li>maximum (maximum of the elements in each pair)</li>\n",
    "<li>minimum (minimum of the elements in each pair)</li>\n",
    "</ul>\n",
    "    \n",
    "Each of these takes the form -- <i>np.o_name(a_name1,a_name2)</i> -- where the arithmetic function designated by the <i>o_name</i> is applied to the pair-wise elements of the two arrays which are typically of the same shape.  Again, a few examples indicate how they work.\n"
   ]
  },
  {
   "cell_type": "code",
   "execution_count": 19,
   "metadata": {},
   "outputs": [
    {
     "name": "stdout",
     "output_type": "stream",
     "text": [
      "Arithmetic operations on pairs of arrays\n",
      "1st array: my_a1 = np.array([[1.,4.],[6.,9.]])\n"
     ]
    },
    {
     "data": {
      "text/plain": [
       "array([[1., 4.],\n",
       "       [6., 9.]])"
      ]
     },
     "execution_count": 19,
     "metadata": {},
     "output_type": "execute_result"
    },
    {
     "name": "stdout",
     "output_type": "stream",
     "text": [
      "2nd array: my_a2 = np.array([[2.,2.],[3.,3.]])\n"
     ]
    },
    {
     "data": {
      "text/plain": [
       "array([[2., 2.],\n",
       "       [3., 3.]])"
      ]
     },
     "execution_count": 19,
     "metadata": {},
     "output_type": "execute_result"
    },
    {
     "name": "stdout",
     "output_type": "stream",
     "text": [
      "add: np.add(my_a1,my_a2) - a1 + a2 for corresponding elements in each pair\n"
     ]
    },
    {
     "data": {
      "text/plain": [
       "array([[ 3.,  6.],\n",
       "       [ 9., 12.]])"
      ]
     },
     "execution_count": 19,
     "metadata": {},
     "output_type": "execute_result"
    },
    {
     "name": "stdout",
     "output_type": "stream",
     "text": [
      "subtract: np.subtract(my_a1,my_a2) - a1 - a2 for corresponding elements in each pair\n"
     ]
    },
    {
     "data": {
      "text/plain": [
       "array([[-1.,  2.],\n",
       "       [ 3.,  6.]])"
      ]
     },
     "execution_count": 19,
     "metadata": {},
     "output_type": "execute_result"
    },
    {
     "name": "stdout",
     "output_type": "stream",
     "text": [
      "multiply: np.multiply(my_a1,my_a2) - a1 * a2 for corresponding elements in each pair\n"
     ]
    },
    {
     "data": {
      "text/plain": [
       "array([[ 2.,  8.],\n",
       "       [18., 27.]])"
      ]
     },
     "execution_count": 19,
     "metadata": {},
     "output_type": "execute_result"
    },
    {
     "name": "stdout",
     "output_type": "stream",
     "text": [
      "dot product: np.dot(my_a1,my_a2) - technically part of the linear algebra operations\n"
     ]
    },
    {
     "data": {
      "text/plain": [
       "array([[14., 14.],\n",
       "       [39., 39.]])"
      ]
     },
     "execution_count": 19,
     "metadata": {},
     "output_type": "execute_result"
    },
    {
     "name": "stdout",
     "output_type": "stream",
     "text": [
      "power: np.power(my_a1,my_a2) - a1**a2 for corresponding elements in each pair\n"
     ]
    },
    {
     "data": {
      "text/plain": [
       "array([[  1.,  16.],\n",
       "       [216., 729.]])"
      ]
     },
     "execution_count": 19,
     "metadata": {},
     "output_type": "execute_result"
    },
    {
     "name": "stdout",
     "output_type": "stream",
     "text": [
      "divide: np.divide(my_a1,my_a2) - a1/a2 for corresponding elements in each pair\n"
     ]
    },
    {
     "data": {
      "text/plain": [
       "array([[0.5, 2. ],\n",
       "       [2. , 3. ]])"
      ]
     },
     "execution_count": 19,
     "metadata": {},
     "output_type": "execute_result"
    },
    {
     "name": "stdout",
     "output_type": "stream",
     "text": [
      "mod: np.mod(my_a1,my_a2) - remainder of a1/a2 for corresponding elements in each pair\n"
     ]
    },
    {
     "data": {
      "text/plain": [
       "array([[1., 0.],\n",
       "       [0., 0.]])"
      ]
     },
     "execution_count": 19,
     "metadata": {},
     "output_type": "execute_result"
    },
    {
     "name": "stdout",
     "output_type": "stream",
     "text": [
      "maximum: np.maximum(my_a1,my_a2) - larger of the two elements in each pair\n"
     ]
    },
    {
     "data": {
      "text/plain": [
       "array([[2., 4.],\n",
       "       [6., 9.]])"
      ]
     },
     "execution_count": 19,
     "metadata": {},
     "output_type": "execute_result"
    },
    {
     "name": "stdout",
     "output_type": "stream",
     "text": [
      "minimum: np.minimum(my_a1,my_a2)) - smaller of the two elements in each pair\n"
     ]
    },
    {
     "data": {
      "text/plain": [
       "array([[1., 2.],\n",
       "       [3., 3.]])"
      ]
     },
     "execution_count": 19,
     "metadata": {},
     "output_type": "execute_result"
    }
   ],
   "source": [
    "print('Arithmetic operations on pairs of arrays')\n",
    "\n",
    "print('1st array: my_a1 = np.array([[1.,4.],[6.,9.]])')\n",
    "my_a1 = np.array([[1.,4.],[6.,9.]]) # 2 rows by 3 cols\n",
    "my_a1\n",
    "\n",
    "print('2nd array: my_a2 = np.array([[2.,2.],[3.,3.]])')\n",
    "my_a2 = np.array([[2.,2.],[3.,3.]]) # 2 rows by 3 cols\n",
    "my_a2\n",
    "\n",
    "print('add: np.add(my_a1,my_a2) - a1 + a2 for corresponding elements in each pair')\n",
    "np.add(my_a1,my_a2)\n",
    "\n",
    "print('subtract: np.subtract(my_a1,my_a2) - a1 - a2 for corresponding elements in each pair')\n",
    "np.subtract(my_a1,my_a2)\n",
    "\n",
    "print('multiply: np.multiply(my_a1,my_a2) - a1 * a2 for corresponding elements in each pair')\n",
    "np.multiply(my_a1,my_a2) \n",
    "\n",
    "print('dot product: np.dot(my_a1,my_a2) - technically part of the linear algebra operations')\n",
    "np.dot(my_a1,my_a2)\n",
    "\n",
    "print('power: np.power(my_a1,my_a2) - a1**a2 for corresponding elements in each pair')\n",
    "np.power(my_a1,my_a2)\n",
    "\n",
    "print('divide: np.divide(my_a1,my_a2) - a1/a2 for corresponding elements in each pair')\n",
    "np.divide(my_a1,my_a2)\n",
    "\n",
    "print('mod: np.mod(my_a1,my_a2) - remainder of a1/a2 for corresponding elements in each pair')\n",
    "np.mod(my_a1,my_a2)\n",
    "\n",
    "print('maximum: np.maximum(my_a1,my_a2) - larger of the two elements in each pair')\n",
    "np.maximum(my_a1,my_a2)\n",
    "\n",
    "print('minimum: np.minimum(my_a1,my_a2)) - smaller of the two elements in each pair')\n",
    "np.minimum(my_a1,my_a2)"
   ]
  },
  {
   "cell_type": "markdown",
   "metadata": {},
   "source": [
    "<a class=\"anchor\" id=\"Ops on Axis\"></a>\n",
    "<h4>Math and Stat Operations on specified Axis of an Individual Array</h4>\n",
    "*[Return to TOC](#toc)\n",
    "\n",
    "Most of the NumPy's statistical functions fall into this category and are relatively simple in nature. Included are:\n",
    "\n",
    "<i>Sums, Averages, and Variances:</i><br>\n",
    "<ul>\n",
    "    <li>sum: sum of array elements over a given axis</li>\n",
    "    <li>cumsum: cumulative sum of array elements over a given axis</li>\n",
    "    <li>prod: rolling product of array elements over a given axis</i>\n",
    "    <li>cumprod: rolling product sum of array elements over a given axis</li>\n",
    "    <li>median: median of array elements over a given axis</li>\n",
    "    <li>mean: average of array elements over a given axis</li>\n",
    "    <li>average: weighted average of array elements over a given axis</li>\n",
    "    <li>std: standard deviation of array elements over a given axis</li>\n",
    "    <li>var: variance of array elements over a given axis</li>\n",
    "    <li>amin: minimum of array elements over a given axis</li>\n",
    "    <li>amax: maximum of array elements over a given axis</li>\n",
    "    <li>percentile: pth percentile of array elements over a given axis</li>\n",
    "</ul>\n",
    "\n",
    "Comparatively speaking, the list isn't very extensive. For more extensive coverage, see the statistical and other data science capabilities provided in:\n",
    "\n",
    "<ul>\n",
    "<li>the larger SciPy library of which NumPy is a part (see: https://docs.scipy.org/doc/scipy/reference/stats.html).</li>\n",
    "<li>The Pandas library which is also a part of SciPy (see: http://pandas.pydata.org/)    "
   ]
  },
  {
   "cell_type": "code",
   "execution_count": 20,
   "metadata": {},
   "outputs": [
    {
     "name": "stdout",
     "output_type": "stream",
     "text": [
      "statistical operations on 2d array: my_stat_arr = ([[1.4, 4.3, 4.9, 2.2, 8.6],[2.5, 4.1, 3.4, 3.6, 2.8]])\n"
     ]
    },
    {
     "data": {
      "text/plain": [
       "[[1.4, 4.3, 4.9, 2.2, 8.6], [2.5, 4.1, 3.4, 3.6, 2.8]]"
      ]
     },
     "execution_count": 20,
     "metadata": {},
     "output_type": "execute_result"
    },
    {
     "name": "stdout",
     "output_type": "stream",
     "text": [
      "sum on axis 0: np.sum(my_stat_arr,axis=0) - sums by columns\n"
     ]
    },
    {
     "data": {
      "text/plain": [
       "array([ 3.9,  8.4,  8.3,  5.8, 11.4])"
      ]
     },
     "execution_count": 20,
     "metadata": {},
     "output_type": "execute_result"
    },
    {
     "name": "stdout",
     "output_type": "stream",
     "text": [
      "sum on axis 1: np.sum(my_stat_arr,axis=1) - sums by rows\n"
     ]
    },
    {
     "data": {
      "text/plain": [
       "array([21.4, 16.4])"
      ]
     },
     "execution_count": 20,
     "metadata": {},
     "output_type": "execute_result"
    },
    {
     "name": "stdout",
     "output_type": "stream",
     "text": [
      "sum for entire array: np.sum(my_stat_arr) - no axis specified\n"
     ]
    },
    {
     "data": {
      "text/plain": [
       "37.8"
      ]
     },
     "execution_count": 20,
     "metadata": {},
     "output_type": "execute_result"
    },
    {
     "name": "stdout",
     "output_type": "stream",
     "text": [
      "cumulative sum: np.cumsum(my_stat_arr,axis=1) - by rows\n"
     ]
    },
    {
     "data": {
      "text/plain": [
       "array([[ 1.4,  5.7, 10.6, 12.8, 21.4],\n",
       "       [ 2.5,  6.6, 10. , 13.6, 16.4]])"
      ]
     },
     "execution_count": 20,
     "metadata": {},
     "output_type": "execute_result"
    },
    {
     "name": "stdout",
     "output_type": "stream",
     "text": [
      "prod: np.prod(my_stat_arr,axis=1) - by rows\n"
     ]
    },
    {
     "data": {
      "text/plain": [
       "array([558.1, 351.3])"
      ]
     },
     "execution_count": 20,
     "metadata": {},
     "output_type": "execute_result"
    },
    {
     "name": "stdout",
     "output_type": "stream",
     "text": [
      "cumprod: np.cumprod(my_stat_arr,axis=1) - by rows\n"
     ]
    },
    {
     "data": {
      "text/plain": [
       "array([[  1.4,   6. ,  29.5,  64.9, 558.1],\n",
       "       [  2.5,  10.2,  34.8, 125.5, 351.3]])"
      ]
     },
     "execution_count": 20,
     "metadata": {},
     "output_type": "execute_result"
    },
    {
     "name": "stdout",
     "output_type": "stream",
     "text": [
      "median: np.median(my_stat_arr,axis=1) - by rows\n"
     ]
    },
    {
     "data": {
      "text/plain": [
       "array([4.3, 3.4])"
      ]
     },
     "execution_count": 20,
     "metadata": {},
     "output_type": "execute_result"
    },
    {
     "name": "stdout",
     "output_type": "stream",
     "text": [
      "mean: np.mean(my_stat_arr,axis=1) - by rows\n"
     ]
    },
    {
     "data": {
      "text/plain": [
       "array([4.28, 3.28])"
      ]
     },
     "execution_count": 20,
     "metadata": {},
     "output_type": "execute_result"
    },
    {
     "name": "stdout",
     "output_type": "stream",
     "text": [
      "average: np.average(my_stat_arr,axis=1) - by rows\n"
     ]
    },
    {
     "data": {
      "text/plain": [
       "array([4.28, 3.28])"
      ]
     },
     "execution_count": 20,
     "metadata": {},
     "output_type": "execute_result"
    },
    {
     "name": "stdout",
     "output_type": "stream",
     "text": [
      "std: np.std(my_stat_arr,axis=1) - by rows\n"
     ]
    },
    {
     "data": {
      "text/plain": [
       "array([2.51666446, 0.5706137 ])"
      ]
     },
     "execution_count": 20,
     "metadata": {},
     "output_type": "execute_result"
    },
    {
     "name": "stdout",
     "output_type": "stream",
     "text": [
      "var: np.var(my_stat_arr,axis=1) - by rows\n"
     ]
    },
    {
     "data": {
      "text/plain": [
       "array([6.3336, 0.3256])"
      ]
     },
     "execution_count": 20,
     "metadata": {},
     "output_type": "execute_result"
    },
    {
     "name": "stdout",
     "output_type": "stream",
     "text": [
      "minimum: np.amin(my_stat_arr,axis=1) - by rows\n"
     ]
    },
    {
     "data": {
      "text/plain": [
       "array([1.4, 2.5])"
      ]
     },
     "execution_count": 20,
     "metadata": {},
     "output_type": "execute_result"
    },
    {
     "name": "stdout",
     "output_type": "stream",
     "text": [
      "maximum: np.amax(my_stat_arr,axis=1) - by rows\n"
     ]
    },
    {
     "data": {
      "text/plain": [
       "array([8.6, 4.1])"
      ]
     },
     "execution_count": 20,
     "metadata": {},
     "output_type": "execute_result"
    },
    {
     "name": "stdout",
     "output_type": "stream",
     "text": [
      "50th percentile: np.percentile(my_stat_arr,50,axis=1) - by rows\n"
     ]
    },
    {
     "data": {
      "text/plain": [
       "array([4.3, 3.4])"
      ]
     },
     "execution_count": 20,
     "metadata": {},
     "output_type": "execute_result"
    },
    {
     "name": "stdout",
     "output_type": "stream",
     "text": [
      "25th percentile: np.percentile(my_stat_arr,50,axis=1) - 1st quartile by rows\n"
     ]
    },
    {
     "data": {
      "text/plain": [
       "array([4.3, 3.4])"
      ]
     },
     "execution_count": 20,
     "metadata": {},
     "output_type": "execute_result"
    }
   ],
   "source": [
    "print('statistical operations on 2d array: my_stat_arr = ([[1.4, 4.3, 4.9, 2.2, 8.6],[2.5, 4.1, 3.4, 3.6, 2.8]])')\n",
    "my_stat_arr = ([[1.4, 4.3, 4.9, 2.2, 8.6],[2.5, 4.1, 3.4, 3.6, 2.8]])\n",
    "my_stat_arr\n",
    "\n",
    "print('sum on axis 0: np.sum(my_stat_arr,axis=0) - sums by columns')\n",
    "np.sum(my_stat_arr,axis=0)\n",
    "\n",
    "print('sum on axis 1: np.sum(my_stat_arr,axis=1) - sums by rows')\n",
    "np.sum(my_stat_arr,axis=1)\n",
    "\n",
    "print('sum for entire array: np.sum(my_stat_arr) - no axis specified')\n",
    "np.sum(my_stat_arr)\n",
    "\n",
    "print('cumulative sum: np.cumsum(my_stat_arr,axis=1) - by rows')\n",
    "np.cumsum(my_stat_arr,axis=1)\n",
    "\n",
    "print('prod: np.prod(my_stat_arr,axis=1) - by rows')\n",
    "my_prod = np.prod(my_stat_arr,axis=1)\n",
    "np.round(my_prod,1)\n",
    "\n",
    "print('cumprod: np.cumprod(my_stat_arr,axis=1) - by rows')\n",
    "my_cumprod = np.cumprod(my_stat_arr,axis=1)\n",
    "np.round(my_cumprod,1)\n",
    "\n",
    "print('median: np.median(my_stat_arr,axis=1) - by rows')\n",
    "np.median(my_stat_arr,axis=1)\n",
    "\n",
    "print('mean: np.mean(my_stat_arr,axis=1) - by rows')\n",
    "np.mean(my_stat_arr,axis=1)\n",
    "\n",
    "print('average: np.average(my_stat_arr,axis=1) - by rows')\n",
    "np.average(my_stat_arr,axis=1)\n",
    "\n",
    "print('std: np.std(my_stat_arr,axis=1) - by rows')\n",
    "np.std(my_stat_arr,axis=1)\n",
    "\n",
    "print('var: np.var(my_stat_arr,axis=1) - by rows')\n",
    "np.var(my_stat_arr,axis=1)\n",
    "\n",
    "print('minimum: np.amin(my_stat_arr,axis=1) - by rows')\n",
    "np.amin(my_stat_arr,axis=1)\n",
    "\n",
    "print('maximum: np.amax(my_stat_arr,axis=1) - by rows')\n",
    "np.amax(my_stat_arr,axis=1)\n",
    "\n",
    "print('50th percentile: np.percentile(my_stat_arr,50,axis=1) - by rows')\n",
    "np.percentile(my_stat_arr,50,axis=1)\n",
    "\n",
    "print('25th percentile: np.percentile(my_stat_arr,50,axis=1) - 1st quartile by rows')\n",
    "np.percentile(my_stat_arr,50,axis=1)"
   ]
  },
  {
   "cell_type": "code",
   "execution_count": null,
   "metadata": {},
   "outputs": [],
   "source": []
  }
 ],
 "metadata": {
  "CodeCell": {
   "cm_config": {
    "lineWrapping": true
   }
  },
  "MarkdownCell": {
   "cm_config": {
    "lineWrapping": true
   }
  },
  "kernelspec": {
   "display_name": "Python 3",
   "language": "python",
   "name": "python3"
  },
  "language_info": {
   "codemirror_mode": {
    "name": "ipython",
    "version": 3
   },
   "file_extension": ".py",
   "mimetype": "text/x-python",
   "name": "python",
   "nbconvert_exporter": "python",
   "pygments_lexer": "ipython3",
   "version": "3.6.4"
  }
 },
 "nbformat": 4,
 "nbformat_minor": 2
}
