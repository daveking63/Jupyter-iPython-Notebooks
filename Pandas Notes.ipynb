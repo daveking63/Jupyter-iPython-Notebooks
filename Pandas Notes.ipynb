{
 "cells": [
  {
   "cell_type": "markdown",
   "metadata": {},
   "source": [
    "<h2>Understanding <i>pandas</i>: A Case Study Approach</h2>\n",
    "\n",
    "Like NumPy, <b><i>pandas</i></b> is Python package that is part of a larger \"open-source software system for mathematics, science, and engineering\" called SciPy. While NumPy provides a laundry list of classes, methods and functions for dealing with arrays, it offers modest support for further data analysis and modeling.  This is where pandas comes in. It enables Python developers to address the entire data analysis workflow without have to rely on more domain specific programming environments like R.\n",
    "\n",
    "The pandas package makes working with relational or labeled tabular data relatively simple and straightforward. As the documentation for the package notes, it is well suited for many kinds of data including tabular data with differing data types (similar to an Excel spreadsheet), time series data, arrays and matricies with row and column labels, and many other forms of observational or statistical data sets with and without labels.\n",
    "\n",
    "Most of pandas' capabilities are surfaced in either one dimensional arrays called <b><i>Series</i></b> or two dimensional arrays called <b><i>DataFrames</i></b>. This note will concentrate on the latter - the basic structure, methods, functions, and techniques for analyzing and visualizing the data in dataframes. Like NumPy arrays, the methods and functions associated with these structures are very extensive, far too numerous to cover in this set of notes. For compete coverage, see:\n",
    "\n",
    "<ul>\n",
    "<li>Series: http://pandas.pydata.org/pandas-docs/stable/generated/pandas.Series.html#pandas.Series </li>\n",
    "<li>Dataframes: https://pandas.pydata.org/pandas-docs/stable/generated/pandas.DataFrame.html </li>\n",
    "<li>Tutorial covering both types of data structures: https://pandas.pydata.org/pandas-docs/stable/tutorials.html# </li>\n",
    "<li>Tutorial from TutorialPoints covering basic data structures and associated methods and functions: https://www.tutorialspoint.com/python_pandas/index.htm </li>\n",
    "</ul>\n",
    "\n",
    "<h3><a class=\"anchor\" id=\"toc\">Table of Contents</a></h3>\n",
    "\n",
    "1. [Case Study: Billboard Top Singles](#Dataset)<br>\n",
    "2. [Loading a Dataframe and Inspecting the Data](#Loading)<br>\n",
    "   [Reading Text and Excel Files](#Reading)<br>\n",
    "   [Describing the Structure of a Dataframe](#Describe)<br>\n",
    "   [Summary of Initial Structural Analysis](#Summary)<br>\n",
    "3. [Indexing and Selecting Particular Rows and Columns](#Indexing and Selecting)<br>\n",
    "   [Indexing](#Indexing)<br>\n",
    "   [Labels as Indexes](#Labels)<br>\n",
    "   [Groupby Method: Brief Example](#Groupby1)<br>\n",
    "   [Selecting Subsets of Data](#Subsets)<br>\n",
    "   [   Using Column Names](#Colnames)<br>\n",
    "   [   Using loc](#loc)<br>\n",
    "   [   Using iloc](#iloc)<br>\n",
    "4. [Frequency Distributions and Other Statistics](#Frequency)<br>\n",
    "   [Value_Counts Method](#Value Counts)<br>\n",
    "   [Groupby Method: Computational Details](#Groupby0)<br>\n",
    "   [Adding New Columns](#Adding)<br>\n",
    "   [Unstacking Multi-Column Arrays](#Unstack)<br>\n",
    "5. [Pandas Plots](#Plots)<br>\n",
    "   [Bar Plots](#Bars)<br>\n",
    "   [Subplots](#Subplots)<br>\n",
    "   [Line Plots](#Lines)<br>\n",
    "6. [Final Comments](#Final)<br>\n",
    "\n",
    "\n"
   ]
  },
  {
   "cell_type": "code",
   "execution_count": 1,
   "metadata": {},
   "outputs": [],
   "source": [
    "from IPython.core.interactiveshell import InteractiveShell\n",
    "InteractiveShell.ast_node_interactivity = \"all\""
   ]
  },
  {
   "cell_type": "code",
   "execution_count": 2,
   "metadata": {},
   "outputs": [
    {
     "data": {
      "application/javascript": [
       "IPython.OutputArea.prototype._should_scroll = function(lines) {\n",
       "    return false;\n",
       "}"
      ],
      "text/plain": [
       "<IPython.core.display.Javascript object>"
      ]
     },
     "metadata": {},
     "output_type": "display_data"
    }
   ],
   "source": [
    "%%javascript\n",
    "IPython.OutputArea.prototype._should_scroll = function(lines) {\n",
    "    return false;\n",
    "}"
   ]
  },
  {
   "cell_type": "markdown",
   "metadata": {},
   "source": [
    "<a class=\"anchor\" id=\"dataset\"></a>\n",
    "<h3>Case Study: Billboard Top Singles for Last 60 Years</h3>\n",
    "* [Return to TOC](#toc)\n",
    "\n",
    "\n",
    "To help understand the use and value of dataframes, I'm going to employ a dataset scraped from the Billboard web site that tracks the the most popular singles of all time where popularity is measured by units of sales for physical media as well as airplay, digital downloads, and streaming. The data are described in detail in another repository -- see the <a href= 'https://github.com/daveking63/BillBoard_and_RIAA_datasets/blob/master/readme.md'><b>Billboard and RIAA Datasets</b></a>.\n",
    "\n",
    "Recently, Billboard reached 60 years of recording and reporting on the best selling songs. To market the occasion they created a special dataset -- the \n",
    "<a href = \"https://www.billboard.com/charts/hot-100-60th-anniversary\">Hot 100 60th Anniversary</a> (actually it was to Hot 600, not sure why it was 600 but ...). It's this dataset that is used to illustrate some of the more widely used features of <i>pandas</i>."
   ]
  },
  {
   "attachments": {},
   "cell_type": "markdown",
   "metadata": {},
   "source": [
    "<a class=\"anchor\" id=\"Loading\"></a>\n",
    "<h3>Loading a Dataframe and Inspecting the Data</h3>\n",
    "* [Return to TOC](#toc)\n",
    "\n",
    "To begin let's look at the Billboard data - singles with the largest number of unit sales (physical and digital) for the past 60  years. Below is a screen shot of a slice of the data in Excel. The data is also provided in comma separated text format (see <a href='https://github.com/daveking63/Billboard-and-RIAA-datasets/blob/master/BB-Top600_Songs.txt'>BB-Top600_Songs.txt</a>). \n",
    "\n",
    "![Billboard Top600](BB_Top600_Songs-Excel.jpg \"Billboard Top600\")\n",
    "\n",
    "Before we load the data, we're going to import both the NumPy and the pandas library.  In most analyses the libraries are often used in tandem."
   ]
  },
  {
   "cell_type": "code",
   "execution_count": 3,
   "metadata": {},
   "outputs": [],
   "source": [
    "import numpy as np\n",
    "import pandas as pd"
   ]
  },
  {
   "cell_type": "markdown",
   "metadata": {},
   "source": [
    "<a class=\"anchor\" id=\"Reading\"></a>\n",
    "<h4>Reading Text and Excel Files</h4>\n",
    "* [Return to TOC](#toc)\n",
    "\n",
    "Regardless of whether you use the Excel or text versions of the data, the steps needed to read the data into a dataframe are basically the same. To load the text version we can use the \"read_csv\" method. This particular method has over 50 possible parameters. A few of the more frequently used are:\n",
    "\n",
    "<ul>\n",
    "<li>\"sep\" (separator) or \"delimiter\" for the character (e.g. \",\" or \"|\") or escape sequence (e.g. '\\t' for tab) used separate the columns in a table or vector. By default the sep is a comma ','.</li>\n",
    "<li>\"header\" to indicate whether a header row is included or not. By default it assumes that the first row of the file is the column headers.  Setting header=None  for the columns indicates that there is no header in the file. In that case the \"name\" parameter is used to establish a list of values for the column headers (e.g. name = '['name1', 'name2',...,'nameN']').\n",
    "\n",
    "In this instance the first row has column headers and the separator is a comma.  So, the setup is straightforward."
   ]
  },
  {
   "cell_type": "code",
   "execution_count": 4,
   "metadata": {},
   "outputs": [],
   "source": [
    "# The file and dataframe names are arbitrarily chosen but obviously reflect their contents\n",
    "BBTop600Text = \"C:/Test/BB-Top600_Songs.txt\"\n",
    "DF_BBTop600Text = pd.read_csv(BBTop600Text)"
   ]
  },
  {
   "cell_type": "markdown",
   "metadata": {},
   "source": [
    "In the same vein it's almost as simple to read an Excel file into a dataframe. Without going into all the details, the call looks like: "
   ]
  },
  {
   "cell_type": "code",
   "execution_count": 5,
   "metadata": {},
   "outputs": [],
   "source": [
    "BBTop600XL = \"C:/Test/BB-Top600_songs.xlsx\"\n",
    "DF_BBTop600XL = pd.read_excel(BBTop600XL, sheet_name=\"Sheet1\")"
   ]
  },
  {
   "cell_type": "markdown",
   "metadata": {},
   "source": [
    "<a class=\"anchor\" id=\"Describe\"></a>\n",
    "<h4>Describing the Structure of a Dataframe</h4>\n",
    "* [Return to TOC](#toc)\n",
    "\n",
    "After creating a dataframe, the second step usually involves developing a quick understanding its basic structure, that is: what are the column names, the data types, the number of rows, some of the basic statistical characteristics, etc.  pandas provides a variety of methods for obtaining this information.  Here are some of the simpler ones:\n",
    "\n",
    "<ul>\n",
    "    <li><i>info()</i> -- lists column names and their data types.</li>\n",
    "    <li><i>columns[start:end]</i> -- lists specified column names, default is all.</li>\n",
    "    <li><i>dtypes[start:end] </i> -- lists datatypes for specified columns, default is all.</li>\n",
    "    <li><i>ndim</i> -- returns the number of dimensions -- in most cases 2.</li>\n",
    "    <li><i>shape</i> -- returns a tuple with the number of dimensions.</li>\n",
    "    <li><i>size</i> -- returns the number of elements.</li>\n",
    "    <li><i>describe()</i> -- displays descriptive statistics for all numerical columns.</li>\n",
    "    <li><i>head(n)</i> -- displays the first n rows, default is 5.</li>\n",
    "    <li><i>tail(n)</i> -- displays last n rows, default is 5.</li>\n",
    "    <li><i>values</i> -- returns a numpy array representation of the dataframe.</li>\n",
    "</ul>\n"
   ]
  },
  {
   "cell_type": "code",
   "execution_count": 6,
   "metadata": {},
   "outputs": [
    {
     "name": "stdout",
     "output_type": "stream",
     "text": [
      "**List column names and their data types: DF_BBTop600Text.info()\n",
      "\n",
      "<class 'pandas.core.frame.DataFrame'>\n",
      "RangeIndex: 600 entries, 0 to 599\n",
      "Data columns (total 6 columns):\n",
      "Rank         600 non-null int64\n",
      "Artist       600 non-null object\n",
      "SongTitle    600 non-null object\n",
      "Gender       600 non-null object\n",
      "Genre        600 non-null object\n",
      "Decade       600 non-null object\n",
      "dtypes: int64(1), object(5)\n",
      "memory usage: 28.2+ KB\n",
      "\n",
      "**List specified column names: DF_BBTop600Text.columns[2:5]\n"
     ]
    },
    {
     "data": {
      "text/plain": [
       "Index(['SongTitle', 'Gender', 'Genre'], dtype='object')"
      ]
     },
     "execution_count": 6,
     "metadata": {},
     "output_type": "execute_result"
    },
    {
     "name": "stdout",
     "output_type": "stream",
     "text": [
      "\n",
      "**List column dtypes: DF_BBTop600Text.dtypes\n"
     ]
    },
    {
     "data": {
      "text/plain": [
       "Rank          int64\n",
       "Artist       object\n",
       "SongTitle    object\n",
       "Gender       object\n",
       "Genre        object\n",
       "Decade       object\n",
       "dtype: object"
      ]
     },
     "execution_count": 6,
     "metadata": {},
     "output_type": "execute_result"
    },
    {
     "name": "stdout",
     "output_type": "stream",
     "text": [
      "\n",
      "**List row numbers for specified rows: DF_BBTop600Text.index\n"
     ]
    },
    {
     "data": {
      "text/plain": [
       "RangeIndex(start=0, stop=600, step=1)"
      ]
     },
     "execution_count": 6,
     "metadata": {},
     "output_type": "execute_result"
    }
   ],
   "source": [
    "# General structure\n",
    "\n",
    "print(\"**List column names and their data types: DF_BBTop600Text.info()\")\n",
    "print(\"\")\n",
    "DF_BBTop600Text.info()\n",
    "print(\"\")\n",
    "print(\"**List specified column names: DF_BBTop600Text.columns[2:5]\")\n",
    "DF_BBTop600Text.columns[2:5]\n",
    "print(\"\")\n",
    "print(\"**List column dtypes: DF_BBTop600Text.dtypes\")\n",
    "DF_BBTop600Text.dtypes\n",
    "print(\"\")\n",
    "print('**List row numbers for specified rows: DF_BBTop600Text.index')\n",
    "DF_BBTop600Text.index"
   ]
  },
  {
   "cell_type": "code",
   "execution_count": 7,
   "metadata": {},
   "outputs": [
    {
     "name": "stdout",
     "output_type": "stream",
     "text": [
      "**Return the number of dimensions: DF_BBTop600Text.ndim\n"
     ]
    },
    {
     "data": {
      "text/plain": [
       "2"
      ]
     },
     "execution_count": 7,
     "metadata": {},
     "output_type": "execute_result"
    },
    {
     "name": "stdout",
     "output_type": "stream",
     "text": [
      "\n",
      "**Return a tuple with number of elements in each dimension: DF_BBTop600Text.shape\n"
     ]
    },
    {
     "data": {
      "text/plain": [
       "(600, 6)"
      ]
     },
     "execution_count": 7,
     "metadata": {},
     "output_type": "execute_result"
    },
    {
     "name": "stdout",
     "output_type": "stream",
     "text": [
      "\n",
      "**Return the total number of elements (rows x columns): DF_BBTop600Text.size\n"
     ]
    },
    {
     "data": {
      "text/plain": [
       "3600"
      ]
     },
     "execution_count": 7,
     "metadata": {},
     "output_type": "execute_result"
    }
   ],
   "source": [
    "# Dimensional Structure\n",
    "\n",
    "print(\"**Return the number of dimensions: DF_BBTop600Text.ndim\")\n",
    "DF_BBTop600Text.ndim\n",
    "print(\"\")\n",
    "print(\"**Return a tuple with number of elements in each dimension: DF_BBTop600Text.shape\")\n",
    "DF_BBTop600Text.shape\n",
    "print(\"\")\n",
    "print(\"**Return the total number of elements (rows x columns): DF_BBTop600Text.size\")\n",
    "DF_BBTop600Text.size"
   ]
  },
  {
   "cell_type": "code",
   "execution_count": 8,
   "metadata": {},
   "outputs": [
    {
     "name": "stdout",
     "output_type": "stream",
     "text": [
      "**Display first N rows - 5 by default: DF_BBTop600Text.head(2)\n"
     ]
    },
    {
     "data": {
      "text/html": [
       "<div>\n",
       "<style scoped>\n",
       "    .dataframe tbody tr th:only-of-type {\n",
       "        vertical-align: middle;\n",
       "    }\n",
       "\n",
       "    .dataframe tbody tr th {\n",
       "        vertical-align: top;\n",
       "    }\n",
       "\n",
       "    .dataframe thead th {\n",
       "        text-align: right;\n",
       "    }\n",
       "</style>\n",
       "<table border=\"1\" class=\"dataframe\">\n",
       "  <thead>\n",
       "    <tr style=\"text-align: right;\">\n",
       "      <th></th>\n",
       "      <th>Rank</th>\n",
       "      <th>Artist</th>\n",
       "      <th>SongTitle</th>\n",
       "      <th>Gender</th>\n",
       "      <th>Genre</th>\n",
       "      <th>Decade</th>\n",
       "    </tr>\n",
       "  </thead>\n",
       "  <tbody>\n",
       "    <tr>\n",
       "      <th>0</th>\n",
       "      <td>1</td>\n",
       "      <td>Chubby Checker</td>\n",
       "      <td>THE TWIST</td>\n",
       "      <td>Male</td>\n",
       "      <td>R&amp;B</td>\n",
       "      <td>60s</td>\n",
       "    </tr>\n",
       "    <tr>\n",
       "      <th>1</th>\n",
       "      <td>2</td>\n",
       "      <td>Santana Featuring Rob Thomas</td>\n",
       "      <td>SMOOTH</td>\n",
       "      <td>Duo/Group</td>\n",
       "      <td>Rock</td>\n",
       "      <td>90s</td>\n",
       "    </tr>\n",
       "  </tbody>\n",
       "</table>\n",
       "</div>"
      ],
      "text/plain": [
       "   Rank                        Artist  SongTitle     Gender Genre Decade\n",
       "0     1                Chubby Checker  THE TWIST       Male   R&B    60s\n",
       "1     2  Santana Featuring Rob Thomas     SMOOTH  Duo/Group  Rock    90s"
      ]
     },
     "execution_count": 8,
     "metadata": {},
     "output_type": "execute_result"
    },
    {
     "name": "stdout",
     "output_type": "stream",
     "text": [
      "\n",
      "**Display last N rows : DF_BBTop600Text.tail(3)\n"
     ]
    },
    {
     "data": {
      "text/html": [
       "<div>\n",
       "<style scoped>\n",
       "    .dataframe tbody tr th:only-of-type {\n",
       "        vertical-align: middle;\n",
       "    }\n",
       "\n",
       "    .dataframe tbody tr th {\n",
       "        vertical-align: top;\n",
       "    }\n",
       "\n",
       "    .dataframe thead th {\n",
       "        text-align: right;\n",
       "    }\n",
       "</style>\n",
       "<table border=\"1\" class=\"dataframe\">\n",
       "  <thead>\n",
       "    <tr style=\"text-align: right;\">\n",
       "      <th></th>\n",
       "      <th>Rank</th>\n",
       "      <th>Artist</th>\n",
       "      <th>SongTitle</th>\n",
       "      <th>Gender</th>\n",
       "      <th>Genre</th>\n",
       "      <th>Decade</th>\n",
       "    </tr>\n",
       "  </thead>\n",
       "  <tbody>\n",
       "    <tr>\n",
       "      <th>597</th>\n",
       "      <td>598</td>\n",
       "      <td>The Rolling Stones</td>\n",
       "      <td>START ME UP</td>\n",
       "      <td>Duo/Group</td>\n",
       "      <td>Rock</td>\n",
       "      <td>80s</td>\n",
       "    </tr>\n",
       "    <tr>\n",
       "      <th>598</th>\n",
       "      <td>599</td>\n",
       "      <td>matchbox twenty</td>\n",
       "      <td>BENT</td>\n",
       "      <td>Duo/Group</td>\n",
       "      <td>Rock</td>\n",
       "      <td>00s</td>\n",
       "    </tr>\n",
       "    <tr>\n",
       "      <th>599</th>\n",
       "      <td>600</td>\n",
       "      <td>a-ha</td>\n",
       "      <td>TAKE ON ME</td>\n",
       "      <td>Duo/Group</td>\n",
       "      <td>Pop</td>\n",
       "      <td>80s</td>\n",
       "    </tr>\n",
       "  </tbody>\n",
       "</table>\n",
       "</div>"
      ],
      "text/plain": [
       "     Rank              Artist    SongTitle     Gender Genre Decade\n",
       "597   598  The Rolling Stones  START ME UP  Duo/Group  Rock    80s\n",
       "598   599     matchbox twenty         BENT  Duo/Group  Rock    00s\n",
       "599   600                a-ha   TAKE ON ME  Duo/Group   Pop    80s"
      ]
     },
     "execution_count": 8,
     "metadata": {},
     "output_type": "execute_result"
    },
    {
     "name": "stdout",
     "output_type": "stream",
     "text": [
      "\n",
      "**Display descriptive statistics for all numerical columns: DF_BBTop600Text.describe\n",
      "In this case rank is the only numerical column.\n"
     ]
    },
    {
     "data": {
      "text/html": [
       "<div>\n",
       "<style scoped>\n",
       "    .dataframe tbody tr th:only-of-type {\n",
       "        vertical-align: middle;\n",
       "    }\n",
       "\n",
       "    .dataframe tbody tr th {\n",
       "        vertical-align: top;\n",
       "    }\n",
       "\n",
       "    .dataframe thead th {\n",
       "        text-align: right;\n",
       "    }\n",
       "</style>\n",
       "<table border=\"1\" class=\"dataframe\">\n",
       "  <thead>\n",
       "    <tr style=\"text-align: right;\">\n",
       "      <th></th>\n",
       "      <th>Rank</th>\n",
       "    </tr>\n",
       "  </thead>\n",
       "  <tbody>\n",
       "    <tr>\n",
       "      <th>count</th>\n",
       "      <td>600.000000</td>\n",
       "    </tr>\n",
       "    <tr>\n",
       "      <th>mean</th>\n",
       "      <td>300.500000</td>\n",
       "    </tr>\n",
       "    <tr>\n",
       "      <th>std</th>\n",
       "      <td>173.349358</td>\n",
       "    </tr>\n",
       "    <tr>\n",
       "      <th>min</th>\n",
       "      <td>1.000000</td>\n",
       "    </tr>\n",
       "    <tr>\n",
       "      <th>25%</th>\n",
       "      <td>150.750000</td>\n",
       "    </tr>\n",
       "    <tr>\n",
       "      <th>50%</th>\n",
       "      <td>300.500000</td>\n",
       "    </tr>\n",
       "    <tr>\n",
       "      <th>75%</th>\n",
       "      <td>450.250000</td>\n",
       "    </tr>\n",
       "    <tr>\n",
       "      <th>max</th>\n",
       "      <td>600.000000</td>\n",
       "    </tr>\n",
       "  </tbody>\n",
       "</table>\n",
       "</div>"
      ],
      "text/plain": [
       "             Rank\n",
       "count  600.000000\n",
       "mean   300.500000\n",
       "std    173.349358\n",
       "min      1.000000\n",
       "25%    150.750000\n",
       "50%    300.500000\n",
       "75%    450.250000\n",
       "max    600.000000"
      ]
     },
     "execution_count": 8,
     "metadata": {},
     "output_type": "execute_result"
    },
    {
     "name": "stdout",
     "output_type": "stream",
     "text": [
      "\n",
      "**To include the categorical columns in the display, use: DF_BBTop600Text.describe(include='all')\n"
     ]
    },
    {
     "data": {
      "text/html": [
       "<div>\n",
       "<style scoped>\n",
       "    .dataframe tbody tr th:only-of-type {\n",
       "        vertical-align: middle;\n",
       "    }\n",
       "\n",
       "    .dataframe tbody tr th {\n",
       "        vertical-align: top;\n",
       "    }\n",
       "\n",
       "    .dataframe thead th {\n",
       "        text-align: right;\n",
       "    }\n",
       "</style>\n",
       "<table border=\"1\" class=\"dataframe\">\n",
       "  <thead>\n",
       "    <tr style=\"text-align: right;\">\n",
       "      <th></th>\n",
       "      <th>Rank</th>\n",
       "      <th>Artist</th>\n",
       "      <th>SongTitle</th>\n",
       "      <th>Gender</th>\n",
       "      <th>Genre</th>\n",
       "      <th>Decade</th>\n",
       "    </tr>\n",
       "  </thead>\n",
       "  <tbody>\n",
       "    <tr>\n",
       "      <th>count</th>\n",
       "      <td>600.000000</td>\n",
       "      <td>600</td>\n",
       "      <td>600</td>\n",
       "      <td>600</td>\n",
       "      <td>600</td>\n",
       "      <td>600</td>\n",
       "    </tr>\n",
       "    <tr>\n",
       "      <th>unique</th>\n",
       "      <td>NaN</td>\n",
       "      <td>456</td>\n",
       "      <td>594</td>\n",
       "      <td>6</td>\n",
       "      <td>8</td>\n",
       "      <td>7</td>\n",
       "    </tr>\n",
       "    <tr>\n",
       "      <th>top</th>\n",
       "      <td>NaN</td>\n",
       "      <td>Mariah Carey</td>\n",
       "      <td>JUMP</td>\n",
       "      <td>Duo/Group</td>\n",
       "      <td>Pop</td>\n",
       "      <td>80s</td>\n",
       "    </tr>\n",
       "    <tr>\n",
       "      <th>freq</th>\n",
       "      <td>NaN</td>\n",
       "      <td>10</td>\n",
       "      <td>2</td>\n",
       "      <td>233</td>\n",
       "      <td>240</td>\n",
       "      <td>133</td>\n",
       "    </tr>\n",
       "    <tr>\n",
       "      <th>mean</th>\n",
       "      <td>300.500000</td>\n",
       "      <td>NaN</td>\n",
       "      <td>NaN</td>\n",
       "      <td>NaN</td>\n",
       "      <td>NaN</td>\n",
       "      <td>NaN</td>\n",
       "    </tr>\n",
       "    <tr>\n",
       "      <th>std</th>\n",
       "      <td>173.349358</td>\n",
       "      <td>NaN</td>\n",
       "      <td>NaN</td>\n",
       "      <td>NaN</td>\n",
       "      <td>NaN</td>\n",
       "      <td>NaN</td>\n",
       "    </tr>\n",
       "    <tr>\n",
       "      <th>min</th>\n",
       "      <td>1.000000</td>\n",
       "      <td>NaN</td>\n",
       "      <td>NaN</td>\n",
       "      <td>NaN</td>\n",
       "      <td>NaN</td>\n",
       "      <td>NaN</td>\n",
       "    </tr>\n",
       "    <tr>\n",
       "      <th>25%</th>\n",
       "      <td>150.750000</td>\n",
       "      <td>NaN</td>\n",
       "      <td>NaN</td>\n",
       "      <td>NaN</td>\n",
       "      <td>NaN</td>\n",
       "      <td>NaN</td>\n",
       "    </tr>\n",
       "    <tr>\n",
       "      <th>50%</th>\n",
       "      <td>300.500000</td>\n",
       "      <td>NaN</td>\n",
       "      <td>NaN</td>\n",
       "      <td>NaN</td>\n",
       "      <td>NaN</td>\n",
       "      <td>NaN</td>\n",
       "    </tr>\n",
       "    <tr>\n",
       "      <th>75%</th>\n",
       "      <td>450.250000</td>\n",
       "      <td>NaN</td>\n",
       "      <td>NaN</td>\n",
       "      <td>NaN</td>\n",
       "      <td>NaN</td>\n",
       "      <td>NaN</td>\n",
       "    </tr>\n",
       "    <tr>\n",
       "      <th>max</th>\n",
       "      <td>600.000000</td>\n",
       "      <td>NaN</td>\n",
       "      <td>NaN</td>\n",
       "      <td>NaN</td>\n",
       "      <td>NaN</td>\n",
       "      <td>NaN</td>\n",
       "    </tr>\n",
       "  </tbody>\n",
       "</table>\n",
       "</div>"
      ],
      "text/plain": [
       "              Rank        Artist SongTitle     Gender Genre Decade\n",
       "count   600.000000           600       600        600   600    600\n",
       "unique         NaN           456       594          6     8      7\n",
       "top            NaN  Mariah Carey      JUMP  Duo/Group   Pop    80s\n",
       "freq           NaN            10         2        233   240    133\n",
       "mean    300.500000           NaN       NaN        NaN   NaN    NaN\n",
       "std     173.349358           NaN       NaN        NaN   NaN    NaN\n",
       "min       1.000000           NaN       NaN        NaN   NaN    NaN\n",
       "25%     150.750000           NaN       NaN        NaN   NaN    NaN\n",
       "50%     300.500000           NaN       NaN        NaN   NaN    NaN\n",
       "75%     450.250000           NaN       NaN        NaN   NaN    NaN\n",
       "max     600.000000           NaN       NaN        NaN   NaN    NaN"
      ]
     },
     "execution_count": 8,
     "metadata": {},
     "output_type": "execute_result"
    }
   ],
   "source": [
    "# Show me the values\n",
    "\n",
    "print(\"**Display first N rows - 5 by default: DF_BBTop600Text.head(2)\")\n",
    "DF_BBTop600Text.head(2)\n",
    "print(\"\")\n",
    "print(\"**Display last N rows : DF_BBTop600Text.tail(3)\")\n",
    "DF_BBTop600Text.tail(3)\n",
    "print(\"\")\n",
    "print(\"**Display descriptive statistics for all numerical columns: DF_BBTop600Text.describe\")\n",
    "print(\"In this case rank is the only numerical column.\")\n",
    "DF_BBTop600Text.describe()\n",
    "print(\"\")\n",
    "print(\"**To include the categorical columns in the display, use: DF_BBTop600Text.describe(include='all')\")\n",
    "DF_BBTop600Text.describe(include='all')\n"
   ]
  },
  {
   "cell_type": "markdown",
   "metadata": {},
   "source": [
    "In this output, term 'top' refers to the value in a column that occurs most frequently (i.e. the 'mode'), while the term 'freq' refers to the number of times the top value occurs. So, for example, the top 'Genre' is 'Pop' which occurs 240 times. Or, the Artist who has had more individual records in the Top 600 is 'Mariah Carey' with 10 song titles. Remember, in this context 'top' should not be confused with the record that was Number 1 in terms of sales. This was Chuck Berry's THE TWIST whose 'Rank' is 1."
   ]
  },
  {
   "cell_type": "code",
   "execution_count": 9,
   "metadata": {},
   "outputs": [
    {
     "data": {
      "text/plain": [
       "array([[1, 'Chubby Checker', 'THE TWIST', 'Male', 'R&B', '60s'],\n",
       "       [2, 'Santana Featuring Rob Thomas', 'SMOOTH', 'Duo/Group', 'Rock',\n",
       "        '90s'],\n",
       "       [3, 'Bobby Darin', 'MACK THE KNIFE', 'Male', 'Pop', '50s'],\n",
       "       ...,\n",
       "       [598, 'The Rolling Stones', 'START ME UP', 'Duo/Group', 'Rock',\n",
       "        '80s'],\n",
       "       [599, 'matchbox twenty', 'BENT', 'Duo/Group', 'Rock', '00s'],\n",
       "       [600, 'a-ha', 'TAKE ON ME', 'Duo/Group', 'Pop', '80s']],\n",
       "      dtype=object)"
      ]
     },
     "execution_count": 9,
     "metadata": {},
     "output_type": "execute_result"
    }
   ],
   "source": [
    "# Converting to from dataframe to a numpy array. This conversion is often required for\n",
    "# a number of other data analysis functions.\n",
    "\n",
    "DF_BBTop600Text.values"
   ]
  },
  {
   "cell_type": "markdown",
   "metadata": {},
   "source": [
    "<a class=\"anchor\" id=\"Summary\"></a>\n",
    "<h4>Summary of Initial Structural Analysis</h4>\n",
    "* [Return to TOC](#toc)\n",
    "\n",
    "So, looking at the results produced by the simple methods above, what are some of things we know about the Billboard data?\n",
    "\n",
    "<ul>\n",
    "    <li><i>Columns</i>: This particular dataframe or data set has 6 columns (or fields or variables depending on your viewpoint) including the rank of the song, the artist's name, the song's title, the sex of the artist, the genre of the song, and the decade the song was released.</li><br>\n",
    "    <li><i>Data Types</i>: From looking at the data types for each of the columns, it's clear that this data set is short on numerical data.  Only 'Rank' is an integer.  The rest of the columns consist of objects or strings denoting the categories that either the artist(s) or songs belong to.  For example, 'Gender' column refers to the gender of the artist(s), while the 'Genre' refers to the 'genre' of the song (i.e. 'R&B', 'Rock', 'Pop', etc.). Which leads to the question of, 'what type of analysis can be performed on these non-numeric columns?' I'll provide the answer shortly.</li><br>\n",
    "    <li><i>Sample Size</i>: Any number of these methods indicates that the size of the sample of data is 600 songs. Of course, we knew this because that's what the of the dataframe indicates.</li><br> \n",
    "    <li><i>Analysis of Columns with Numerical Data</i>. As illustrated, the 'describe' method is an easy way to calculate  Since 'Rank' is a numerical value, the \"describe\" method provides a succint set of statistics summarizing the 600 ranks - smallest value is 1, largest is 600, the mean and median are both 300.5 (halfway between 300 and 301), etc. Of course, if we had been told that every rank occurs only once (no ties), then we could figured these things in our head. If you look at the first and last set of rows with the 'head' and 'tail' methods or you look at the output from the 'values' method, you'll get a inkling that the dataframe is sorted by Rank from 1 to 600. Here, 1 is really the top (i.e. the number 1 song) and 600 is the bottom (really the lowest ranked song). So, it's really easy to look at the output of these methods and that the '#1' song for the last 60 years is Chubby Checker's THE TWIST, while a-ha's song 'TAKE ON ME' was '#600' on the list.  But, what if the ranks weren't in sorted order, how would you answer question like: Who was number 1, or number 600 or in the top 10, etc.? This is where indexing and selecting comes into plan</li> "
   ]
  },
  {
   "cell_type": "markdown",
   "metadata": {},
   "source": [
    "<a class=\"anchor\" id=\"Indexing and Selecting\"></a>\n",
    "<h3>Indexing and Selecting: Determining the Values in Particular Rows and Columns</h3>\n",
    "* [Return to TOC](#toc)\n",
    "\n",
    "Given that a dataframe is basically array, if you understand how to index an array, you'll understand the basic methods used in indexing and selecting values in a dataframe. Also, you've seen 'index' used in some of the methods discussed above.The major addition is that you can also use labels instead of integers as a way of designating particular columns."
   ]
  },
  {
   "cell_type": "markdown",
   "metadata": {},
   "source": [
    "<a class=\"anchor\" id=\"Indexing\"></a>\n",
    "<h4>Indexing</h4>\n",
    "* [Return to TOC](#toc)\n",
    "\n",
    "In pandas the <b>index</b> is an ordered <i>set</i> of row labels (integers or strings) that is typically used for selecting the rows to be displayed or used in a computation. Since the index is a set, it implies that the labels are all unique or hashable. By default, pandas assigns a set of integer values to the (row) index, starting with row 0 and ending with row N-1 in steps of 1.  In the case of the dataframe I've been using -- DF_BBTop600Text -- the row index starts with 0 and ends with 599 (which is 600-1 or the 'stop' value - 1) with steps of 1 (row 0,1,2...). No surprise, the index of a dataframe is obtained with the 'index' method.\n"
   ]
  },
  {
   "cell_type": "code",
   "execution_count": 10,
   "metadata": {},
   "outputs": [
    {
     "data": {
      "text/plain": [
       "RangeIndex(start=0, stop=600, step=1)"
      ]
     },
     "execution_count": 10,
     "metadata": {},
     "output_type": "execute_result"
    }
   ],
   "source": [
    "DF_BBTop600Text.index"
   ]
  },
  {
   "cell_type": "markdown",
   "metadata": {},
   "source": [
    "<a class=\"anchor\" id=\"Labels\"></a>\n",
    "<h4>Labels as Indexes</h4>\n",
    "* [Return to TOC](#toc)\n",
    "\n",
    "It is possible to explicitly assign a set of strings to designate the row index of a dataframe, but most of the time the default is used (i.e. integers from 0 to N-1). However, there are some couple of cases where string labels come in handy. The first case involves methods that result in a 'series' or 'dataframe' where the rows have string labels. This is discussed below. The second of these is the 'groupby' method that also produces either a series or dataframe where the rows also have string labels.  This case is discuss later. \n",
    "\n",
    "The first case occurs when a method produces a series or dataframe where the rows have string labels. As an example, consider the 'describe' method. Here, the output is actually a dataframe, whose columns are the columns of the dataframe being described, while the labels for the rows are the computed statistics such as ['count', 'unique', ...,'max'].  If the results of the method are assigned to variable:\n",
    "<br>    \n",
    "    <i>my_results = DF_BBTop600Text.describe(include='all)</i>\n",
    "<br>  \n",
    "then we can retrieve the various results using the name of the statistic\n",
    "<br><br>\n",
    "<i>my_results.loc['count'])</i>."
   ]
  },
  {
   "cell_type": "code",
   "execution_count": 11,
   "metadata": {},
   "outputs": [
    {
     "name": "stdout",
     "output_type": "stream",
     "text": [
      "\n",
      "Storing the results from 'describe' into a dataframe:\n",
      "my_describe_df = DF_BBTop600Text.describe(include='all')\n"
     ]
    },
    {
     "data": {
      "text/html": [
       "<div>\n",
       "<style scoped>\n",
       "    .dataframe tbody tr th:only-of-type {\n",
       "        vertical-align: middle;\n",
       "    }\n",
       "\n",
       "    .dataframe tbody tr th {\n",
       "        vertical-align: top;\n",
       "    }\n",
       "\n",
       "    .dataframe thead th {\n",
       "        text-align: right;\n",
       "    }\n",
       "</style>\n",
       "<table border=\"1\" class=\"dataframe\">\n",
       "  <thead>\n",
       "    <tr style=\"text-align: right;\">\n",
       "      <th></th>\n",
       "      <th>Rank</th>\n",
       "      <th>Artist</th>\n",
       "      <th>SongTitle</th>\n",
       "      <th>Gender</th>\n",
       "      <th>Genre</th>\n",
       "      <th>Decade</th>\n",
       "    </tr>\n",
       "  </thead>\n",
       "  <tbody>\n",
       "    <tr>\n",
       "      <th>count</th>\n",
       "      <td>600.000000</td>\n",
       "      <td>600</td>\n",
       "      <td>600</td>\n",
       "      <td>600</td>\n",
       "      <td>600</td>\n",
       "      <td>600</td>\n",
       "    </tr>\n",
       "    <tr>\n",
       "      <th>unique</th>\n",
       "      <td>NaN</td>\n",
       "      <td>456</td>\n",
       "      <td>594</td>\n",
       "      <td>6</td>\n",
       "      <td>8</td>\n",
       "      <td>7</td>\n",
       "    </tr>\n",
       "    <tr>\n",
       "      <th>top</th>\n",
       "      <td>NaN</td>\n",
       "      <td>Mariah Carey</td>\n",
       "      <td>JUMP</td>\n",
       "      <td>Duo/Group</td>\n",
       "      <td>Pop</td>\n",
       "      <td>80s</td>\n",
       "    </tr>\n",
       "    <tr>\n",
       "      <th>freq</th>\n",
       "      <td>NaN</td>\n",
       "      <td>10</td>\n",
       "      <td>2</td>\n",
       "      <td>233</td>\n",
       "      <td>240</td>\n",
       "      <td>133</td>\n",
       "    </tr>\n",
       "    <tr>\n",
       "      <th>mean</th>\n",
       "      <td>300.500000</td>\n",
       "      <td>NaN</td>\n",
       "      <td>NaN</td>\n",
       "      <td>NaN</td>\n",
       "      <td>NaN</td>\n",
       "      <td>NaN</td>\n",
       "    </tr>\n",
       "    <tr>\n",
       "      <th>std</th>\n",
       "      <td>173.349358</td>\n",
       "      <td>NaN</td>\n",
       "      <td>NaN</td>\n",
       "      <td>NaN</td>\n",
       "      <td>NaN</td>\n",
       "      <td>NaN</td>\n",
       "    </tr>\n",
       "    <tr>\n",
       "      <th>min</th>\n",
       "      <td>1.000000</td>\n",
       "      <td>NaN</td>\n",
       "      <td>NaN</td>\n",
       "      <td>NaN</td>\n",
       "      <td>NaN</td>\n",
       "      <td>NaN</td>\n",
       "    </tr>\n",
       "    <tr>\n",
       "      <th>25%</th>\n",
       "      <td>150.750000</td>\n",
       "      <td>NaN</td>\n",
       "      <td>NaN</td>\n",
       "      <td>NaN</td>\n",
       "      <td>NaN</td>\n",
       "      <td>NaN</td>\n",
       "    </tr>\n",
       "    <tr>\n",
       "      <th>50%</th>\n",
       "      <td>300.500000</td>\n",
       "      <td>NaN</td>\n",
       "      <td>NaN</td>\n",
       "      <td>NaN</td>\n",
       "      <td>NaN</td>\n",
       "      <td>NaN</td>\n",
       "    </tr>\n",
       "    <tr>\n",
       "      <th>75%</th>\n",
       "      <td>450.250000</td>\n",
       "      <td>NaN</td>\n",
       "      <td>NaN</td>\n",
       "      <td>NaN</td>\n",
       "      <td>NaN</td>\n",
       "      <td>NaN</td>\n",
       "    </tr>\n",
       "    <tr>\n",
       "      <th>max</th>\n",
       "      <td>600.000000</td>\n",
       "      <td>NaN</td>\n",
       "      <td>NaN</td>\n",
       "      <td>NaN</td>\n",
       "      <td>NaN</td>\n",
       "      <td>NaN</td>\n",
       "    </tr>\n",
       "  </tbody>\n",
       "</table>\n",
       "</div>"
      ],
      "text/plain": [
       "              Rank        Artist SongTitle     Gender Genre Decade\n",
       "count   600.000000           600       600        600   600    600\n",
       "unique         NaN           456       594          6     8      7\n",
       "top            NaN  Mariah Carey      JUMP  Duo/Group   Pop    80s\n",
       "freq           NaN            10         2        233   240    133\n",
       "mean    300.500000           NaN       NaN        NaN   NaN    NaN\n",
       "std     173.349358           NaN       NaN        NaN   NaN    NaN\n",
       "min       1.000000           NaN       NaN        NaN   NaN    NaN\n",
       "25%     150.750000           NaN       NaN        NaN   NaN    NaN\n",
       "50%     300.500000           NaN       NaN        NaN   NaN    NaN\n",
       "75%     450.250000           NaN       NaN        NaN   NaN    NaN\n",
       "max     600.000000           NaN       NaN        NaN   NaN    NaN"
      ]
     },
     "execution_count": 11,
     "metadata": {},
     "output_type": "execute_result"
    },
    {
     "data": {
      "text/plain": [
       "Index(['count', 'unique', 'top', 'freq', 'mean', 'std', 'min', '25%', '50%',\n",
       "       '75%', 'max'],\n",
       "      dtype='object')"
      ]
     },
     "execution_count": 11,
     "metadata": {},
     "output_type": "execute_result"
    },
    {
     "name": "stdout",
     "output_type": "stream",
     "text": [
      "\n",
      "Display the values for the row labeled 'unique': my_describe_df.loc['unique'] \n"
     ]
    },
    {
     "data": {
      "text/plain": [
       "Rank         NaN\n",
       "Artist       456\n",
       "SongTitle    594\n",
       "Gender         6\n",
       "Genre          8\n",
       "Decade         7\n",
       "Name: unique, dtype: object"
      ]
     },
     "execution_count": 11,
     "metadata": {},
     "output_type": "execute_result"
    }
   ],
   "source": [
    "print(\"\")\n",
    "print(\"Storing the results from 'describe' into a dataframe:\")\n",
    "print(\"my_describe_df = DF_BBTop600Text.describe(include='all')\")\n",
    "my_describe_df = DF_BBTop600Text.describe(include='all')\n",
    "my_describe_df\n",
    "my_describe_df.index\n",
    "print(\"\")\n",
    "print(\"Display the values for the row labeled 'unique': my_describe_df.loc['unique'] \")\n",
    "my_describe_df.loc['unique']"
   ]
  },
  {
   "cell_type": "markdown",
   "metadata": {},
   "source": [
    "<a class=\"anchor\" id=\"Groupby1\"></a>\n",
    "<h4>Groupby Method: Brief Example</h4>\n",
    "* [Return to TOC](#toc)\n",
    "\n",
    "Results from the 'groupby' method produce a series or dataframe. The 'groupby' method, splits results into a series of groups based on the values of one or more columns. Shortly, I'll be looking at this method in detail.  As a simple example, consider the following groupby call for the column labeled 'Decade' in the 'DF_BBTop600Text' dataframe:\n",
    "<br><br>\n",
    "    <i>my_groupby_array = DF_BBTop600Text.groupby('Decade')['Decade'].count()</i>\n",
    "<br><br>\n",
    "This call will store the counts for each 'Decade' into an series with a column labeled 'Decade' and rows that are indexed by string labels.\n",
    "</li>\n",
    "</ul>"
   ]
  },
  {
   "cell_type": "code",
   "execution_count": 12,
   "metadata": {},
   "outputs": [
    {
     "name": "stdout",
     "output_type": "stream",
     "text": [
      "\n",
      "groupby for the 'Decade' column:\n",
      "my_groupby_array = DF_BBTop600Text.groupby('Decade')['Decade'].count()\n"
     ]
    },
    {
     "data": {
      "text/plain": [
       "pandas.core.series.Series"
      ]
     },
     "execution_count": 12,
     "metadata": {},
     "output_type": "execute_result"
    },
    {
     "data": {
      "text/plain": [
       "Index(['00s', '10s', '50s', '60s', '70s', '80s', '90s'], dtype='object', name='Decade')"
      ]
     },
     "execution_count": 12,
     "metadata": {},
     "output_type": "execute_result"
    },
    {
     "name": "stdout",
     "output_type": "stream",
     "text": [
      "\n",
      "Results for Series\n"
     ]
    },
    {
     "data": {
      "text/plain": [
       "Decade\n",
       "00s     83\n",
       "10s     71\n",
       "50s     21\n",
       "60s     76\n",
       "70s    114\n",
       "80s    133\n",
       "90s    102\n",
       "Name: Decade, dtype: int64"
      ]
     },
     "execution_count": 12,
     "metadata": {},
     "output_type": "execute_result"
    }
   ],
   "source": [
    "print(\"\")\n",
    "print(\"groupby for the 'Decade' column:\")\n",
    "print(\"my_groupby_array = DF_BBTop600Text.groupby('Decade')['Decade'].count()\")\n",
    "my_groupby_array = DF_BBTop600Text.groupby('Decade')['Decade'].count()\n",
    "type(my_groupby_array)\n",
    "my_groupby_array.index\n",
    "print(\"\")\n",
    "print(\"Results for Series\")\n",
    "my_groupby_array"
   ]
  },
  {
   "cell_type": "markdown",
   "metadata": {},
   "source": [
    "Couple of things to note with this result:\n",
    "<ol>\n",
    "<li>As the numbers show, the 'top' or most frequent Decade is the '80s' which encompassed 133 songs (i.e. which is the 'freq' of the array). This was surfaced earlier by the 'describe' method.</li>\n",
    "<li>In the display, the order of the index is sorted alphabetically. The problem is that it doesn't make sense from a numerical perspective. 00s and 10s refer to the decades 2000 and 2010, while the remaining decades are all in the 1900s. So, it's preferable to sort this array numerically rather than alphabetically.  We'll see how to do this a little later in the notes. "
   ]
  },
  {
   "cell_type": "markdown",
   "metadata": {},
   "source": [
    "<a class=\"anchor\" id=\"Subsets\"></a>\n",
    "<h4>Selecting Subsets of Data from a Dataframe (for Display, Visualization and Analysis)</h4>\n",
    "* [Return to TOC](#toc)\n",
    "\n",
    "There are three basic ways to select a subset of rows and columns from a dataframe including using:\n",
    "\n",
    "<ul> \n",
    "<li><i>df.colname or df['colname']</i></li>\n",
    "<li><i>df.loc[row_indexer,column_indexer]</i> -- where the row and column indexers are either labels, lists of labels, slices of labels denoted by 'start:stop' values, or boolean selection.</li>\n",
    "<li><i>df.iloc[row_indexer,column_indexer]</i> -- where the row and column indexers are either integers, lists of integers or slices of integers denoted by 'start:stop' values.</li>\n",
    "</ul>\n",
    "\n",
    "All of these methods are designed to answer questions about particular rows and columns of interest specified by the selection criteria.  For example, what are the names of the artists who sang/played the 5 highest ranking songs? Or, what was the Genre of the top 10 songs by rank? Or, which song titles were released in the 50s? Or, what was the Gender and Genre of the bottom 20 songs? Or, which song titles were released in the 50s?  "
   ]
  },
  {
   "cell_type": "markdown",
   "metadata": {},
   "source": [
    "<a class=\"anchor\" id=\"Colnames\"></a>\n",
    "<h5>Selecting particular columns using colnames</h5>\n",
    "* [Return to TOC](#toc)\n",
    "    \n",
    "In illustrating the methods we'll restrict the output by focusing on the 'head' or 'tail' of the dataframe."
   ]
  },
  {
   "cell_type": "code",
   "execution_count": 13,
   "metadata": {},
   "outputs": [
    {
     "name": "stdout",
     "output_type": "stream",
     "text": [
      "\n",
      "Selecting a particular column using its label: DF_BBTop600Text['Genre']\n",
      "Restricting output to the first 5 rows. This shows the top 5 songs by genre.\n"
     ]
    },
    {
     "data": {
      "text/plain": [
       "0        R&B\n",
       "1       Rock\n",
       "2        Pop\n",
       "3        Pop\n",
       "4    Country\n",
       "Name: Genre, dtype: object"
      ]
     },
     "execution_count": 13,
     "metadata": {},
     "output_type": "execute_result"
    },
    {
     "name": "stdout",
     "output_type": "stream",
     "text": [
      "\n",
      "Selecting a particular column using its column name: DF_BBTop600Text.Genre\n",
      "This is basically shorthand for the above selection syntax.\n",
      "Restricting output to the first 5 rows\n"
     ]
    },
    {
     "data": {
      "text/plain": [
       "0        R&B\n",
       "1       Rock\n",
       "2        Pop\n",
       "3        Pop\n",
       "4    Country\n",
       "Name: Genre, dtype: object"
      ]
     },
     "execution_count": 13,
     "metadata": {},
     "output_type": "execute_result"
    },
    {
     "name": "stdout",
     "output_type": "stream",
     "text": [
      "\n",
      "Selecting a list of columns using a list of column names: DF_BBTop600Text[['Rank','Genre']]\n",
      "Restricting output to the last 4 rows\n"
     ]
    },
    {
     "data": {
      "text/html": [
       "<div>\n",
       "<style scoped>\n",
       "    .dataframe tbody tr th:only-of-type {\n",
       "        vertical-align: middle;\n",
       "    }\n",
       "\n",
       "    .dataframe tbody tr th {\n",
       "        vertical-align: top;\n",
       "    }\n",
       "\n",
       "    .dataframe thead th {\n",
       "        text-align: right;\n",
       "    }\n",
       "</style>\n",
       "<table border=\"1\" class=\"dataframe\">\n",
       "  <thead>\n",
       "    <tr style=\"text-align: right;\">\n",
       "      <th></th>\n",
       "      <th>Rank</th>\n",
       "      <th>Genre</th>\n",
       "    </tr>\n",
       "  </thead>\n",
       "  <tbody>\n",
       "    <tr>\n",
       "      <th>596</th>\n",
       "      <td>597</td>\n",
       "      <td>Pop</td>\n",
       "    </tr>\n",
       "    <tr>\n",
       "      <th>597</th>\n",
       "      <td>598</td>\n",
       "      <td>Rock</td>\n",
       "    </tr>\n",
       "    <tr>\n",
       "      <th>598</th>\n",
       "      <td>599</td>\n",
       "      <td>Rock</td>\n",
       "    </tr>\n",
       "    <tr>\n",
       "      <th>599</th>\n",
       "      <td>600</td>\n",
       "      <td>Pop</td>\n",
       "    </tr>\n",
       "  </tbody>\n",
       "</table>\n",
       "</div>"
      ],
      "text/plain": [
       "     Rank Genre\n",
       "596   597   Pop\n",
       "597   598  Rock\n",
       "598   599  Rock\n",
       "599   600   Pop"
      ]
     },
     "execution_count": 13,
     "metadata": {},
     "output_type": "execute_result"
    },
    {
     "name": "stdout",
     "output_type": "stream",
     "text": [
      "\n",
      "Selecting one or more columns using a boolean expression: DF_BBTop600Text[DF_BBTop600Text.Rank < 5].Genre\n"
     ]
    },
    {
     "data": {
      "text/plain": [
       "0     R&B\n",
       "1    Rock\n",
       "2     Pop\n",
       "3     Pop\n",
       "Name: Genre, dtype: object"
      ]
     },
     "execution_count": 13,
     "metadata": {},
     "output_type": "execute_result"
    },
    {
     "name": "stdout",
     "output_type": "stream",
     "text": [
      "\n",
      "Selecting one or more columns using a boolean expression with list of column names:\n",
      "DF_BBTop600Text[DF_BBTop600Text.Rank < 5][['Genre','Decade']]\n"
     ]
    },
    {
     "data": {
      "text/html": [
       "<div>\n",
       "<style scoped>\n",
       "    .dataframe tbody tr th:only-of-type {\n",
       "        vertical-align: middle;\n",
       "    }\n",
       "\n",
       "    .dataframe tbody tr th {\n",
       "        vertical-align: top;\n",
       "    }\n",
       "\n",
       "    .dataframe thead th {\n",
       "        text-align: right;\n",
       "    }\n",
       "</style>\n",
       "<table border=\"1\" class=\"dataframe\">\n",
       "  <thead>\n",
       "    <tr style=\"text-align: right;\">\n",
       "      <th></th>\n",
       "      <th>Rank</th>\n",
       "      <th>Genre</th>\n",
       "      <th>Decade</th>\n",
       "    </tr>\n",
       "  </thead>\n",
       "  <tbody>\n",
       "    <tr>\n",
       "      <th>0</th>\n",
       "      <td>1</td>\n",
       "      <td>R&amp;B</td>\n",
       "      <td>60s</td>\n",
       "    </tr>\n",
       "    <tr>\n",
       "      <th>1</th>\n",
       "      <td>2</td>\n",
       "      <td>Rock</td>\n",
       "      <td>90s</td>\n",
       "    </tr>\n",
       "    <tr>\n",
       "      <th>2</th>\n",
       "      <td>3</td>\n",
       "      <td>Pop</td>\n",
       "      <td>50s</td>\n",
       "    </tr>\n",
       "    <tr>\n",
       "      <th>3</th>\n",
       "      <td>4</td>\n",
       "      <td>Pop</td>\n",
       "      <td>10s</td>\n",
       "    </tr>\n",
       "  </tbody>\n",
       "</table>\n",
       "</div>"
      ],
      "text/plain": [
       "   Rank Genre Decade\n",
       "0     1   R&B    60s\n",
       "1     2  Rock    90s\n",
       "2     3   Pop    50s\n",
       "3     4   Pop    10s"
      ]
     },
     "execution_count": 13,
     "metadata": {},
     "output_type": "execute_result"
    }
   ],
   "source": [
    "print('')\n",
    "print(\"Selecting a particular column using its label: DF_BBTop600Text['Genre']\")\n",
    "print(\"Restricting output to the first 5 rows. This shows the top 5 songs by genre.\")\n",
    "DF_BBTop600Text['Genre'].head()\n",
    "\n",
    "print('')\n",
    "print('Selecting a particular column using its column name: DF_BBTop600Text.Genre')\n",
    "print('This is basically shorthand for the above selection syntax.')\n",
    "print(\"Restricting output to the first 5 rows\")\n",
    "DF_BBTop600Text.Genre.head()\n",
    "\n",
    "print('')\n",
    "print(\"Selecting a list of columns using a list of column names: DF_BBTop600Text[['Rank','Genre']]\")\n",
    "print(\"Restricting output to the last 4 rows\")\n",
    "DF_BBTop600Text[['Rank','Genre']].tail(4)\n",
    "\n",
    "print(\"\")\n",
    "print(\"Selecting one or more columns using a boolean expression: DF_BBTop600Text[DF_BBTop600Text.Rank < 5].Genre\")\n",
    "DF_BBTop600Text[DF_BBTop600Text.Rank < 5].Genre\n",
    "\n",
    "print(\"\")\n",
    "print(\"Selecting one or more columns using a boolean expression with list of column names:\")\n",
    "print(\"DF_BBTop600Text[DF_BBTop600Text.Rank < 5][['Genre','Decade']]\")\n",
    "DF_BBTop600Text[DF_BBTop600Text.Rank < 5][['Rank','Genre','Decade']]"
   ]
  },
  {
   "cell_type": "markdown",
   "metadata": {},
   "source": [
    "<a class=\"anchor\" id=\"loc\"></a>\n",
    "<h5>Selecting using loc method</h5>\n",
    "* [Return to TOC](#toc)\n",
    "\n",
    "Selection subset of rows and columns using 'loc' method and label indexing. In all cases the row index is taken to be the default, so the indices are integers"
   ]
  },
  {
   "cell_type": "code",
   "execution_count": 14,
   "metadata": {
    "scrolled": true
   },
   "outputs": [
    {
     "name": "stdout",
     "output_type": "stream",
     "text": [
      "\n",
      "Selecting subset using 'loc' & labels: DF_BBTop600Text.loc[1,'Rank']\n"
     ]
    },
    {
     "data": {
      "text/plain": [
       "11"
      ]
     },
     "execution_count": 14,
     "metadata": {},
     "output_type": "execute_result"
    },
    {
     "name": "stdout",
     "output_type": "stream",
     "text": [
      "\n",
      "Selecting subset using 'loc' & list of labels: DF_BBTop600Text.loc[[0,4],['Rank','Artist','Gender']]\n"
     ]
    },
    {
     "data": {
      "text/html": [
       "<div>\n",
       "<style scoped>\n",
       "    .dataframe tbody tr th:only-of-type {\n",
       "        vertical-align: middle;\n",
       "    }\n",
       "\n",
       "    .dataframe tbody tr th {\n",
       "        vertical-align: top;\n",
       "    }\n",
       "\n",
       "    .dataframe thead th {\n",
       "        text-align: right;\n",
       "    }\n",
       "</style>\n",
       "<table border=\"1\" class=\"dataframe\">\n",
       "  <thead>\n",
       "    <tr style=\"text-align: right;\">\n",
       "      <th></th>\n",
       "      <th>Rank</th>\n",
       "      <th>Artist</th>\n",
       "      <th>Gender</th>\n",
       "    </tr>\n",
       "  </thead>\n",
       "  <tbody>\n",
       "    <tr>\n",
       "      <th>0</th>\n",
       "      <td>1</td>\n",
       "      <td>Chubby Checker</td>\n",
       "      <td>Male</td>\n",
       "    </tr>\n",
       "    <tr>\n",
       "      <th>4</th>\n",
       "      <td>5</td>\n",
       "      <td>LeAnn Rimes</td>\n",
       "      <td>Female</td>\n",
       "    </tr>\n",
       "  </tbody>\n",
       "</table>\n",
       "</div>"
      ],
      "text/plain": [
       "   Rank          Artist  Gender\n",
       "0     1  Chubby Checker    Male\n",
       "4     5     LeAnn Rimes  Female"
      ]
     },
     "execution_count": 14,
     "metadata": {},
     "output_type": "execute_result"
    },
    {
     "name": "stdout",
     "output_type": "stream",
     "text": [
      "\n",
      "Selecting a subset using 'loc' & list of labels: DF_BBTop600Text.loc[7:9,'Rank':'Genre']\n"
     ]
    },
    {
     "data": {
      "text/html": [
       "<div>\n",
       "<style scoped>\n",
       "    .dataframe tbody tr th:only-of-type {\n",
       "        vertical-align: middle;\n",
       "    }\n",
       "\n",
       "    .dataframe tbody tr th {\n",
       "        vertical-align: top;\n",
       "    }\n",
       "\n",
       "    .dataframe thead th {\n",
       "        text-align: right;\n",
       "    }\n",
       "</style>\n",
       "<table border=\"1\" class=\"dataframe\">\n",
       "  <thead>\n",
       "    <tr style=\"text-align: right;\">\n",
       "      <th></th>\n",
       "      <th>Rank</th>\n",
       "      <th>Artist</th>\n",
       "      <th>SongTitle</th>\n",
       "      <th>Gender</th>\n",
       "      <th>Genre</th>\n",
       "    </tr>\n",
       "  </thead>\n",
       "  <tbody>\n",
       "    <tr>\n",
       "      <th>7</th>\n",
       "      <td>8</td>\n",
       "      <td>Los Del Rio</td>\n",
       "      <td>MACARENA (BAYSIDE BOYS MIX)</td>\n",
       "      <td>Duo/Group</td>\n",
       "      <td>Latin</td>\n",
       "    </tr>\n",
       "    <tr>\n",
       "      <th>8</th>\n",
       "      <td>9</td>\n",
       "      <td>Ed Sheeran</td>\n",
       "      <td>SHAPE OF YOU</td>\n",
       "      <td>Male</td>\n",
       "      <td>Pop</td>\n",
       "    </tr>\n",
       "    <tr>\n",
       "      <th>9</th>\n",
       "      <td>10</td>\n",
       "      <td>Olivia Newton-John</td>\n",
       "      <td>PHYSICAL</td>\n",
       "      <td>Female</td>\n",
       "      <td>Pop</td>\n",
       "    </tr>\n",
       "  </tbody>\n",
       "</table>\n",
       "</div>"
      ],
      "text/plain": [
       "   Rank              Artist                    SongTitle     Gender  Genre\n",
       "7     8         Los Del Rio  MACARENA (BAYSIDE BOYS MIX)  Duo/Group  Latin\n",
       "8     9          Ed Sheeran                 SHAPE OF YOU       Male    Pop\n",
       "9    10  Olivia Newton-John                     PHYSICAL     Female    Pop"
      ]
     },
     "execution_count": 14,
     "metadata": {},
     "output_type": "execute_result"
    },
    {
     "name": "stdout",
     "output_type": "stream",
     "text": [
      "\n",
      "Selecting a subset using 'loc', boolean expression, and list of labels:\n",
      "DF_BBTop600Text.loc[(DF_BBTop600Text['Gender'] == 'Female') & \n",
      "(DF_BBTop600Text['Decade'] == '60s'),['Rank','SongTitle','Genre']]\n"
     ]
    },
    {
     "data": {
      "text/html": [
       "<div>\n",
       "<style scoped>\n",
       "    .dataframe tbody tr th:only-of-type {\n",
       "        vertical-align: middle;\n",
       "    }\n",
       "\n",
       "    .dataframe tbody tr th {\n",
       "        vertical-align: top;\n",
       "    }\n",
       "\n",
       "    .dataframe thead th {\n",
       "        text-align: right;\n",
       "    }\n",
       "</style>\n",
       "<table border=\"1\" class=\"dataframe\">\n",
       "  <thead>\n",
       "    <tr style=\"text-align: right;\">\n",
       "      <th></th>\n",
       "      <th>Rank</th>\n",
       "      <th>SongTitle</th>\n",
       "      <th>Genre</th>\n",
       "    </tr>\n",
       "  </thead>\n",
       "  <tbody>\n",
       "    <tr>\n",
       "      <th>158</th>\n",
       "      <td>159</td>\n",
       "      <td>I'M SORRY</td>\n",
       "      <td>Pop</td>\n",
       "    </tr>\n",
       "    <tr>\n",
       "      <th>221</th>\n",
       "      <td>222</td>\n",
       "      <td>TO SIR WITH LOVE</td>\n",
       "      <td>Pop</td>\n",
       "    </tr>\n",
       "    <tr>\n",
       "      <th>322</th>\n",
       "      <td>323</td>\n",
       "      <td>ODE TO BILLIE JOE</td>\n",
       "      <td>Pop</td>\n",
       "    </tr>\n",
       "    <tr>\n",
       "      <th>382</th>\n",
       "      <td>383</td>\n",
       "      <td>MY HEART HAS A MIND OF ITS OWN</td>\n",
       "      <td>Pop</td>\n",
       "    </tr>\n",
       "    <tr>\n",
       "      <th>411</th>\n",
       "      <td>412</td>\n",
       "      <td>DOMINIQUE</td>\n",
       "      <td>Pop</td>\n",
       "    </tr>\n",
       "    <tr>\n",
       "      <th>568</th>\n",
       "      <td>569</td>\n",
       "      <td>JOHNNY ANGEL</td>\n",
       "      <td>Pop</td>\n",
       "    </tr>\n",
       "    <tr>\n",
       "      <th>579</th>\n",
       "      <td>580</td>\n",
       "      <td>EVERYBODY'S SOMEBODY'S FOOL</td>\n",
       "      <td>Pop</td>\n",
       "    </tr>\n",
       "    <tr>\n",
       "      <th>592</th>\n",
       "      <td>593</td>\n",
       "      <td>DOWNTOWN</td>\n",
       "      <td>Pop</td>\n",
       "    </tr>\n",
       "  </tbody>\n",
       "</table>\n",
       "</div>"
      ],
      "text/plain": [
       "     Rank                       SongTitle Genre\n",
       "158   159                       I'M SORRY   Pop\n",
       "221   222                TO SIR WITH LOVE   Pop\n",
       "322   323               ODE TO BILLIE JOE   Pop\n",
       "382   383  MY HEART HAS A MIND OF ITS OWN   Pop\n",
       "411   412                       DOMINIQUE   Pop\n",
       "568   569                    JOHNNY ANGEL   Pop\n",
       "579   580     EVERYBODY'S SOMEBODY'S FOOL   Pop\n",
       "592   593                        DOWNTOWN   Pop"
      ]
     },
     "execution_count": 14,
     "metadata": {},
     "output_type": "execute_result"
    },
    {
     "name": "stdout",
     "output_type": "stream",
     "text": [
      "\n",
      "Selecting a subset using 'loc', a slice of labels, and boolean expression:\n",
      "This selection is broken into 2 steps:\n",
      "Select slice: temp_DF = DF_BBTop600Text.loc[0:9,'Rank':'Genre']\n",
      "Then select based on boolean expression: temp_DF[temp_DF.Gender == 'Female]\n"
     ]
    },
    {
     "data": {
      "text/html": [
       "<div>\n",
       "<style scoped>\n",
       "    .dataframe tbody tr th:only-of-type {\n",
       "        vertical-align: middle;\n",
       "    }\n",
       "\n",
       "    .dataframe tbody tr th {\n",
       "        vertical-align: top;\n",
       "    }\n",
       "\n",
       "    .dataframe thead th {\n",
       "        text-align: right;\n",
       "    }\n",
       "</style>\n",
       "<table border=\"1\" class=\"dataframe\">\n",
       "  <thead>\n",
       "    <tr style=\"text-align: right;\">\n",
       "      <th></th>\n",
       "      <th>Rank</th>\n",
       "      <th>Artist</th>\n",
       "      <th>SongTitle</th>\n",
       "      <th>Gender</th>\n",
       "      <th>Genre</th>\n",
       "    </tr>\n",
       "  </thead>\n",
       "  <tbody>\n",
       "    <tr>\n",
       "      <th>4</th>\n",
       "      <td>5</td>\n",
       "      <td>LeAnn Rimes</td>\n",
       "      <td>HOW DO I LIVE</td>\n",
       "      <td>Female</td>\n",
       "      <td>Country</td>\n",
       "    </tr>\n",
       "    <tr>\n",
       "      <th>9</th>\n",
       "      <td>10</td>\n",
       "      <td>Olivia Newton-John</td>\n",
       "      <td>PHYSICAL</td>\n",
       "      <td>Female</td>\n",
       "      <td>Pop</td>\n",
       "    </tr>\n",
       "  </tbody>\n",
       "</table>\n",
       "</div>"
      ],
      "text/plain": [
       "   Rank              Artist      SongTitle  Gender    Genre\n",
       "4     5         LeAnn Rimes  HOW DO I LIVE  Female  Country\n",
       "9    10  Olivia Newton-John       PHYSICAL  Female      Pop"
      ]
     },
     "execution_count": 14,
     "metadata": {},
     "output_type": "execute_result"
    }
   ],
   "source": [
    "\n",
    "print(\"\")\n",
    "print(\"Selecting subset using 'loc' & labels: DF_BBTop600Text.loc[1,'Rank']\")\n",
    "DF_BBTop600Text.loc[10,'Rank']\n",
    "\n",
    "print(\"\")\n",
    "print(\"Selecting subset using 'loc' & list of labels: DF_BBTop600Text.loc[[0,4],['Rank','Artist','Gender']]\")\n",
    "DF_BBTop600Text.loc[[0,4],['Rank','Artist','Gender']]\n",
    "\n",
    "print(\"\")\n",
    "print(\"Selecting a subset using 'loc' & list of labels: DF_BBTop600Text.loc[7:9,'Rank':'Genre']\")\n",
    "DF_BBTop600Text.loc[7:9,'Rank':'Genre']\n",
    "\n",
    "print(\"\")\n",
    "print(\"Selecting a subset using 'loc', boolean expression, and list of labels:\")\n",
    "print(\"DF_BBTop600Text.loc[(DF_BBTop600Text['Gender'] == 'Female') & \")\n",
    "print(\"(DF_BBTop600Text['Decade'] == '60s'),['Rank','SongTitle','Genre']]\")\n",
    "DF_BBTop600Text.loc[(DF_BBTop600Text['Gender'] == 'Female') & (DF_BBTop600Text['Decade'] == '60s'),['Rank','SongTitle','Genre']]\n",
    "\n",
    "print(\"\")\n",
    "print(\"Selecting a subset using 'loc', a slice of labels, and boolean expression:\")\n",
    "print(\"This selection is broken into 2 steps:\")\n",
    "print(\"Select slice: temp_DF = DF_BBTop600Text.loc[0:9,'Rank':'Genre']\")\n",
    "print(\"Then select based on boolean expression: temp_DF[temp_DF.Gender == 'Female]\")\n",
    "temp_DF = DF_BBTop600Text.loc[0:9,'Rank':'Genre']\n",
    "temp_DF[temp_DF.Gender == 'Female']"
   ]
  },
  {
   "cell_type": "markdown",
   "metadata": {},
   "source": [
    "<a class=\"anchor\" id=\"iloc\"></a>\n",
    "<h5>Selecting using iloc method</h5>\n",
    "* [Return to TOC](#toc)\n",
    "    \n",
    "Selecting particular rows and columns using 'iloc' and integer indexing. This is basically a clone of how indexing and selection is done with numpy arrays."
   ]
  },
  {
   "cell_type": "code",
   "execution_count": 15,
   "metadata": {},
   "outputs": [
    {
     "name": "stdout",
     "output_type": "stream",
     "text": [
      "\n",
      "Selecting a subset using 'iloc' and integers: DF_BBTop600Text.iloc[0,1]\n"
     ]
    },
    {
     "data": {
      "text/plain": [
       "'Chubby Checker'"
      ]
     },
     "execution_count": 15,
     "metadata": {},
     "output_type": "execute_result"
    },
    {
     "name": "stdout",
     "output_type": "stream",
     "text": [
      "\n",
      "Selecting a subset using 'iloc' and lists of integers: DF_BBTop600Text.iloc[[0,1,2],[0,5,4]]\n"
     ]
    },
    {
     "data": {
      "text/html": [
       "<div>\n",
       "<style scoped>\n",
       "    .dataframe tbody tr th:only-of-type {\n",
       "        vertical-align: middle;\n",
       "    }\n",
       "\n",
       "    .dataframe tbody tr th {\n",
       "        vertical-align: top;\n",
       "    }\n",
       "\n",
       "    .dataframe thead th {\n",
       "        text-align: right;\n",
       "    }\n",
       "</style>\n",
       "<table border=\"1\" class=\"dataframe\">\n",
       "  <thead>\n",
       "    <tr style=\"text-align: right;\">\n",
       "      <th></th>\n",
       "      <th>Rank</th>\n",
       "      <th>Decade</th>\n",
       "      <th>Genre</th>\n",
       "    </tr>\n",
       "  </thead>\n",
       "  <tbody>\n",
       "    <tr>\n",
       "      <th>0</th>\n",
       "      <td>1</td>\n",
       "      <td>60s</td>\n",
       "      <td>R&amp;B</td>\n",
       "    </tr>\n",
       "    <tr>\n",
       "      <th>1</th>\n",
       "      <td>2</td>\n",
       "      <td>90s</td>\n",
       "      <td>Rock</td>\n",
       "    </tr>\n",
       "    <tr>\n",
       "      <th>2</th>\n",
       "      <td>3</td>\n",
       "      <td>50s</td>\n",
       "      <td>Pop</td>\n",
       "    </tr>\n",
       "  </tbody>\n",
       "</table>\n",
       "</div>"
      ],
      "text/plain": [
       "   Rank Decade Genre\n",
       "0     1    60s   R&B\n",
       "1     2    90s  Rock\n",
       "2     3    50s   Pop"
      ]
     },
     "execution_count": 15,
     "metadata": {},
     "output_type": "execute_result"
    },
    {
     "name": "stdout",
     "output_type": "stream",
     "text": [
      "\n",
      "Selecting a subset using 'iloc' and slice of integers: DF_BBTop600Text.iloc[5:10,0:3]\n"
     ]
    },
    {
     "data": {
      "text/html": [
       "<div>\n",
       "<style scoped>\n",
       "    .dataframe tbody tr th:only-of-type {\n",
       "        vertical-align: middle;\n",
       "    }\n",
       "\n",
       "    .dataframe tbody tr th {\n",
       "        vertical-align: top;\n",
       "    }\n",
       "\n",
       "    .dataframe thead th {\n",
       "        text-align: right;\n",
       "    }\n",
       "</style>\n",
       "<table border=\"1\" class=\"dataframe\">\n",
       "  <thead>\n",
       "    <tr style=\"text-align: right;\">\n",
       "      <th></th>\n",
       "      <th>Rank</th>\n",
       "      <th>Artist</th>\n",
       "      <th>SongTitle</th>\n",
       "    </tr>\n",
       "  </thead>\n",
       "  <tbody>\n",
       "    <tr>\n",
       "      <th>5</th>\n",
       "      <td>6</td>\n",
       "      <td>LMFAO Featuring Lauren Bennett &amp; GoonRock</td>\n",
       "      <td>PARTY ROCK ANTHEM</td>\n",
       "    </tr>\n",
       "    <tr>\n",
       "      <th>6</th>\n",
       "      <td>7</td>\n",
       "      <td>The Black Eyed Peas</td>\n",
       "      <td>I GOTTA FEELING</td>\n",
       "    </tr>\n",
       "    <tr>\n",
       "      <th>7</th>\n",
       "      <td>8</td>\n",
       "      <td>Los Del Rio</td>\n",
       "      <td>MACARENA (BAYSIDE BOYS MIX)</td>\n",
       "    </tr>\n",
       "    <tr>\n",
       "      <th>8</th>\n",
       "      <td>9</td>\n",
       "      <td>Ed Sheeran</td>\n",
       "      <td>SHAPE OF YOU</td>\n",
       "    </tr>\n",
       "    <tr>\n",
       "      <th>9</th>\n",
       "      <td>10</td>\n",
       "      <td>Olivia Newton-John</td>\n",
       "      <td>PHYSICAL</td>\n",
       "    </tr>\n",
       "  </tbody>\n",
       "</table>\n",
       "</div>"
      ],
      "text/plain": [
       "   Rank                                     Artist  \\\n",
       "5     6  LMFAO Featuring Lauren Bennett & GoonRock   \n",
       "6     7                        The Black Eyed Peas   \n",
       "7     8                                Los Del Rio   \n",
       "8     9                                 Ed Sheeran   \n",
       "9    10                         Olivia Newton-John   \n",
       "\n",
       "                     SongTitle  \n",
       "5            PARTY ROCK ANTHEM  \n",
       "6              I GOTTA FEELING  \n",
       "7  MACARENA (BAYSIDE BOYS MIX)  \n",
       "8                 SHAPE OF YOU  \n",
       "9                     PHYSICAL  "
      ]
     },
     "execution_count": 15,
     "metadata": {},
     "output_type": "execute_result"
    }
   ],
   "source": [
    "\n",
    "print(\"\")\n",
    "print(\"Selecting a subset using 'iloc' and integers: DF_BBTop600Text.iloc[0,1]\")\n",
    "DF_BBTop600Text.iloc[0,1]\n",
    "\n",
    "print('')\n",
    "print(\"Selecting a subset using 'iloc' and lists of integers: DF_BBTop600Text.iloc[[0,1,2],[0,5,4]]\")\n",
    "DF_BBTop600Text.iloc[[0,1,2],[0,5,4]]\n",
    "\n",
    "print('')\n",
    "print(\"Selecting a subset using 'iloc' and slice of integers: DF_BBTop600Text.iloc[5:10,0:3]\")\n",
    "DF_BBTop600Text.iloc[5:10,0:3]"
   ]
  },
  {
   "cell_type": "code",
   "execution_count": 16,
   "metadata": {},
   "outputs": [
    {
     "data": {
      "text/html": [
       "<div>\n",
       "<style scoped>\n",
       "    .dataframe tbody tr th:only-of-type {\n",
       "        vertical-align: middle;\n",
       "    }\n",
       "\n",
       "    .dataframe tbody tr th {\n",
       "        vertical-align: top;\n",
       "    }\n",
       "\n",
       "    .dataframe thead th {\n",
       "        text-align: right;\n",
       "    }\n",
       "</style>\n",
       "<table border=\"1\" class=\"dataframe\">\n",
       "  <thead>\n",
       "    <tr style=\"text-align: right;\">\n",
       "      <th></th>\n",
       "      <th>Rank</th>\n",
       "      <th>SongTitle</th>\n",
       "      <th>Artist</th>\n",
       "      <th>Decade</th>\n",
       "    </tr>\n",
       "  </thead>\n",
       "  <tbody>\n",
       "    <tr>\n",
       "      <th>0</th>\n",
       "      <td>1</td>\n",
       "      <td>THE TWIST</td>\n",
       "      <td>Chubby Checker</td>\n",
       "      <td>60s</td>\n",
       "    </tr>\n",
       "    <tr>\n",
       "      <th>4</th>\n",
       "      <td>5</td>\n",
       "      <td>HOW DO I LIVE</td>\n",
       "      <td>LeAnn Rimes</td>\n",
       "      <td>90s</td>\n",
       "    </tr>\n",
       "    <tr>\n",
       "      <th>9</th>\n",
       "      <td>10</td>\n",
       "      <td>PHYSICAL</td>\n",
       "      <td>Olivia Newton-John</td>\n",
       "      <td>80s</td>\n",
       "    </tr>\n",
       "    <tr>\n",
       "      <th>14</th>\n",
       "      <td>15</td>\n",
       "      <td>UN-BREAK MY HEART</td>\n",
       "      <td>Toni Braxton</td>\n",
       "      <td>90s</td>\n",
       "    </tr>\n",
       "    <tr>\n",
       "      <th>19</th>\n",
       "      <td>20</td>\n",
       "      <td>FOOLISH GAMES/YOU WERE MEANT FOR ME</td>\n",
       "      <td>Jewel</td>\n",
       "      <td>90s</td>\n",
       "    </tr>\n",
       "  </tbody>\n",
       "</table>\n",
       "</div>"
      ],
      "text/plain": [
       "    Rank                            SongTitle              Artist Decade\n",
       "0      1                            THE TWIST      Chubby Checker    60s\n",
       "4      5                        HOW DO I LIVE         LeAnn Rimes    90s\n",
       "9     10                             PHYSICAL  Olivia Newton-John    80s\n",
       "14    15                    UN-BREAK MY HEART        Toni Braxton    90s\n",
       "19    20  FOOLISH GAMES/YOU WERE MEANT FOR ME               Jewel    90s"
      ]
     },
     "execution_count": 16,
     "metadata": {},
     "output_type": "execute_result"
    }
   ],
   "source": [
    "# As an aside, when the selection of a subset involves a list, \n",
    "# it is often simpler to first create the list and then use the \n",
    "# lists in the selection. A simple example is the following:\n",
    "\n",
    "my_rows = [0,4,9,14,19]\n",
    "my_cols = ['Rank','SongTitle','Artist','Decade']\n",
    "\n",
    "DF_BBTop600Text.loc[my_rows,my_cols]\n",
    "\n"
   ]
  },
  {
   "cell_type": "code",
   "execution_count": 17,
   "metadata": {},
   "outputs": [
    {
     "data": {
      "text/html": [
       "<div>\n",
       "<style scoped>\n",
       "    .dataframe tbody tr th:only-of-type {\n",
       "        vertical-align: middle;\n",
       "    }\n",
       "\n",
       "    .dataframe tbody tr th {\n",
       "        vertical-align: top;\n",
       "    }\n",
       "\n",
       "    .dataframe thead th {\n",
       "        text-align: right;\n",
       "    }\n",
       "</style>\n",
       "<table border=\"1\" class=\"dataframe\">\n",
       "  <thead>\n",
       "    <tr style=\"text-align: right;\">\n",
       "      <th></th>\n",
       "      <th>Rank</th>\n",
       "      <th>Artist</th>\n",
       "      <th>SongTitle</th>\n",
       "      <th>Gender</th>\n",
       "      <th>Genre</th>\n",
       "      <th>Decade</th>\n",
       "    </tr>\n",
       "  </thead>\n",
       "  <tbody>\n",
       "    <tr>\n",
       "      <th>99</th>\n",
       "      <td>100</td>\n",
       "      <td>Foreigner</td>\n",
       "      <td>WAITING FOR A GIRL LIKE YOU</td>\n",
       "      <td>Duo/Group</td>\n",
       "      <td>Rock</td>\n",
       "      <td>80s</td>\n",
       "    </tr>\n",
       "  </tbody>\n",
       "</table>\n",
       "</div>"
      ],
      "text/plain": [
       "    Rank     Artist                    SongTitle     Gender Genre Decade\n",
       "99   100  Foreigner  WAITING FOR A GIRL LIKE YOU  Duo/Group  Rock    80s"
      ]
     },
     "execution_count": 17,
     "metadata": {},
     "output_type": "execute_result"
    }
   ],
   "source": [
    "DF_BBTop600Text[DF_BBTop600Text.Rank == 100]  "
   ]
  },
  {
   "cell_type": "code",
   "execution_count": 18,
   "metadata": {},
   "outputs": [
    {
     "data": {
      "text/plain": [
       "array(['Rock', 'Pop', 'Pop', 'Country', 'Dance/Electronic', 'Pop',\n",
       "       'Latin', 'Pop', 'Pop', 'Country', 'Rock', 'Dance/Electronic',\n",
       "       'R&B', 'R&B', 'R&B', 'Pop', 'R&B', 'Rock', 'Pop'], dtype=object)"
      ]
     },
     "execution_count": 18,
     "metadata": {},
     "output_type": "execute_result"
    }
   ],
   "source": [
    "DF_BBTop600Text.Genre.values[1:20]"
   ]
  },
  {
   "cell_type": "markdown",
   "metadata": {},
   "source": [
    "<a class=\"anchor\" id=\"Frequency\"></a>\n",
    "<h3>Frequency Distributions and Other Statistics for Groups and Subsets</h3>\n",
    "* [Return to TOC](#toc)\n",
    "\n",
    "While the various \"selection\" methods provide information about the individual values in a subset of individual rows and columns, they don't provide any statistics for these subsets.  Bottom line, they can't explicitly be used to answer questions about the frequency distributions of the categorical variables or summary statistics about the numerical variables. These are some examples of the types of questions they're not designed to answer:\n",
    "\n",
    "<ul>\n",
    "<li>Among all the top songs, what were the types of Genres and how many were of each type?</li>\n",
    "<li>Among the top 10 songs, how many were released by females and by males?</li>\n",
    "<li>Among the top 100 songs, how many of the songs were released for the various decades</li>\n",
    "<li>Among all the songs, what was the average rank of songs released by the various Genders</li>\n",
    "<li>Among the top 20 songs, were there more pop and rock songs released this century or last?</li>\n",
    "</ul>\n",
    "\n",
    "Questions of this type are are best handled by the 'value_counts' and 'groupby' methods.\n",
    "\n",
    "<ul>\n",
    "    <li><i>value_counts</i>: This method returns a series containing the counts of the unique values for both categorical and numerical columns.</li>\n",
    "    <li><i>groupby</i>: This method splits results into a series of groups based on the values of one or more columns. Various statistics can be computed for each of the groups depending.</li>\n",
    "</ul>\n",
    "  "
   ]
  },
  {
   "cell_type": "markdown",
   "metadata": {},
   "source": [
    "<a class=\"anchor\" id=\"Value Counts\"></a>\n",
    "<h4>value_counts of the Unique Values in a Column</h4>\n",
    "* [Return to TOC](#toc)\n",
    "\n",
    "The <i>value_counts()</i> method has 3 boolean parameters and 1 numeric parameter. Included are:\n",
    "\n",
    "<ul>\n",
    "    <li>sort=  - sort by counts 'True' or 'False' (default is 'True'')</li>\n",
    "    <li>ascending= - sort order ascending 'False' or 'True' (default is 'False')</li>\n",
    "    <li>normalize= - display relative frequencies 'False' or 'True' (default 'False')</li>\n",
    "    <li>bins= - an integer indicating number of bins for grouping, the column must be numeric</li>\n",
    "</ul>\n",
    "\n",
    "Each of these is illustrated below:"
   ]
  },
  {
   "cell_type": "code",
   "execution_count": 19,
   "metadata": {},
   "outputs": [
    {
     "name": "stdout",
     "output_type": "stream",
     "text": [
      "\n",
      "Counts by Genre in descending order by count: DF_BBTop600Text.Genre.value_counts()\n"
     ]
    },
    {
     "data": {
      "text/plain": [
       "Pop                 240\n",
       "R&B                 155\n",
       "Rock                108\n",
       "Hip-Hop/Rap          39\n",
       "Dance/Electronic     27\n",
       "Country              23\n",
       "Jazz                  5\n",
       "Latin                 3\n",
       "Name: Genre, dtype: int64"
      ]
     },
     "execution_count": 19,
     "metadata": {},
     "output_type": "execute_result"
    },
    {
     "name": "stdout",
     "output_type": "stream",
     "text": [
      "\n",
      "Counts by Genre in ascending order by count:\n",
      "DF_BBTop600Text['Genre'].value_counts(ascending=True)\n"
     ]
    },
    {
     "data": {
      "text/plain": [
       "Latin                 3\n",
       "Jazz                  5\n",
       "Country              23\n",
       "Dance/Electronic     27\n",
       "Hip-Hop/Rap          39\n",
       "Rock                108\n",
       "R&B                 155\n",
       "Pop                 240\n",
       "Name: Genre, dtype: int64"
      ]
     },
     "execution_count": 19,
     "metadata": {},
     "output_type": "execute_result"
    },
    {
     "name": "stdout",
     "output_type": "stream",
     "text": [
      "\n",
      "Counts by Genre in ascending order by count: DF_BBTop600Text['Genre'].value_counts()\n",
      "Normalizing results to reflect proportion for each value\n"
     ]
    },
    {
     "data": {
      "text/plain": [
       "Pop                 0.400000\n",
       "R&B                 0.258333\n",
       "Rock                0.180000\n",
       "Hip-Hop/Rap         0.065000\n",
       "Dance/Electronic    0.045000\n",
       "Country             0.038333\n",
       "Jazz                0.008333\n",
       "Latin               0.005000\n",
       "Name: Genre, dtype: float64"
      ]
     },
     "execution_count": 19,
     "metadata": {},
     "output_type": "execute_result"
    },
    {
     "name": "stdout",
     "output_type": "stream",
     "text": [
      "\n",
      "Storing results from Genre value_counts:\n",
      "sortedGenreCounts = DF_BBTop600Text['Genre'].value_counts(ascending=True)\n",
      "\n",
      "Selecting specific Genre from store results: sortedGenreCounts[['R&B','Rock']]\n"
     ]
    },
    {
     "data": {
      "text/plain": [
       "R&B     155\n",
       "Rock    108\n",
       "Name: Genre, dtype: int64"
      ]
     },
     "execution_count": 19,
     "metadata": {},
     "output_type": "execute_result"
    },
    {
     "name": "stdout",
     "output_type": "stream",
     "text": [
      "\n",
      "Counts by Decade in descending order by count: DF_BBTop600Text['Decade']value_counts()\n"
     ]
    },
    {
     "data": {
      "text/plain": [
       "90s    22\n",
       "80s    21\n",
       "10s    18\n",
       "70s    15\n",
       "00s    12\n",
       "60s     9\n",
       "50s     3\n",
       "Name: Decade, dtype: int64"
      ]
     },
     "execution_count": 19,
     "metadata": {},
     "output_type": "execute_result"
    },
    {
     "name": "stdout",
     "output_type": "stream",
     "text": [
      "\n",
      "One way to get the top 100 = rows 0 - 99\n",
      "Counts by Decade for top 100 in descending order by count:\n",
      "DF_BBTop600Text.loc[0:99,'Decade'].value_counts()\n"
     ]
    },
    {
     "data": {
      "text/plain": [
       "90s    22\n",
       "80s    21\n",
       "10s    18\n",
       "70s    15\n",
       "00s    12\n",
       "60s     9\n",
       "50s     3\n",
       "Name: Decade, dtype: int64"
      ]
     },
     "execution_count": 19,
     "metadata": {},
     "output_type": "execute_result"
    },
    {
     "name": "stdout",
     "output_type": "stream",
     "text": [
      "\n",
      "Another way to get the top 100 = Rank <= 100\n",
      "Counts by Rank in descending order by count:\n",
      "DF_BBTop600Text.loc[DF_BBTop600Text.Rank < 5]['Decade'].value_counts()\n"
     ]
    },
    {
     "data": {
      "text/plain": [
       "90s    22\n",
       "80s    21\n",
       "10s    18\n",
       "70s    15\n",
       "00s    12\n",
       "60s     9\n",
       "50s     3\n",
       "Name: Decade, dtype: int64"
      ]
     },
     "execution_count": 19,
     "metadata": {},
     "output_type": "execute_result"
    },
    {
     "name": "stdout",
     "output_type": "stream",
     "text": [
      "\n",
      "Counts by Rank Bins in descending order by counts:\n",
      "DF_BBTop600Text.loc['Rank'].value_counts(bins=4)\n",
      "\n",
      "Because each of the ranks from 1 to 600 only occurs once, dividing them into by 4\n",
      "numerical groups is equivalent to separating them into quartiles of 150 each\n"
     ]
    },
    {
     "data": {
      "text/plain": [
       "(450.25, 600.0]    150\n",
       "(300.5, 450.25]    150\n",
       "(150.75, 300.5]    150\n",
       "(0.4, 150.75]      150\n",
       "Name: Rank, dtype: int64"
      ]
     },
     "execution_count": 19,
     "metadata": {},
     "output_type": "execute_result"
    }
   ],
   "source": [
    "# value_count method\n",
    "\n",
    "print(\"\")\n",
    "print(\"Counts by Genre in descending order by count: DF_BBTop600Text.Genre.value_counts()\")\n",
    "DF_BBTop600Text.Genre.value_counts()\n",
    "\n",
    "print(\"\")\n",
    "print(\"Counts by Genre in ascending order by count:\") \n",
    "print(\"DF_BBTop600Text['Genre'].value_counts(ascending=True)\")\n",
    "DF_BBTop600Text['Genre'].value_counts(ascending=True)\n",
    "\n",
    "print(\"\")\n",
    "print(\"Counts by Genre in ascending order by count: DF_BBTop600Text['Genre'].value_counts()\")\n",
    "print(\"Normalizing results to reflect proportion for each value\")\n",
    "DF_BBTop600Text['Genre'].value_counts(normalize=True)\n",
    "\n",
    "print(\"\")\n",
    "print(\"Storing results from Genre value_counts:\")\n",
    "print(\"sortedGenreCounts = DF_BBTop600Text['Genre'].value_counts(ascending=True)\")\n",
    "sortedGenreCounts = DF_BBTop600Text['Genre'].value_counts(ascending=True)\n",
    "print(\"\")\n",
    "print(\"Selecting specific Genre from store results: sortedGenreCounts[['R&B','Rock']]\")\n",
    "sortedGenreCounts[['R&B','Rock']]\n",
    "\n",
    "print(\"\")\n",
    "print(\"Counts by Decade in descending order by count: DF_BBTop600Text['Decade']value_counts()\")\n",
    "DF_BBTop600Text.loc[0:99,'Decade'].value_counts()\n",
    "\n",
    "print(\"\")\n",
    "print(\"One way to get the top 100 = rows 0 - 99\")\n",
    "print(\"Counts by Decade for top 100 in descending order by count:\")\n",
    "print(\"DF_BBTop600Text.loc[0:99,'Decade'].value_counts()\")\n",
    "DF_BBTop600Text.loc[0:99,'Decade'].value_counts()\n",
    "\n",
    "print(\"\")\n",
    "print(\"Another way to get the top 100 = Rank <= 100\")\n",
    "print(\"Counts by Rank in descending order by count:\")\n",
    "print(\"DF_BBTop600Text.loc[DF_BBTop600Text.Rank < 5]['Decade'].value_counts()\")   \n",
    "DF_BBTop600Text.loc[DF_BBTop600Text.Rank <= 100]['Decade'].value_counts()\n",
    "\n",
    "print(\"\")\n",
    "print(\"Counts by Rank Bins in descending order by counts:\")\n",
    "print(\"DF_BBTop600Text.loc['Rank'].value_counts(bins=4)\")\n",
    "print(\"\")\n",
    "print(\"Because each of the ranks from 1 to 600 only occurs once, dividing them into by 4\")\n",
    "print(\"numerical groups is equivalent to separating them into quartiles of 150 each\")\n",
    "DF_BBTop600Text['Rank'].value_counts(bins=4)"
   ]
  },
  {
   "cell_type": "markdown",
   "metadata": {},
   "source": [
    "<a class=\"anchor\" id=\"Groupby0\"></a>\n",
    "<H4>Groupby Method: Computational Details</h4>\n",
    "* [Return to TOC](#toc)\n",
    "\n",
    "Like 'value_counts', 'groupby' can divide a set of rows into groups based on the value of a categorical column and then count the number of times each value occurs. The syntax for doing this is:\n",
    "\n",
    "array_name.groupby['colname'].count()\n",
    "\n",
    "Here, the resulting values will be sorted alphabetically from A-Z. \n",
    "\n",
    "However, unlike 'value_counts', 'groupby' is not restricted to a single group nor is it restricted to simple counts (or proportions). 'groupby can create groups from multiple column and can compute a number of statistics in addition to counts. Included among the statistics are: \n",
    "\n",
    "<table align=\"left\">\n",
    "<th>Function</th><th>Description</th>\n",
    "<tr><td>mean()</td><td>Compute mean of groups</td></tr>\n",
    "<tr><td>sum()</td><td>Compute sum of group values</td></tr>\n",
    "<tr><td>size()</td><td>Compute group sizes</td></tr>\n",
    "<tr><td>count()</td><td>Compute count of group</td></tr>\n",
    "<tr><td>std()</td><td>Standard deviation of groups</td></tr>\n",
    "<tr><td>var()</td><td>Compute variance of groups</td></tr>\n",
    "<tr><td>sem()</td><td>Standard error of the mean of groups</td></tr>\n",
    "<tr><td>describe()</td><td>Generates descriptive statistics</td></tr>\n",
    "<tr><td>first()</td><td>Compute first of group values</td></tr>\n",
    "<tr><td>last()</td><td>Compute last of group values</td></tr>\n",
    "<tr><td>nth()</td><td>Take nth value, or a subset if n is a list</td></tr>\n",
    "<tr><td>min()</td><td>Compute min of group values</td></tr>\n",
    "<tr><td>max()</td><td>Compute max of group values</td></tr>\n",
    "</table>\n",
    "\n",
    "These statistics can be computed one at a time or, using the \"aggregate\" method (designated as 'agg'), can compute a list of statistics for the various groups.  To do this the list can either contain quoted names for the stats (e.g. \\['mean','median'\\] or use 'np' notation (e.g. \\[np.mean, np.median\\]. Together a request might look like:\n",
    "\n",
    "DF_BBTop600Text.groupby('Gender').agg(\\['mean', 'median'\\])\n",
    "\n",
    "In addition to creating groups based on a single column, 'groupby' can be used to create groups based on multiple columns.  The statistics can then be computed for the various combinations of column values.  For example,\n",
    "\n",
    "DF_BBTop600Text\\['Gender','Decade'\\]).count\n",
    "\n",
    "or\n",
    "\n",
    "DF_BBTop600Text\\['Gender','Decade'\\])['Rank'].median"
   ]
  },
  {
   "cell_type": "code",
   "execution_count": 20,
   "metadata": {},
   "outputs": [
    {
     "name": "stdout",
     "output_type": "stream",
     "text": [
      "\n",
      "groupby Gender then compute the median Rank for each value of Gender:\n",
      "DF_BBTop600Text.groupby('Gender')['Rank'].median()\n"
     ]
    },
    {
     "data": {
      "text/plain": [
       "Gender\n",
       "Duo/Group           305\n",
       "Female              325\n",
       "Female/Duo/Group    285\n",
       "Male                282\n",
       "Male/Duo/Group      574\n",
       "Male/Female         289\n",
       "Name: Rank, dtype: int64"
      ]
     },
     "execution_count": 20,
     "metadata": {},
     "output_type": "execute_result"
    },
    {
     "name": "stdout",
     "output_type": "stream",
     "text": [
      "\n",
      "median\n",
      "DF_BBTop600Text.groupby('Gender')['Rank'].agg(['mean','median','size'])\n"
     ]
    },
    {
     "data": {
      "text/html": [
       "<div>\n",
       "<style scoped>\n",
       "    .dataframe tbody tr th:only-of-type {\n",
       "        vertical-align: middle;\n",
       "    }\n",
       "\n",
       "    .dataframe tbody tr th {\n",
       "        vertical-align: top;\n",
       "    }\n",
       "\n",
       "    .dataframe thead th {\n",
       "        text-align: right;\n",
       "    }\n",
       "</style>\n",
       "<table border=\"1\" class=\"dataframe\">\n",
       "  <thead>\n",
       "    <tr style=\"text-align: right;\">\n",
       "      <th></th>\n",
       "      <th>mean</th>\n",
       "      <th>median</th>\n",
       "      <th>size</th>\n",
       "    </tr>\n",
       "    <tr>\n",
       "      <th>Gender</th>\n",
       "      <th></th>\n",
       "      <th></th>\n",
       "      <th></th>\n",
       "    </tr>\n",
       "  </thead>\n",
       "  <tbody>\n",
       "    <tr>\n",
       "      <th>Duo/Group</th>\n",
       "      <td>303.330472</td>\n",
       "      <td>305</td>\n",
       "      <td>233</td>\n",
       "    </tr>\n",
       "    <tr>\n",
       "      <th>Female</th>\n",
       "      <td>302.160839</td>\n",
       "      <td>325</td>\n",
       "      <td>143</td>\n",
       "    </tr>\n",
       "    <tr>\n",
       "      <th>Female/Duo/Group</th>\n",
       "      <td>277.000000</td>\n",
       "      <td>285</td>\n",
       "      <td>3</td>\n",
       "    </tr>\n",
       "    <tr>\n",
       "      <th>Male</th>\n",
       "      <td>294.697115</td>\n",
       "      <td>282</td>\n",
       "      <td>208</td>\n",
       "    </tr>\n",
       "    <tr>\n",
       "      <th>Male/Duo/Group</th>\n",
       "      <td>574.000000</td>\n",
       "      <td>574</td>\n",
       "      <td>1</td>\n",
       "    </tr>\n",
       "    <tr>\n",
       "      <th>Male/Female</th>\n",
       "      <td>309.416667</td>\n",
       "      <td>289</td>\n",
       "      <td>12</td>\n",
       "    </tr>\n",
       "  </tbody>\n",
       "</table>\n",
       "</div>"
      ],
      "text/plain": [
       "                        mean  median  size\n",
       "Gender                                    \n",
       "Duo/Group         303.330472     305   233\n",
       "Female            302.160839     325   143\n",
       "Female/Duo/Group  277.000000     285     3\n",
       "Male              294.697115     282   208\n",
       "Male/Duo/Group    574.000000     574     1\n",
       "Male/Female       309.416667     289    12"
      ]
     },
     "execution_count": 20,
     "metadata": {},
     "output_type": "execute_result"
    },
    {
     "name": "stdout",
     "output_type": "stream",
     "text": [
      "\n",
      "groupby Gender then compute summary statistics for Rank with 'describe':\n"
     ]
    },
    {
     "data": {
      "text/html": [
       "<div>\n",
       "<style scoped>\n",
       "    .dataframe tbody tr th:only-of-type {\n",
       "        vertical-align: middle;\n",
       "    }\n",
       "\n",
       "    .dataframe tbody tr th {\n",
       "        vertical-align: top;\n",
       "    }\n",
       "\n",
       "    .dataframe thead th {\n",
       "        text-align: right;\n",
       "    }\n",
       "</style>\n",
       "<table border=\"1\" class=\"dataframe\">\n",
       "  <thead>\n",
       "    <tr style=\"text-align: right;\">\n",
       "      <th></th>\n",
       "      <th>count</th>\n",
       "      <th>mean</th>\n",
       "      <th>std</th>\n",
       "      <th>min</th>\n",
       "      <th>25%</th>\n",
       "      <th>50%</th>\n",
       "      <th>75%</th>\n",
       "      <th>max</th>\n",
       "    </tr>\n",
       "    <tr>\n",
       "      <th>Gender</th>\n",
       "      <th></th>\n",
       "      <th></th>\n",
       "      <th></th>\n",
       "      <th></th>\n",
       "      <th></th>\n",
       "      <th></th>\n",
       "      <th></th>\n",
       "      <th></th>\n",
       "    </tr>\n",
       "  </thead>\n",
       "  <tbody>\n",
       "    <tr>\n",
       "      <th>Duo/Group</th>\n",
       "      <td>233.0</td>\n",
       "      <td>303.330472</td>\n",
       "      <td>168.708527</td>\n",
       "      <td>2.0</td>\n",
       "      <td>164.00</td>\n",
       "      <td>305.0</td>\n",
       "      <td>442.0</td>\n",
       "      <td>600.0</td>\n",
       "    </tr>\n",
       "    <tr>\n",
       "      <th>Female</th>\n",
       "      <td>143.0</td>\n",
       "      <td>302.160839</td>\n",
       "      <td>173.492609</td>\n",
       "      <td>5.0</td>\n",
       "      <td>155.00</td>\n",
       "      <td>325.0</td>\n",
       "      <td>448.0</td>\n",
       "      <td>593.0</td>\n",
       "    </tr>\n",
       "    <tr>\n",
       "      <th>Female/Duo/Group</th>\n",
       "      <td>3.0</td>\n",
       "      <td>277.000000</td>\n",
       "      <td>235.102105</td>\n",
       "      <td>38.0</td>\n",
       "      <td>161.50</td>\n",
       "      <td>285.0</td>\n",
       "      <td>396.5</td>\n",
       "      <td>508.0</td>\n",
       "    </tr>\n",
       "    <tr>\n",
       "      <th>Male</th>\n",
       "      <td>208.0</td>\n",
       "      <td>294.697115</td>\n",
       "      <td>178.910686</td>\n",
       "      <td>1.0</td>\n",
       "      <td>136.75</td>\n",
       "      <td>282.0</td>\n",
       "      <td>452.5</td>\n",
       "      <td>596.0</td>\n",
       "    </tr>\n",
       "    <tr>\n",
       "      <th>Male/Duo/Group</th>\n",
       "      <td>1.0</td>\n",
       "      <td>574.000000</td>\n",
       "      <td>NaN</td>\n",
       "      <td>574.0</td>\n",
       "      <td>574.00</td>\n",
       "      <td>574.0</td>\n",
       "      <td>574.0</td>\n",
       "      <td>574.0</td>\n",
       "    </tr>\n",
       "    <tr>\n",
       "      <th>Male/Female</th>\n",
       "      <td>12.0</td>\n",
       "      <td>309.416667</td>\n",
       "      <td>164.975182</td>\n",
       "      <td>18.0</td>\n",
       "      <td>228.50</td>\n",
       "      <td>289.0</td>\n",
       "      <td>466.5</td>\n",
       "      <td>553.0</td>\n",
       "    </tr>\n",
       "  </tbody>\n",
       "</table>\n",
       "</div>"
      ],
      "text/plain": [
       "                  count        mean         std    min     25%    50%    75%  \\\n",
       "Gender                                                                         \n",
       "Duo/Group         233.0  303.330472  168.708527    2.0  164.00  305.0  442.0   \n",
       "Female            143.0  302.160839  173.492609    5.0  155.00  325.0  448.0   \n",
       "Female/Duo/Group    3.0  277.000000  235.102105   38.0  161.50  285.0  396.5   \n",
       "Male              208.0  294.697115  178.910686    1.0  136.75  282.0  452.5   \n",
       "Male/Duo/Group      1.0  574.000000         NaN  574.0  574.00  574.0  574.0   \n",
       "Male/Female        12.0  309.416667  164.975182   18.0  228.50  289.0  466.5   \n",
       "\n",
       "                    max  \n",
       "Gender                   \n",
       "Duo/Group         600.0  \n",
       "Female            593.0  \n",
       "Female/Duo/Group  508.0  \n",
       "Male              596.0  \n",
       "Male/Duo/Group    574.0  \n",
       "Male/Female       553.0  "
      ]
     },
     "execution_count": 20,
     "metadata": {},
     "output_type": "execute_result"
    },
    {
     "name": "stdout",
     "output_type": "stream",
     "text": [
      "\n",
      "The index for the group will be the list of values sorted alphabetically:\n"
     ]
    },
    {
     "data": {
      "text/plain": [
       "Index(['Duo/Group', 'Female', 'Female/Duo/Group', 'Male', 'Male/Duo/Group',\n",
       "       'Male/Female'],\n",
       "      dtype='object', name='Gender')"
      ]
     },
     "execution_count": 20,
     "metadata": {},
     "output_type": "execute_result"
    }
   ],
   "source": [
    "print(\"\")\n",
    "print(\"groupby Gender then compute the median Rank for each value of Gender:\")\n",
    "print(\"DF_BBTop600Text.groupby('Gender')['Rank'].median()\")\n",
    "DF_BBTop600Text.groupby('Gender')['Rank'].median()\n",
    "\n",
    "print(\"\")\n",
    "print(\"median\")\n",
    "print(\"DF_BBTop600Text.groupby('Gender')['Rank'].agg(['mean','median','size'])\")\n",
    "DF_BBTop600Text.groupby('Gender')['Rank'].agg(['mean','median','size'])\n",
    "\n",
    "print(\"\")\n",
    "print(\"groupby Gender then compute summary statistics for Rank with 'describe':\")\n",
    "DF_BBTop600Text.groupby('Gender')['Rank'].describe()\n",
    "print(\"\")\n",
    "print(\"The index for the group will be the list of values sorted alphabetically:\")\n",
    "Gender_Describe = DF_BBTop600Text.groupby('Gender')['Rank'].describe()\n",
    "Gender_Describe.index"
   ]
  },
  {
   "cell_type": "markdown",
   "metadata": {},
   "source": [
    "<a class=\"anchor\" id=\"Adding\"></a>\n",
    "<h4>Adding New Columns</h4>\n",
    "* [Return to TOC](#toc)\n",
    "\n",
    "As an aside, both Gender and Decade have issues. With Gender the issue is that there aren't enough 'Male/Duo/Groups','Female/Duo/Groups' or 'Male/Female' to warrent treating them as separate values.  It would probably be better to treat all three of the values as 'Duo/Group'. With Decade the issue is that the values are strings which are sorted alphabetically rather than numerically (e.g. '00s' which stands for '2000s' comes before the '50s' thru the '90s').  To solve both problems we have need create new columns transforming the values from the existing columns and then add these columns to the current dataframe. The general format for accomplishing this task is:\n",
    "\n",
    "df\\['new_col_name'\\]\\[df['existing_col_name'\\] bool_comp] = 'new_value'\n",
    "\n",
    "Examples follow:"
   ]
  },
  {
   "cell_type": "code",
   "execution_count": 21,
   "metadata": {},
   "outputs": [
    {
     "name": "stdout",
     "output_type": "stream",
     "text": [
      "\n",
      "Adding DecYr based on Decade values:\n",
      "Sample: DF_BBTop600Text.loc[DF_BBTop600Text['Decade'] == '50s', 'DecYr'] = '1950'\n"
     ]
    },
    {
     "data": {
      "text/plain": [
       "DecYr\n",
       "1950     21\n",
       "1960     76\n",
       "1970    114\n",
       "1980    133\n",
       "1990    102\n",
       "2000     83\n",
       "2010     71\n",
       "Name: DecYr, dtype: int64"
      ]
     },
     "execution_count": 21,
     "metadata": {},
     "output_type": "execute_result"
    }
   ],
   "source": [
    "# Adding a New Column categorial column 'DecYr' based on 'Decade' \n",
    "#\n",
    "print(\"\")\n",
    "print(\"Adding DecYr based on Decade values:\")\n",
    "DF_BBTop600Text.loc[DF_BBTop600Text['Decade'] == '50s', 'DecYr'] = '1950'\n",
    "DF_BBTop600Text.loc[DF_BBTop600Text['Decade'] == '60s', 'DecYr'] = '1960'\n",
    "DF_BBTop600Text.loc[DF_BBTop600Text['Decade'] == '70s', 'DecYr'] = '1970'\n",
    "DF_BBTop600Text.loc[DF_BBTop600Text['Decade'] == '80s', 'DecYr'] = '1980'\n",
    "DF_BBTop600Text.loc[DF_BBTop600Text['Decade'] == '90s', 'DecYr'] = '1990'\n",
    "DF_BBTop600Text.loc[DF_BBTop600Text['Decade'] == '00s', 'DecYr'] = '2000'\n",
    "DF_BBTop600Text.loc[DF_BBTop600Text['Decade'] == '10s', 'DecYr'] = '2010'\n",
    "print(\"Sample: DF_BBTop600Text.loc[DF_BBTop600Text['Decade'] == '50s', 'DecYr'] = '1950'\")\n",
    "DF_BBTop600Text.groupby('DecYr')['DecYr'].count()"
   ]
  },
  {
   "cell_type": "code",
   "execution_count": 22,
   "metadata": {},
   "outputs": [
    {
     "name": "stdout",
     "output_type": "stream",
     "text": [
      "\n",
      "Sample: DF_BBTop600Text.loc[DF_BBTop600Text['Gender'] == 'Male', 'ArtistType'] = 'Solo Male'\n",
      "DF_BBTop600Text.groupby('ArtistType')['ArtistType'].count()\n"
     ]
    },
    {
     "data": {
      "text/plain": [
       "ArtistType\n",
       "Duo/Group      249\n",
       "Solo Female    143\n",
       "Solo Male      208\n",
       "Name: ArtistType, dtype: int64"
      ]
     },
     "execution_count": 22,
     "metadata": {},
     "output_type": "execute_result"
    }
   ],
   "source": [
    "# Adding a new column 'ArtistType' based on existing 'Gender'\n",
    "print(\"\")\n",
    "print(\"Sample: DF_BBTop600Text.loc[DF_BBTop600Text['Gender'] == 'Male', 'ArtistType'] = 'Solo Male'\")\n",
    "\n",
    "DF_BBTop600Text.loc[DF_BBTop600Text['Gender'] == 'Female', 'ArtistType'] = 'Solo Female'\n",
    "DF_BBTop600Text.loc[DF_BBTop600Text['Gender'] == 'Male', 'ArtistType'] = 'Solo Male'\n",
    "DF_BBTop600Text.loc[DF_BBTop600Text['Gender'] == 'Female/Duo/Group', 'ArtistType'] = 'Duo/Group'\n",
    "DF_BBTop600Text.loc[DF_BBTop600Text['Gender'] == 'Male/Duo/Group', 'ArtistType'] = 'Duo/Group'\n",
    "DF_BBTop600Text.loc[DF_BBTop600Text['Gender'] == 'Male/Female', 'ArtistType'] = 'Duo/Group'\n",
    "DF_BBTop600Text.loc[DF_BBTop600Text['Gender'] == 'Duo/Group', 'ArtistType'] = 'Duo/Group'\n",
    "print(\"DF_BBTop600Text.groupby('ArtistType')['ArtistType'].count()\")\n",
    "DF_BBTop600Text.groupby('ArtistType')['ArtistType'].count()"
   ]
  },
  {
   "cell_type": "code",
   "execution_count": 23,
   "metadata": {},
   "outputs": [
    {
     "name": "stdout",
     "output_type": "stream",
     "text": [
      "\n",
      "Multi-column groupby:\n",
      "DF_BBTop600Text.groupby(['ArtistType','DecYr'])['ArtistType'].count()\n"
     ]
    },
    {
     "data": {
      "text/plain": [
       "ArtistType   DecYr\n",
       "Duo/Group    1950      9\n",
       "             1960     37\n",
       "             1970     57\n",
       "             1980     64\n",
       "             1990     43\n",
       "             2000     22\n",
       "             2010     17\n",
       "Solo Female  1960      8\n",
       "             1970     21\n",
       "             1980     25\n",
       "             1990     39\n",
       "             2000     29\n",
       "             2010     21\n",
       "Solo Male    1950     12\n",
       "             1960     31\n",
       "             1970     36\n",
       "             1980     44\n",
       "             1990     20\n",
       "             2000     32\n",
       "             2010     33\n",
       "Name: ArtistType, dtype: int64"
      ]
     },
     "execution_count": 23,
     "metadata": {},
     "output_type": "execute_result"
    }
   ],
   "source": [
    "# We can use these new variables to illustrate how we do a groupby based on multiple columns\n",
    "\n",
    "print(\"\")\n",
    "print(\"Multi-column groupby:\")\n",
    "print(\"DF_BBTop600Text.groupby(['ArtistType','DecYr'])['ArtistType'].count()\")\n",
    "DF_BBTop600Text.groupby(['ArtistType','DecYr'])['ArtistType'].count()\n",
    "\n"
   ]
  },
  {
   "cell_type": "markdown",
   "metadata": {},
   "source": [
    "<a class=\"anchor\" id=\"Unstack\"></a>\n",
    "<h3>Unstacking Multi-Column Arrays</h3>\n",
    "* [Return to TOC](#toc)\n",
    "\n",
    "Multi-column groupbys can be a bit difficult to read. Given in this case that the counts revolve around two columns. It's simpler to set up a cross-tab to display the data, although the totals are lacking.  This can simply be done with the 'unstack' method."
   ]
  },
  {
   "cell_type": "code",
   "execution_count": 24,
   "metadata": {},
   "outputs": [
    {
     "name": "stdout",
     "output_type": "stream",
     "text": [
      "\n",
      "Creating a 2 x2 table with 'unstack()':\n",
      "multi_col_DF = DF_BBTop600Text.groupby(['ArtistType','DecYr'])['ArtistType'].count()\n",
      "\n",
      "multi_col_DF.unstack\n",
      "Reading across the rows it shows how counts of ArtistType vary by year\n"
     ]
    },
    {
     "data": {
      "text/html": [
       "<div>\n",
       "<style scoped>\n",
       "    .dataframe tbody tr th:only-of-type {\n",
       "        vertical-align: middle;\n",
       "    }\n",
       "\n",
       "    .dataframe tbody tr th {\n",
       "        vertical-align: top;\n",
       "    }\n",
       "\n",
       "    .dataframe thead th {\n",
       "        text-align: right;\n",
       "    }\n",
       "</style>\n",
       "<table border=\"1\" class=\"dataframe\">\n",
       "  <thead>\n",
       "    <tr style=\"text-align: right;\">\n",
       "      <th>DecYr</th>\n",
       "      <th>1950</th>\n",
       "      <th>1960</th>\n",
       "      <th>1970</th>\n",
       "      <th>1980</th>\n",
       "      <th>1990</th>\n",
       "      <th>2000</th>\n",
       "      <th>2010</th>\n",
       "    </tr>\n",
       "    <tr>\n",
       "      <th>ArtistType</th>\n",
       "      <th></th>\n",
       "      <th></th>\n",
       "      <th></th>\n",
       "      <th></th>\n",
       "      <th></th>\n",
       "      <th></th>\n",
       "      <th></th>\n",
       "    </tr>\n",
       "  </thead>\n",
       "  <tbody>\n",
       "    <tr>\n",
       "      <th>Duo/Group</th>\n",
       "      <td>9.0</td>\n",
       "      <td>37.0</td>\n",
       "      <td>57.0</td>\n",
       "      <td>64.0</td>\n",
       "      <td>43.0</td>\n",
       "      <td>22.0</td>\n",
       "      <td>17.0</td>\n",
       "    </tr>\n",
       "    <tr>\n",
       "      <th>Solo Female</th>\n",
       "      <td>NaN</td>\n",
       "      <td>8.0</td>\n",
       "      <td>21.0</td>\n",
       "      <td>25.0</td>\n",
       "      <td>39.0</td>\n",
       "      <td>29.0</td>\n",
       "      <td>21.0</td>\n",
       "    </tr>\n",
       "    <tr>\n",
       "      <th>Solo Male</th>\n",
       "      <td>12.0</td>\n",
       "      <td>31.0</td>\n",
       "      <td>36.0</td>\n",
       "      <td>44.0</td>\n",
       "      <td>20.0</td>\n",
       "      <td>32.0</td>\n",
       "      <td>33.0</td>\n",
       "    </tr>\n",
       "  </tbody>\n",
       "</table>\n",
       "</div>"
      ],
      "text/plain": [
       "DecYr        1950  1960  1970  1980  1990  2000  2010\n",
       "ArtistType                                           \n",
       "Duo/Group     9.0  37.0  57.0  64.0  43.0  22.0  17.0\n",
       "Solo Female   NaN   8.0  21.0  25.0  39.0  29.0  21.0\n",
       "Solo Male    12.0  31.0  36.0  44.0  20.0  32.0  33.0"
      ]
     },
     "execution_count": 24,
     "metadata": {},
     "output_type": "execute_result"
    }
   ],
   "source": [
    "\n",
    "print(\"\")\n",
    "print(\"Creating a 2 x2 table with 'unstack()':\")\n",
    "print(\"multi_col_DF = DF_BBTop600Text.groupby(['ArtistType','DecYr'])['ArtistType'].count()\")\n",
    "multi_col_DF = DF_BBTop600Text.groupby(['ArtistType','DecYr'])['ArtistType'].count()\n",
    "print(\"\")\n",
    "print(\"multi_col_DF.unstack\")\n",
    "print(\"Reading across the rows it shows how counts of ArtistType vary by year\")\n",
    "xtab_DecYrBYArtistType = multi_col_DF.unstack() \n",
    "xtab_DecYrBYArtistType"
   ]
  },
  {
   "cell_type": "code",
   "execution_count": null,
   "metadata": {},
   "outputs": [],
   "source": []
  },
  {
   "cell_type": "markdown",
   "metadata": {},
   "source": [
    "<a class=\"anchor\" id=\"Plots\"></a>\n",
    "<h3>pandas Plots</h3>\n",
    "* [Return to TOC](#toc)\n",
    "\n",
    "Looking at this groupby array, we get a sense of how the numbers of the various ArtistTypes varied over the decades. Briefly Duo/Groups peaked in 1970, Solo Females in 1990 and Solo Males in 1980. This is more easily seen by plotting the data. pandas' 'plot' lacks the \"bells and whistles\" of other more extensive libraries like 'matplot'.  It is sufficient, however, for dealing with simpler problems of this sort. The basic structure of the methods is:\n",
    "\n",
    "plot(\\[x, y, kind, ax, …\\])\n",
    "\n",
    "where the kind (of plot) has the following possibilities\n",
    "\n",
    "<table align=\"left\">\n",
    "</td></tr>\n",
    "<th>'kind' of Plot</th><th>Description</th>\n",
    "<tr><td>area</td><td>Area plot\n",
    "</td></tr>\n",
    "<tr><td>bar</td><td>Vertical bar plot.\n",
    "</td></tr>\n",
    "<tr><td>barh</td><td>Make a horizontal bar plot.\n",
    "</td></tr>\n",
    "<tr><td>box</td><td>Make a box plot of the DataFrame columns.\n",
    "</td></tr>\n",
    "<tr><td>density</td><td>Generate Kernel Density Estimate plot using Gaussian kernels.\n",
    "</td></tr>\n",
    "<tr><td>hexbin</td><td>Generate a hexagonal binning plot.\n",
    "</td></tr>\n",
    "<tr><td>hist</td><td>Draw one histogram of the DataFrame’s columns.\n",
    "</td></tr>\n",
    "<tr><td>kde</td><td>Generate Kernel Density Estimate plot using Gaussian kernels.\n",
    "</td></tr>\n",
    "<tr><td>line</td><td>Plot DataFrame columns as lines.\n",
    "</td></tr>\n",
    "<tr><td>pie</td><td>Generate a pie plot.\n",
    "</td></tr>\n",
    "<tr><td>scatter</td><td>Create a scatter plot with varying marker point size and color.\n",
    "</td></tr>\n",
    "<tr><td>boxplot</td><td>Make a box plot from DataFrame columns.\n",
    "</td></tr>\n",
    "<tr><td>hist</td><td>Make a histogram of the DataFrame’s.\n",
    "</td></tr>\n",
    "</table>"
   ]
  },
  {
   "cell_type": "markdown",
   "metadata": {},
   "source": [
    "<a class=\"anchor\" id=\"Bars\"></a>\n",
    "<h4>Bar Plots</h4>\n",
    "* [Return to TOC](#toc)"
   ]
  },
  {
   "cell_type": "code",
   "execution_count": 25,
   "metadata": {},
   "outputs": [
    {
     "name": "stdout",
     "output_type": "stream",
     "text": [
      "\n",
      "'bar' plot for ArtistType counts over time: \n",
      "xtab_barplots = xtab_DecYrBYArtistType.plot(kind='bar', figsize=(10,6), legend=True)\n"
     ]
    }
   ],
   "source": [
    "# The following bar chart of the xtab displays the changes for each ArtistType across the decades.\n",
    "print(\"\")\n",
    "print(\"'bar' plot for ArtistType counts over time: \")\n",
    "print(\"xtab_barplots = xtab_DecYrBYArtistType.plot(kind='bar', figsize=(10,6), legend=True)\")\n",
    "xtab_barplots = xtab_DecYrBYArtistType.plot(kind='bar', figsize=(10,6), legend=True)"
   ]
  },
  {
   "cell_type": "markdown",
   "metadata": {},
   "source": [
    "<a class=\"anchor\" id=\"Subplots\"></a>\n",
    "<h4>Plots with Subplots</h4>\n",
    "* [Return to TOC](#toc)\n",
    "    \n",
    "While this type of bar plot enables us to make comparisons among the ArtistType over the decades, there are other chart configurations that make it a bit simpler.\n",
    "One of these possibilities is with subplots that highlight the differences.  To create separate subplots for each, we set the 'subplots' parameter to true, indicate the kind of grid 'layout' we want like 3 plots cross and 3 down, the amount of space the grid should occupy (here it's going\n",
    "to be 10 wide and 8 high, and whether we want a legend). \n",
    "\n",
    "Unfortunately, when we run it against the original xtab, unexpected results occur. We get a separate plot for each year, not each ArtistType."
   ]
  },
  {
   "cell_type": "code",
   "execution_count": 26,
   "metadata": {},
   "outputs": [
    {
     "name": "stdout",
     "output_type": "stream",
     "text": [
      "\n",
      "'bar' plot with subplots:\n",
      "\n",
      "xtab_DecYrBYArtistType.plot(kind='bar', subplots=True, layout=(3,3), figsize=(10,8), legend=False)\n"
     ]
    },
    {
     "data": {
      "image/png": "[encoded data removed]",
      "text/plain": [
       "<matplotlib.figure.Figure at 0x1bd5ac0c9e8>"
      ]
     },
     "metadata": {},
     "output_type": "display_data"
    }
   ],
   "source": [
    "\n",
    "print(\"\")\n",
    "print(\"'bar' plot with subplots:\")\n",
    "print(\"\")\n",
    "print(\"xtab_DecYrBYArtistType.plot(kind='bar', subplots=True, layout=(3,3), figsize=(10,8), legend=False)\")\n",
    "xtab_bar_subplots = xtab_DecYrBYArtistType.plot(kind='bar', subplots=True, layout=(3,3), figsize=(10,8), legend=False)"
   ]
  },
  {
   "cell_type": "code",
   "execution_count": 27,
   "metadata": {},
   "outputs": [
    {
     "data": {
      "text/html": [
       "<div>\n",
       "<style scoped>\n",
       "    .dataframe tbody tr th:only-of-type {\n",
       "        vertical-align: middle;\n",
       "    }\n",
       "\n",
       "    .dataframe tbody tr th {\n",
       "        vertical-align: top;\n",
       "    }\n",
       "\n",
       "    .dataframe thead th {\n",
       "        text-align: right;\n",
       "    }\n",
       "</style>\n",
       "<table border=\"1\" class=\"dataframe\">\n",
       "  <thead>\n",
       "    <tr style=\"text-align: right;\">\n",
       "      <th>ArtistType</th>\n",
       "      <th>Duo/Group</th>\n",
       "      <th>Solo Female</th>\n",
       "      <th>Solo Male</th>\n",
       "    </tr>\n",
       "    <tr>\n",
       "      <th>DecYr</th>\n",
       "      <th></th>\n",
       "      <th></th>\n",
       "      <th></th>\n",
       "    </tr>\n",
       "  </thead>\n",
       "  <tbody>\n",
       "    <tr>\n",
       "      <th>1950</th>\n",
       "      <td>9.0</td>\n",
       "      <td>NaN</td>\n",
       "      <td>12.0</td>\n",
       "    </tr>\n",
       "    <tr>\n",
       "      <th>1960</th>\n",
       "      <td>37.0</td>\n",
       "      <td>8.0</td>\n",
       "      <td>31.0</td>\n",
       "    </tr>\n",
       "    <tr>\n",
       "      <th>1970</th>\n",
       "      <td>57.0</td>\n",
       "      <td>21.0</td>\n",
       "      <td>36.0</td>\n",
       "    </tr>\n",
       "    <tr>\n",
       "      <th>1980</th>\n",
       "      <td>64.0</td>\n",
       "      <td>25.0</td>\n",
       "      <td>44.0</td>\n",
       "    </tr>\n",
       "    <tr>\n",
       "      <th>1990</th>\n",
       "      <td>43.0</td>\n",
       "      <td>39.0</td>\n",
       "      <td>20.0</td>\n",
       "    </tr>\n",
       "    <tr>\n",
       "      <th>2000</th>\n",
       "      <td>22.0</td>\n",
       "      <td>29.0</td>\n",
       "      <td>32.0</td>\n",
       "    </tr>\n",
       "    <tr>\n",
       "      <th>2010</th>\n",
       "      <td>17.0</td>\n",
       "      <td>21.0</td>\n",
       "      <td>33.0</td>\n",
       "    </tr>\n",
       "  </tbody>\n",
       "</table>\n",
       "</div>"
      ],
      "text/plain": [
       "ArtistType  Duo/Group  Solo Female  Solo Male\n",
       "DecYr                                        \n",
       "1950              9.0          NaN       12.0\n",
       "1960             37.0          8.0       31.0\n",
       "1970             57.0         21.0       36.0\n",
       "1980             64.0         25.0       44.0\n",
       "1990             43.0         39.0       20.0\n",
       "2000             22.0         29.0       32.0\n",
       "2010             17.0         21.0       33.0"
      ]
     },
     "execution_count": 27,
     "metadata": {},
     "output_type": "execute_result"
    }
   ],
   "source": [
    "# So, to solve this problem we need to reverse the x, y positions of the two variables.\n",
    "# We do this by rotating or transposing the xtab, so that DecYrs become the rows \n",
    "# and ArtistType become the columns.\n",
    "# In this way we can see the way the counts for each of the ArtistTypes\n",
    "# changes over the year.\n",
    "\n",
    "xtab_ArtistTypeByDecYr = xtab_DecYrBYArtistType.transpose()\n",
    "xtab_ArtistTypeByDecYr"
   ]
  },
  {
   "cell_type": "code",
   "execution_count": 28,
   "metadata": {},
   "outputs": [
    {
     "name": "stdout",
     "output_type": "stream",
     "text": [
      "\n",
      "Bar plot with subplots: ArtistType by DecYr:\n",
      "\n",
      "xtab_subplot1 = xtab_ArtistTypeByDecYr.plot(kind='bar', subplots=True, layout=(1,3), figsize=(10,2), legend=False)\n"
     ]
    },
    {
     "data": {
      "image/png": "[encoded data removed]",
      "text/plain": [
       "<matplotlib.figure.Figure at 0x1bd5b35e748>"
      ]
     },
     "metadata": {},
     "output_type": "display_data"
    }
   ],
   "source": [
    "# The setup of the subplot is similar to before, except now the layout has 1 row and 3 cols is has\n",
    "# less height\n",
    "# The setup of the subplot is similar to before, except now the layout has 1 row and 3 cols is has\n",
    "# less height.  This basically ends up like the original bar plot but with separate plots\n",
    "# for each ArtistType. The problem with these plots is tht they all have different\n",
    "# y (vertical) ranges. So while you see the ups and downs you don't have a sense\n",
    "# of how they differ in magnitude.\n",
    "\n",
    "print(\"\")\n",
    "print(\"Bar plot with subplots: ArtistType by DecYr:\")\n",
    "print(\"\")\n",
    "print(\"xtab_subplot1 = xtab_ArtistTypeByDecYr.plot(kind='bar', subplots=True, layout=(1,3), figsize=(10,2), legend=False)\")\n",
    "xtab_bar_subplot1 = xtab_DecYrBYArtistType.transpose().plot(kind='bar', subplots=True, layout=(1,3), figsize=(10,2), legend=False)"
   ]
  },
  {
   "cell_type": "code",
   "execution_count": 29,
   "metadata": {},
   "outputs": [
    {
     "name": "stdout",
     "output_type": "stream",
     "text": [
      "\n",
      "Bar plot with subplots: ArtistType by DecYr:\n",
      "\n",
      "xtab_subplot2 = xtab_ArtistTypeByDecYr.plot(kind='bar', subplots=True, layout=(3,1), figsize=(6,6), legend=False)\n"
     ]
    },
    {
     "data": {
      "image/png": "[encoded data removed]",
      "text/plain": [
       "<matplotlib.figure.Figure at 0x1bd5b212f60>"
      ]
     },
     "metadata": {},
     "output_type": "display_data"
    }
   ],
   "source": [
    "# A slightly different version of the same bar plot come about when\n",
    "# we alter the 'layout' to 1 column and 3 rows and the 'figsize' to accomodate\n",
    "# the shift in layout.  This layout is probably the easiest for comparing\n",
    "# shifts across time for each ArtistType. It's easy to see when one ArtistType\n",
    "# went up and another down. However, it still has the problem with comparing magnitudes.\n",
    "\n",
    "print(\"\")\n",
    "print(\"Bar plot with subplots: ArtistType by DecYr:\")\n",
    "print(\"\")\n",
    "print(\"xtab_subplot2 = xtab_ArtistTypeByDecYr.plot(kind='bar', subplots=True, layout=(3,1), figsize=(6,6), legend=False)\")\n",
    "\n",
    "xtab_subplot2 = xtab_ArtistTypeByDecYr.plot(kind='bar', subplots=True, layout=(3,1), figsize=(6,6), legend=False)"
   ]
  },
  {
   "cell_type": "markdown",
   "metadata": {},
   "source": [
    "<a class=\"anchor\" id=\"Lines\"></a>\n",
    "<h4>Line Plots</h4>\n",
    "* [Return to TOC](#toc)\n",
    "\n",
    "Both the patterns and magnitudes are more easily seen by shifting to a 'line' plot. Here, don't need subplots so the magnitudes, as well as the peaks and valleys, are easily determined because the 3 plots for the 3 ArtistTypes use the same X and Y axes."
   ]
  },
  {
   "cell_type": "code",
   "execution_count": 30,
   "metadata": {
    "scrolled": true
   },
   "outputs": [
    {
     "name": "stdout",
     "output_type": "stream",
     "text": [
      "\n",
      "'line' plot for each DecYr across ArtistTypes:  \n",
      "\n",
      "xtab_subplots_line = xtab_DecYrBYArtistType.plot(kind='line', subplots=False, figsize=(6,4), legend=True)\n",
      "\n",
      "Comparing the three lines we see the predominance of Top600 Songs released by Duo/Groups\n",
      "and Solo Males in the 80s and their subsequent decline in this century with the concommitant\n",
      "rise in releases from Solo Female artists in the 90s followed by their dropoff and.\n",
      "re-emergence of Solo/Male artists.\n"
     ]
    },
    {
     "data": {
      "image/png": "[encoded data removed]",
      "text/plain": [
       "<matplotlib.figure.Figure at 0x1bd5c54f0f0>"
      ]
     },
     "metadata": {},
     "output_type": "display_data"
    }
   ],
   "source": [
    "print(\"\")\n",
    "print(\"'line' plot for each DecYr across ArtistTypes:  \")\n",
    "print(\"\")\n",
    "print(\"xtab_subplots_line = xtab_DecYrBYArtistType.plot(kind='line', subplots=False, figsize=(6,4), legend=True)\")\n",
    "xtab_line = xtab_ArtistTypeByDecYr.plot(kind='line', subplots=False, figsize=(6,4), legend=True)\n",
    "print(\"\")\n",
    "print(\"Comparing the three lines we see the predominance of Top600 Songs released by Duo/Groups\")\n",
    "print(\"and Solo Males in the 80s and their subsequent decline in this century with the concommitant\")\n",
    "print(\"rise in releases from Solo Female artists in the 90s followed by their dropoff and.\")\n",
    "print(\"re-emergence of Solo/Male artists.\")"
   ]
  },
  {
   "cell_type": "markdown",
   "metadata": {},
   "source": [
    "<a class=\"anchor\" id=\"Final\"></a>\n",
    "<h3>Final Comments</h3>\n",
    "* [Return to TOC](#toc)\n",
    "\n",
    "The dataset used throughout these notes is heavy on the categorical side and light on the numerical side. Yet, most of the methods that have been employed could be easily used with numerical data.  For those who are interested, the dataset entitled <a href= \"https://github.com/daveking63/Billboard-and-RIAA-datasets/blob/master/RIAA-Top100_Artists_All_Certified_Albums_.txt\"><i>RIAA-Top100_Artists_All_Certified_Albums</i></a> has a good mix of numerical and categorical variables. For \"fun\" you might try a number of the methods described here with that set.\n",
    "\n",
    "The other final caveat, there are whole segments of pandas methods that are relatively untouched in these notes. For example, 'reshaping' and the 'pivot' can play a key role in working with multi-column arrays (like those towards the end of these notes). The same can be said for pandas' 'time series' and 'date' functionality. All of these are covered in the pandas' documentation. "
   ]
  },
  {
   "cell_type": "code",
   "execution_count": null,
   "metadata": {},
   "outputs": [],
   "source": []
  }
 ],
 "metadata": {
  "CodeCell": {
   "cm_config": {
    "lineWrapping": true
   }
  },
  "MarkdownCell": {
   "cm_config": {
    "lineWrapping": true
   }
  },
  "kernelspec": {
   "display_name": "Python 3",
   "language": "python",
   "name": "python3"
  },
  "language_info": {
   "codemirror_mode": {
    "name": "ipython",
    "version": 3
   },
   "file_extension": ".py",
   "mimetype": "text/x-python",
   "name": "python",
   "nbconvert_exporter": "python",
   "pygments_lexer": "ipython3",
   "version": "3.6.4"
  }
 },
 "nbformat": 4,
 "nbformat_minor": 2
}
